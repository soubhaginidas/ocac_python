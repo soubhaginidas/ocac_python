{
  "nbformat": 4,
  "nbformat_minor": 0,
  "metadata": {
    "colab": {
      "provenance": []
    },
    "kernelspec": {
      "name": "python3",
      "display_name": "Python 3"
    },
    "language_info": {
      "name": "python"
    }
  },
  "cells": [
    {
      "cell_type": "code",
      "execution_count": null,
      "metadata": {
        "id": "NbOPGQwRP_5g"
      },
      "outputs": [],
      "source": [
        "1. check Maximum number of a list of numbers in Python\n",
        "2. Python Program for factorial of a number\n",
        "3. Python Program for simple interest\n",
        "4. Python Program for compound interest\n",
        "5. Python Program to check Armstrong Number\n",
        "6. Python Program for Program to find area of a circle\n",
        "7. Python program to print all Prime numbers in an Interval\n",
        "8. Python program to check whether a number is Prime or not\n",
        "9. Python Program for n-th Fibonacci number\n",
        "10. Python Program for How to check if a given number is Fibonacci number?\n",
        "11. Python Program for n\\’th multiple of a number in Fibonacci Series\n",
        "12. Python Program for Sum of squares of first n natural numbers\n",
        "13. Python Program for cube sum of first n natural numbers"
      ]
    },
    {
      "cell_type": "code",
      "source": [
        "# Example list of numbers\n",
        "numbers = [3, 7, 2, 9, 4, 1, 8]\n",
        "maximum_number = max(numbers)\n",
        "print(f\"The maximum number in the list is: {maximum_number}\")"
      ],
      "metadata": {
        "colab": {
          "base_uri": "https://localhost:8080/"
        },
        "id": "J7dXZqUsIVkw",
        "outputId": "7ed5700e-45f9-4716-963e-a8bc0b6adeed"
      },
      "execution_count": null,
      "outputs": [
        {
          "output_type": "stream",
          "name": "stdout",
          "text": [
            "The maximum number in the list is: 9\n"
          ]
        }
      ]
    },
    {
      "cell_type": "code",
      "source": [
        "def factorial_iterative(n):\n",
        "    factorial = 1\n",
        "    for i in range(1, n + 1):\n",
        "        factorial *= i\n",
        "    return factorial\n",
        "# Example usage\n",
        "number = 3\n",
        "print(f\"The factorial of {number} is: {factorial_iterative(number)}\")\n"
      ],
      "metadata": {
        "colab": {
          "base_uri": "https://localhost:8080/"
        },
        "id": "STK8pWByIWgn",
        "outputId": "22f539aa-5e6b-412f-d154-96b4f7f3849e"
      },
      "execution_count": null,
      "outputs": [
        {
          "output_type": "stream",
          "name": "stdout",
          "text": [
            "The factorial of 3 is: 6\n"
          ]
        }
      ]
    },
    {
      "cell_type": "code",
      "source": [
        "def calculate_simple_interest(principal, rate, time):\n",
        "    # Calculate simple interest\n",
        "    simple_interest = (principal * rate * time) / 100\n",
        "    return simple_interest\n",
        "principal = 1000\n",
        "rate = 5\n",
        "time = 3\n",
        "simple_interest = calculate_simple_interest(principal, rate, time)\n",
        "print(f\"The simple interest is: ${simple_interest:.2f}\")\n"
      ],
      "metadata": {
        "colab": {
          "base_uri": "https://localhost:8080/"
        },
        "id": "4PBw5ysjIW-h",
        "outputId": "06f833a5-4cfb-4416-fd8c-e8880447e0c2"
      },
      "execution_count": null,
      "outputs": [
        {
          "output_type": "stream",
          "name": "stdout",
          "text": [
            "The simple interest is: $150.00\n"
          ]
        }
      ]
    },
    {
      "cell_type": "code",
      "source": [
        "def calculate_compound_interest(principal, rate, time):\n",
        "    # Calculate the amount\n",
        "    amount = principal * (1 + rate / 100) ** time\n",
        "    # Calculate compound interest\n",
        "    compound_interest = amount - principal\n",
        "    return compound_interest\n",
        "principal = 1000\n",
        "rate = 5\n",
        "time = 3\n",
        "compound_interest = calculate_compound_interest(principal, rate, time)\n",
        "print(f\"The compound interest is: ${compound_interest:.2f}\")\n"
      ],
      "metadata": {
        "colab": {
          "base_uri": "https://localhost:8080/"
        },
        "id": "IXzkXLXeIXZJ",
        "outputId": "adc863d8-683a-44c6-d3ec-68fb1641eb65"
      },
      "execution_count": null,
      "outputs": [
        {
          "output_type": "stream",
          "name": "stdout",
          "text": [
            "The compound interest is: $157.63\n"
          ]
        }
      ]
    },
    {
      "cell_type": "code",
      "source": [
        "def is_armstrong_number(number):\n",
        "    digits = str(number)\n",
        "    num_digits = len(digits)\n",
        "    sum_of_powers = sum(int(digit) ** num_digits for digit in digits)\n",
        "    return sum_of_powers == number\n",
        "number = 153\n",
        "if is_armstrong_number(number):\n",
        "    print(f\"{number} is an Armstrong number.\")\n",
        "else:\n",
        "    print(f\"{number} is not an Armstrong number.\")\n"
      ],
      "metadata": {
        "colab": {
          "base_uri": "https://localhost:8080/"
        },
        "id": "S-lCSCf4IX3F",
        "outputId": "6857d07a-7f16-4b6c-875b-1006fca18709"
      },
      "execution_count": null,
      "outputs": [
        {
          "output_type": "stream",
          "name": "stdout",
          "text": [
            "153 is an Armstrong number.\n"
          ]
        }
      ]
    },
    {
      "cell_type": "code",
      "source": [
        "import math\n",
        "\n",
        "def calculate_area_of_circle(radius):\n",
        "    # Calculate the area using the formula πr²\n",
        "    area = math.pi * radius ** 2\n",
        "    return area\n",
        "\n",
        "# Example usage\n",
        "radius = 5\n",
        "area = calculate_area_of_circle(radius)\n",
        "print(f\"The area of the circle with radius {radius} is: {area:.2f}\")\n"
      ],
      "metadata": {
        "colab": {
          "base_uri": "https://localhost:8080/"
        },
        "id": "tfjLqXtLIdUI",
        "outputId": "81590ffa-a0d3-4584-f890-91f05a5d4c1f"
      },
      "execution_count": null,
      "outputs": [
        {
          "output_type": "stream",
          "name": "stdout",
          "text": [
            "The area of the circle with radius 5 is: 78.54\n"
          ]
        }
      ]
    },
    {
      "cell_type": "code",
      "source": [
        "def is_prime(n):\n",
        "    # A number less than 2 is not prime\n",
        "    if n < 2:\n",
        "        return False\n",
        "    # Check divisibility from 2 to the square root of n\n",
        "    for i in range(2, int(n ** 0.5) + 1):\n",
        "        if n % i == 0:\n",
        "            return False\n",
        "    return True\n",
        "\n",
        "def print_primes_in_interval(start, end):\n",
        "    for num in range(start, end + 1):\n",
        "        if is_prime(num):\n",
        "            print(num, end=\" \")\n",
        "\n",
        "# Example usage\n",
        "start = 10\n",
        "end = 50\n",
        "print(f\"Prime numbers between {start} and {end} are:\")\n",
        "print_primes_in_interval(start, end)\n"
      ],
      "metadata": {
        "colab": {
          "base_uri": "https://localhost:8080/"
        },
        "id": "9qSzBphJIdsm",
        "outputId": "d3febf7b-9fcb-46e7-f43f-c3008e0440b2"
      },
      "execution_count": null,
      "outputs": [
        {
          "output_type": "stream",
          "name": "stdout",
          "text": [
            "Prime numbers between 10 and 50 are:\n",
            "11 13 17 19 23 29 31 37 41 43 47 "
          ]
        }
      ]
    },
    {
      "cell_type": "code",
      "source": [
        "def is_prime(number):\n",
        "    # A number less than 2 is not prime\n",
        "    if number <= 1:\n",
        "        return False\n",
        "    # Check divisibility from 2 to the square root of number\n",
        "    for i in range(2, int(number ** 0.5) + 1):\n",
        "        if number % i == 0:\n",
        "            return False\n",
        "    return True\n",
        "\n",
        "# Example usage\n",
        "number = int(input(\"Enter a number: \"))\n",
        "if is_prime(number):\n",
        "    print(f\"{number} is a prime number.\")\n",
        "else:\n",
        "    print(f\"{number} is not a prime number.\")\n"
      ],
      "metadata": {
        "colab": {
          "base_uri": "https://localhost:8080/"
        },
        "id": "ysNGWFD8Ies7",
        "outputId": "65357e05-992f-4486-8a63-4ca615f61860"
      },
      "execution_count": null,
      "outputs": [
        {
          "output_type": "stream",
          "name": "stdout",
          "text": [
            "Enter a number: 10\n",
            "10 is not a prime number.\n"
          ]
        }
      ]
    },
    {
      "cell_type": "code",
      "source": [
        "def fibonacci_recursive(n):\n",
        "    if n <= 0:\n",
        "        return \"Invalid input: n must be a positive integer.\"\n",
        "    elif n == 1:\n",
        "        return 0\n",
        "    elif n == 2:\n",
        "        return 1\n",
        "    else:\n",
        "        return fibonacci_recursive(n - 1) + fibonacci_recursive(n - 2)\n",
        "\n",
        "# Example usage\n",
        "n = int(input(\"Enter the position (n) to find the n-th Fibonacci number: \"))\n",
        "print(f\"The {n}-th Fibonacci number is: {fibonacci_recursive(n)}\")\n"
      ],
      "metadata": {
        "colab": {
          "base_uri": "https://localhost:8080/"
        },
        "id": "bdapIemufBAK",
        "outputId": "2a3c8e6b-044c-4166-e5eb-790c04da62d8"
      },
      "execution_count": null,
      "outputs": [
        {
          "output_type": "stream",
          "name": "stdout",
          "text": [
            "Enter the position (n) to find the n-th Fibonacci number: 3\n",
            "The 3-th Fibonacci number is: 1\n"
          ]
        }
      ]
    },
    {
      "cell_type": "code",
      "source": [
        "import math\n",
        "\n",
        "def is_perfect_square(x):\n",
        "    if x < 0:\n",
        "        return False\n",
        "    s = int(math.sqrt(x))\n",
        "    return s * s == x\n",
        "\n",
        "def is_fibonacci(n):\n",
        "    # Check if one of 5*n^2 + 4 or 5*n^2 - 4 is a perfect square\n",
        "    return is_perfect_square(5 * n * n + 4) or is_perfect_square(5 * n * n - 4)\n",
        "\n",
        "# Example usage\n",
        "number = int(input(\"Enter a number: \"))\n",
        "if is_fibonacci(number):\n",
        "    print(f\"{number} is a Fibonacci number.\")\n",
        "else:\n",
        "    print(f\"{number} is not a Fibonacci number.\")\n"
      ],
      "metadata": {
        "colab": {
          "base_uri": "https://localhost:8080/"
        },
        "id": "Q8eoOFnhfS-F",
        "outputId": "14faa091-57bb-4107-85fa-9ce50924359f"
      },
      "execution_count": null,
      "outputs": [
        {
          "output_type": "stream",
          "name": "stdout",
          "text": [
            "Enter a number: 5\n",
            "5 is a Fibonacci number.\n"
          ]
        }
      ]
    },
    {
      "cell_type": "code",
      "source": [
        "def generate_fibonacci(limit):\n",
        "    fib_sequence = [0, 1]\n",
        "    while True:\n",
        "        next_fib = fib_sequence[-1] + fib_sequence[-2]\n",
        "        if next_fib > limit:\n",
        "            break\n",
        "        fib_sequence.append(next_fib)\n",
        "    return fib_sequence\n",
        "\n",
        "def nth_multiple_of_fibonacci(n, multiple):\n",
        "    # Generate a large enough Fibonacci sequence\n",
        "    limit = 10**6  # Adjust limit as needed\n",
        "    fib_sequence = generate_fibonacci(limit)\n",
        "\n",
        "    # Filter Fibonacci numbers that are multiples of the given number\n",
        "    multiples = [fib for fib in fib_sequence if fib % multiple == 0]\n",
        "\n",
        "    # Return the n-th multiple if it exists\n",
        "    if n <= len(multiples):\n",
        "        return multiples[n-1]\n",
        "    else:\n",
        "        return \"Not enough multiples found within the limit.\"\n",
        "\n",
        "# Example usage\n",
        "n = int(input(\"Enter the position (n): \"))\n",
        "multiple = int(input(\"Enter the number to check multiples of: \"))\n",
        "\n",
        "result = nth_multiple_of_fibonacci(n, multiple)\n",
        "print(f\"The {n}-th multiple of {multiple} in the Fibonacci series is: {result}\")\n"
      ],
      "metadata": {
        "colab": {
          "base_uri": "https://localhost:8080/"
        },
        "id": "LrpAE7cmfrZY",
        "outputId": "23803e16-b1f0-4f65-ba22-31d9ad23e13b"
      },
      "execution_count": null,
      "outputs": [
        {
          "output_type": "stream",
          "name": "stdout",
          "text": [
            "Enter the position (n): 10\n",
            "Enter the number to check multiples of: 10\n",
            "The 10-th multiple of 10 in the Fibonacci series is: Not enough multiples found within the limit.\n"
          ]
        }
      ]
    },
    {
      "cell_type": "code",
      "source": [
        "def sum_of_squares_formula(n):\n",
        "    return (n * (n + 1) * (2 * n + 1)) // 6\n",
        "\n",
        "# Example usage\n",
        "n = int(input(\"Enter the number of natural numbers: \"))\n",
        "print(f\"The sum of squares of the first {n} natural numbers is: {sum_of_squares_formula(n)}\")\n"
      ],
      "metadata": {
        "colab": {
          "base_uri": "https://localhost:8080/"
        },
        "id": "J_2qRvDXgAPK",
        "outputId": "26e3f978-b36d-4047-d2b5-671e780c3f38"
      },
      "execution_count": null,
      "outputs": [
        {
          "output_type": "stream",
          "name": "stdout",
          "text": [
            "Enter the number of natural numbers: 7\n",
            "The sum of squares of the first 7 natural numbers is: 140\n"
          ]
        }
      ]
    },
    {
      "cell_type": "code",
      "source": [
        "def sum_of_cubes(n):\n",
        "    sum_n = n * (n + 1) // 2\n",
        "    return sum_n * sum_n\n",
        "\n",
        "# Example usage\n",
        "n = int(input(\"Enter the number of natural numbers: \"))\n",
        "print(f\"The sum of cubes of the first {n} natural numbers is: {sum_of_cubes(n)}\")\n"
      ],
      "metadata": {
        "colab": {
          "base_uri": "https://localhost:8080/"
        },
        "id": "yCVsqvLQgRpn",
        "outputId": "1823cf20-f097-44fb-9a4c-d92e8ecabcc5"
      },
      "execution_count": null,
      "outputs": [
        {
          "output_type": "stream",
          "name": "stdout",
          "text": [
            "Enter the number of natural numbers: 2\n",
            "The sum of cubes of the first 2 natural numbers is: 9\n"
          ]
        }
      ]
    },
    {
      "cell_type": "code",
      "source": [],
      "metadata": {
        "id": "yAixqgKIghlg"
      },
      "execution_count": null,
      "outputs": []
    }
  ]
}