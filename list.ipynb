{
 "cells": [
  {
   "cell_type": "markdown",
   "id": "8f935d8e-1e94-4ad0-8ae9-da5d941048dc",
   "metadata": {},
   "source": [
    "Range()"
   ]
  },
  {
   "cell_type": "code",
   "execution_count": 1,
   "id": "f728bc5f-67ac-4dd5-b533-904508d33dc8",
   "metadata": {},
   "outputs": [
    {
     "data": {
      "text/plain": [
       "range(0, 20)"
      ]
     },
     "execution_count": 1,
     "metadata": {},
     "output_type": "execute_result"
    }
   ],
   "source": [
    "range(20)"
   ]
  },
  {
   "cell_type": "code",
   "execution_count": 2,
   "id": "0e384961-b3d4-4c20-a7e9-088746d0747b",
   "metadata": {},
   "outputs": [
    {
     "data": {
      "text/plain": [
       "[0, 1, 2, 3, 4, 5, 6, 7, 8, 9, 10, 11, 12, 13, 14, 15, 16, 17, 18, 19]"
      ]
     },
     "execution_count": 2,
     "metadata": {},
     "output_type": "execute_result"
    }
   ],
   "source": [
    "list(range(20))"
   ]
  },
  {
   "cell_type": "code",
   "execution_count": 3,
   "id": "8cd149cc-b3cb-416a-b640-bf3b3ea14a2a",
   "metadata": {},
   "outputs": [
    {
     "data": {
      "text/plain": [
       "[1, 2, 3, 4, 5, 6, 7, 8, 9, 10, 11, 12, 13, 14, 15, 16, 17, 18, 19, 20]"
      ]
     },
     "execution_count": 3,
     "metadata": {},
     "output_type": "execute_result"
    }
   ],
   "source": [
    "list(range(1,21))"
   ]
  },
  {
   "cell_type": "code",
   "execution_count": 6,
   "id": "5544d427-b2fe-42e1-bbc0-d031323dd7ba",
   "metadata": {},
   "outputs": [
    {
     "name": "stdout",
     "output_type": "stream",
     "text": [
      "[1, 3, 5, 7, 9, 11, 13, 15, 17, 19]\n"
     ]
    }
   ],
   "source": [
    "print(list(range(1,21,2)))"
   ]
  },
  {
   "cell_type": "code",
   "execution_count": 7,
   "id": "4bd26c18-3bee-46f1-9875-55051cd6ce7d",
   "metadata": {},
   "outputs": [
    {
     "name": "stdout",
     "output_type": "stream",
     "text": [
      "[10, 13, 16, 19]\n"
     ]
    }
   ],
   "source": [
    "print(list(range(10,20,3)))"
   ]
  },
  {
   "cell_type": "code",
   "execution_count": 9,
   "id": "9d4d74fc-d41f-4457-a8a6-c112639e5698",
   "metadata": {},
   "outputs": [
    {
     "name": "stdout",
     "output_type": "stream",
     "text": [
      "[200, 199, 198, 197, 196, 195, 194, 193, 192, 191, 190, 189, 188, 187, 186, 185, 184, 183, 182, 181, 180, 179, 178, 177, 176, 175, 174, 173, 172, 171, 170, 169, 168, 167, 166, 165, 164, 163, 162, 161, 160, 159, 158, 157, 156, 155, 154, 153, 152, 151, 150, 149, 148, 147, 146, 145, 144, 143, 142, 141, 140, 139, 138, 137, 136, 135, 134, 133, 132, 131, 130, 129, 128, 127, 126, 125, 124, 123, 122, 121, 120, 119, 118, 117, 116, 115, 114, 113, 112, 111, 110, 109, 108, 107, 106, 105, 104, 103, 102, 101, 100, 99, 98, 97, 96, 95, 94, 93, 92, 91, 90, 89, 88, 87, 86, 85, 84, 83, 82, 81, 80, 79, 78, 77, 76, 75, 74, 73, 72, 71, 70, 69, 68, 67, 66, 65, 64, 63, 62, 61, 60, 59, 58, 57, 56, 55, 54, 53, 52, 51, 50, 49, 48, 47, 46, 45, 44, 43, 42, 41, 40, 39, 38, 37, 36, 35, 34, 33, 32, 31, 30, 29, 28, 27, 26, 25, 24, 23, 22, 21, 20, 19, 18, 17, 16, 15, 14, 13, 12, 11, 10, 9, 8, 7, 6, 5, 4, 3, 2, 1]\n"
     ]
    }
   ],
   "source": [
    "print(list(range(200,0,-1)))"
   ]
  },
  {
   "cell_type": "markdown",
   "id": "f098a941-7c33-4cd5-ad9c-ccec5f482fad",
   "metadata": {},
   "source": [
    "Lists"
   ]
  },
  {
   "cell_type": "code",
   "execution_count": 11,
   "id": "d959e532-a552-4675-93d3-3a54bcc735f7",
   "metadata": {},
   "outputs": [
    {
     "data": {
      "text/plain": [
       "[]"
      ]
     },
     "execution_count": 11,
     "metadata": {},
     "output_type": "execute_result"
    }
   ],
   "source": [
    "a=[]\n",
    "a"
   ]
  },
  {
   "cell_type": "code",
   "execution_count": 12,
   "id": "2bfe3052-a101-440c-84f5-264276b161d5",
   "metadata": {},
   "outputs": [
    {
     "data": {
      "text/plain": [
       "[]"
      ]
     },
     "execution_count": 12,
     "metadata": {},
     "output_type": "execute_result"
    }
   ],
   "source": [
    "a=list()\n",
    "a"
   ]
  },
  {
   "cell_type": "markdown",
   "id": "928d23c7-9314-4869-ae7d-82c18829ae01",
   "metadata": {},
   "source": [
    "List Creation"
   ]
  },
  {
   "cell_type": "code",
   "execution_count": 14,
   "id": "9ca9af14-c083-4d4c-8b85-b85393d926f1",
   "metadata": {},
   "outputs": [
    {
     "data": {
      "text/plain": [
       "[1, 2, 3]"
      ]
     },
     "execution_count": 14,
     "metadata": {},
     "output_type": "execute_result"
    }
   ],
   "source": [
    "a=[1,2,3]\n",
    "a"
   ]
  },
  {
   "cell_type": "code",
   "execution_count": 15,
   "id": "66058a37-52a5-4d2a-a91a-b47ab36efcff",
   "metadata": {},
   "outputs": [
    {
     "data": {
      "text/plain": [
       "list"
      ]
     },
     "execution_count": 15,
     "metadata": {},
     "output_type": "execute_result"
    }
   ],
   "source": [
    "type(a)"
   ]
  },
  {
   "cell_type": "code",
   "execution_count": 20,
   "id": "e6d27917-5501-4978-8c19-ef73d863e157",
   "metadata": {},
   "outputs": [
    {
     "data": {
      "text/plain": [
       "[0, 1, 34, 9.0, (2+3j), True, 'sakkina']"
      ]
     },
     "execution_count": 20,
     "metadata": {},
     "output_type": "execute_result"
    }
   ],
   "source": [
    "a=[0,1,34,9.0,2+3j,True,'sakkina']\n",
    "a"
   ]
  },
  {
   "cell_type": "code",
   "execution_count": 22,
   "id": "05aff63c-3148-4971-9669-f9931f24768f",
   "metadata": {},
   "outputs": [
    {
     "data": {
      "text/plain": [
       "[[1, 2, 3], [45, 67], 23]"
      ]
     },
     "execution_count": 22,
     "metadata": {},
     "output_type": "execute_result"
    }
   ],
   "source": [
    "a=[[1,2,3],[45,67],23]\n",
    "a"
   ]
  },
  {
   "cell_type": "markdown",
   "id": "a1cd7611-9809-423e-9dcd-f6f0e696246f",
   "metadata": {},
   "source": [
    "Length"
   ]
  },
  {
   "cell_type": "code",
   "execution_count": 23,
   "id": "4273b760-1c38-407d-9b05-e032040ab18f",
   "metadata": {},
   "outputs": [
    {
     "data": {
      "text/plain": [
       "3"
      ]
     },
     "execution_count": 23,
     "metadata": {},
     "output_type": "execute_result"
    }
   ],
   "source": [
    "len(a)"
   ]
  },
  {
   "cell_type": "code",
   "execution_count": 24,
   "id": "d4a419a4-a4f3-47f2-aa5e-76fb21f293d7",
   "metadata": {},
   "outputs": [
    {
     "name": "stdout",
     "output_type": "stream",
     "text": [
      "8\n"
     ]
    }
   ],
   "source": [
    "lis=['one','two','three','four',[1,2,3],5,6,[7,8]]\n",
    "print(len(lis))"
   ]
  },
  {
   "cell_type": "markdown",
   "id": "1c96e138-b1dc-4eb3-a6e6-6de462a8a994",
   "metadata": {},
   "source": [
    "List Indexing"
   ]
  },
  {
   "cell_type": "code",
   "execution_count": 25,
   "id": "ea2e07e4-3cba-4e40-9790-a22dabdf93c0",
   "metadata": {},
   "outputs": [
    {
     "data": {
      "text/plain": [
       "0"
      ]
     },
     "execution_count": 25,
     "metadata": {},
     "output_type": "execute_result"
    }
   ],
   "source": [
    "list1=[0,9,'sakkina']\n",
    "list1[0]"
   ]
  },
  {
   "cell_type": "code",
   "execution_count": 26,
   "id": "94d277ed-14bb-44c2-b74a-f305678570f8",
   "metadata": {},
   "outputs": [
    {
     "data": {
      "text/plain": [
       "'sakkina'"
      ]
     },
     "execution_count": 26,
     "metadata": {},
     "output_type": "execute_result"
    }
   ],
   "source": [
    "list1[2]"
   ]
  },
  {
   "cell_type": "code",
   "execution_count": 27,
   "id": "306f79a5-e571-4612-9fe9-e2f8aeb971e4",
   "metadata": {},
   "outputs": [
    {
     "data": {
      "text/plain": [
       "'sakkina'"
      ]
     },
     "execution_count": 27,
     "metadata": {},
     "output_type": "execute_result"
    }
   ],
   "source": [
    "list1[-1]"
   ]
  },
  {
   "cell_type": "code",
   "execution_count": 28,
   "id": "7fed77bb-85cf-47ba-b10a-c63bc940791a",
   "metadata": {},
   "outputs": [
    {
     "data": {
      "text/plain": [
       "['pkd', 9, 'sakkina']"
      ]
     },
     "execution_count": 28,
     "metadata": {},
     "output_type": "execute_result"
    }
   ],
   "source": [
    "list1[0]='pkd'\n",
    "list1"
   ]
  },
  {
   "cell_type": "markdown",
   "id": "6500ba25-d544-4ef6-b385-566a8a65a8a8",
   "metadata": {},
   "source": [
    "List Slicing"
   ]
  },
  {
   "cell_type": "code",
   "execution_count": 33,
   "id": "a96efd00-c5a8-4029-9157-bd02afab0f69",
   "metadata": {},
   "outputs": [
    {
     "name": "stdout",
     "output_type": "stream",
     "text": [
      "[20, 23, 34, 45, 56, 67, 78, 89, 90]\n",
      "[20, 23, 34, 45, 56, 67, 78, 89, 90]\n",
      "[20, 23, 34, 45, 56, 67, 78, 89]\n",
      "[34, 45, 56, 67, 78]\n",
      "[34, 56, 78, 90]\n",
      "[90, 89, 78, 67, 56, 45, 34, 23, 20]\n"
     ]
    }
   ],
   "source": [
    "num=[20,23,34,45,56,67,78,89,90]\n",
    "print(num[:])\n",
    "print(num[0:])\n",
    "print(num[0:8])\n",
    "print(num[2:7])\n",
    "print(num[2::2])\n",
    "print(num[-1::-1])"
   ]
  },
  {
   "cell_type": "code",
   "execution_count": 35,
   "id": "51fe80f9-f51f-4742-8d0e-1db7a3cec378",
   "metadata": {},
   "outputs": [
    {
     "data": {
      "text/plain": [
       "4"
      ]
     },
     "execution_count": 35,
     "metadata": {},
     "output_type": "execute_result"
    }
   ],
   "source": [
    "n=[1,2,3,[4,5,['target',3,50]]]\n",
    "len(n)"
   ]
  },
  {
   "cell_type": "code",
   "execution_count": 36,
   "id": "41223757-63a8-4c48-8536-942485b23b1a",
   "metadata": {},
   "outputs": [
    {
     "data": {
      "text/plain": [
       "'target'"
      ]
     },
     "execution_count": 36,
     "metadata": {},
     "output_type": "execute_result"
    }
   ],
   "source": [
    "n[3][2][0]"
   ]
  },
  {
   "cell_type": "code",
   "execution_count": 38,
   "id": "960c69d6-a1c8-4d35-8184-29b106134798",
   "metadata": {},
   "outputs": [
    {
     "data": {
      "text/plain": [
       "'hello'"
      ]
     },
     "execution_count": 38,
     "metadata": {},
     "output_type": "execute_result"
    }
   ],
   "source": [
    "p=[1,2,[3,4],[5,[100,200,['hello'],23,11],1,7]]\n",
    "len(p)\n",
    "p[3][1][2][0]"
   ]
  },
  {
   "cell_type": "code",
   "execution_count": 40,
   "id": "195cefab-a66e-4920-b028-db75d4f88ad4",
   "metadata": {},
   "outputs": [
    {
     "data": {
      "text/plain": [
       "[1, 2, [3, 4], [5, [100, 200, ['hello'], 23, 11], 32, 7]]"
      ]
     },
     "execution_count": 40,
     "metadata": {},
     "output_type": "execute_result"
    }
   ],
   "source": [
    "p[3][2]=32\n",
    "p"
   ]
  },
  {
   "cell_type": "markdown",
   "id": "8b7901a8-a78d-4150-8adc-2f7eaea8867d",
   "metadata": {},
   "source": [
    "List Concatination"
   ]
  },
  {
   "cell_type": "code",
   "execution_count": 41,
   "id": "da7d02b6-fb00-44e7-aed5-5def96434c92",
   "metadata": {},
   "outputs": [
    {
     "data": {
      "text/plain": [
       "['soubhagini', 'das', 'from', 'jajpur']"
      ]
     },
     "execution_count": 41,
     "metadata": {},
     "output_type": "execute_result"
    }
   ],
   "source": [
    "name=['soubhagini','das']\n",
    "city=['from','jajpur']\n",
    "name+city"
   ]
  },
  {
   "cell_type": "markdown",
   "id": "9ea8ff07-22a7-483c-8e40-a12a8514fc9d",
   "metadata": {},
   "source": [
    "Append"
   ]
  },
  {
   "cell_type": "code",
   "execution_count": 42,
   "id": "c50af058-c688-45a5-b2b2-947e52f39087",
   "metadata": {},
   "outputs": [
    {
     "data": {
      "text/plain": [
       "['a', 'b', 'c', 'd']"
      ]
     },
     "execution_count": 42,
     "metadata": {},
     "output_type": "execute_result"
    }
   ],
   "source": [
    "list_item=['a','b','c']\n",
    "list_item.append('d')\n",
    "list_item"
   ]
  },
  {
   "cell_type": "code",
   "execution_count": 44,
   "id": "fc665457-cbcc-4cea-81a8-9a5046d85290",
   "metadata": {},
   "outputs": [
    {
     "data": {
      "text/plain": [
       "['a', 'b', 'c', ['d', 'e']]"
      ]
     },
     "execution_count": 44,
     "metadata": {},
     "output_type": "execute_result"
    }
   ],
   "source": [
    "list_item=['a','b','c']\n",
    "list_item.append(['d','e'])\n",
    "list_item"
   ]
  },
  {
   "cell_type": "markdown",
   "id": "e5a4b48a-f5a7-407d-a0e9-4858a7fcfe8f",
   "metadata": {},
   "source": [
    "Extend"
   ]
  },
  {
   "cell_type": "code",
   "execution_count": 45,
   "id": "9409bde7-22a6-449d-a309-4414049d61f1",
   "metadata": {},
   "outputs": [
    {
     "data": {
      "text/plain": [
       "[1, 2, 3, 4, 5, 6, 7, 8, 9, 10]"
      ]
     },
     "execution_count": 45,
     "metadata": {},
     "output_type": "execute_result"
    }
   ],
   "source": [
    "l=[1,2,3,4,5,6,7,8]\n",
    "l.extend([9,10])\n",
    "l"
   ]
  },
  {
   "cell_type": "markdown",
   "id": "d190a551-d595-4187-91e0-eee823cb46e5",
   "metadata": {},
   "source": [
    "Insert"
   ]
  },
  {
   "cell_type": "code",
   "execution_count": 47,
   "id": "aead2d90-8586-4c4c-baad-8d71f8379ba6",
   "metadata": {},
   "outputs": [
    {
     "data": {
      "text/plain": [
       "['opple', 'ball', 'cat', 'dog']"
      ]
     },
     "execution_count": 47,
     "metadata": {},
     "output_type": "execute_result"
    }
   ],
   "source": [
    "#list.insert(x,y)=will add element y at location x\n",
    "a=['opple','ball','cat']\n",
    "a.insert(3,'dog')\n",
    "a"
   ]
  },
  {
   "cell_type": "markdown",
   "id": "46f6a93c-7371-46e9-a6ad-6492e1f4166e",
   "metadata": {},
   "source": [
    "Remove"
   ]
  },
  {
   "cell_type": "code",
   "execution_count": 49,
   "id": "5ff1bb36-f63b-44f4-986b-39aa937e9769",
   "metadata": {},
   "outputs": [
    {
     "data": {
      "text/plain": [
       "[1, 45, 54, 34, 23, 56, 76, 87, 67, 98, 55]"
      ]
     },
     "execution_count": 49,
     "metadata": {},
     "output_type": "execute_result"
    }
   ],
   "source": [
    " values=[1,23,45,54,34,23,56,76,87,67,98,55]\n",
    "values.remove(23)\n",
    "values"
   ]
  },
  {
   "cell_type": "code",
   "execution_count": 50,
   "id": "0bd58ed6-6700-4f0c-b73a-fc27c7f45251",
   "metadata": {},
   "outputs": [
    {
     "data": {
      "text/plain": [
       "['one', 'two', 'three', 'four']"
      ]
     },
     "execution_count": 50,
     "metadata": {},
     "output_type": "execute_result"
    }
   ],
   "source": [
    "lst=['one',[1,2,'two'],'two','three','four']\n",
    "lst.remove(lst[1])\n",
    "lst"
   ]
  },
  {
   "cell_type": "markdown",
   "id": "108edcc5-ab97-47d6-b077-55b168c9a9ec",
   "metadata": {},
   "source": [
    "Clear"
   ]
  },
  {
   "cell_type": "code",
   "execution_count": 51,
   "id": "c7430ef3-a672-4c4f-b1a2-454f94d774df",
   "metadata": {},
   "outputs": [
    {
     "data": {
      "text/plain": [
       "[]"
      ]
     },
     "execution_count": 51,
     "metadata": {},
     "output_type": "execute_result"
    }
   ],
   "source": [
    "a=[1,2,3,4,5]\n",
    "a.clear()\n",
    "a"
   ]
  },
  {
   "cell_type": "markdown",
   "id": "e7d5b0e4-929f-468c-8633-f7be1d7584c7",
   "metadata": {},
   "source": [
    "Pop"
   ]
  },
  {
   "cell_type": "code",
   "execution_count": 52,
   "id": "46ba1a30-2b68-4a4a-b669-784227cb0937",
   "metadata": {},
   "outputs": [
    {
     "data": {
      "text/plain": [
       "['one', 'two', 'three', 'four']"
      ]
     },
     "execution_count": 52,
     "metadata": {},
     "output_type": "execute_result"
    }
   ],
   "source": [
    "a=['one','two','three','four','five']\n",
    "a.pop()\n",
    "a"
   ]
  },
  {
   "cell_type": "code",
   "execution_count": 53,
   "id": "fff594fa-78cf-44a7-8fed-87efa7d46541",
   "metadata": {},
   "outputs": [
    {
     "data": {
      "text/plain": [
       "['one', 'three', 'four', 'five']"
      ]
     },
     "execution_count": 53,
     "metadata": {},
     "output_type": "execute_result"
    }
   ],
   "source": [
    "a=['one','two','three','four','five']\n",
    "a.pop(1)\n",
    "a"
   ]
  },
  {
   "cell_type": "markdown",
   "id": "f8e7d185-9a7b-41fa-8328-c5c05b33b844",
   "metadata": {},
   "source": [
    "Delete"
   ]
  },
  {
   "cell_type": "code",
   "execution_count": 54,
   "id": "dedcb5af-2001-4d1c-9a9e-788d06d17b45",
   "metadata": {},
   "outputs": [
    {
     "data": {
      "text/plain": [
       "['two', 'three', 'four', 'five']"
      ]
     },
     "execution_count": 54,
     "metadata": {},
     "output_type": "execute_result"
    }
   ],
   "source": [
    "a=['one','two','three','four','five']\n",
    "del a[0]\n",
    "a"
   ]
  },
  {
   "cell_type": "code",
   "execution_count": 57,
   "id": "57054874-4be1-41b5-9af7-0aa4ccfbc874",
   "metadata": {},
   "outputs": [
    {
     "data": {
      "text/plain": [
       "[23, 56, 76, 87, 67, 98, 55]"
      ]
     },
     "execution_count": 57,
     "metadata": {},
     "output_type": "execute_result"
    }
   ],
   "source": [
    "values=[1,23,45,54,34,23,56,76,87,67,98,55]\n",
    "del values[0:5]\n",
    "values"
   ]
  },
  {
   "cell_type": "markdown",
   "id": "b0731132-81c3-4f96-b26a-b87c7215cf84",
   "metadata": {},
   "source": [
    "Reverse"
   ]
  },
  {
   "cell_type": "code",
   "execution_count": 58,
   "id": "0f65679e-6cea-4120-ab7e-e9d9664528a2",
   "metadata": {},
   "outputs": [
    {
     "data": {
      "text/plain": [
       "['five', 'four', 'three', 'two', 'one']"
      ]
     },
     "execution_count": 58,
     "metadata": {},
     "output_type": "execute_result"
    }
   ],
   "source": [
    "a=['one','two','three','four','five']\n",
    "a.reverse()\n",
    "a"
   ]
  },
  {
   "cell_type": "markdown",
   "id": "8fd80c57-0aa7-4654-8870-b724d04b8d4c",
   "metadata": {},
   "source": [
    "Sorting"
   ]
  },
  {
   "cell_type": "code",
   "execution_count": 59,
   "id": "fb247906-e09e-43b7-a54f-f515bcd19ab9",
   "metadata": {},
   "outputs": [
    {
     "data": {
      "text/plain": [
       "[2, 3, 5, 6, 8]"
      ]
     },
     "execution_count": 59,
     "metadata": {},
     "output_type": "execute_result"
    }
   ],
   "source": [
    "num=[2,5,6,3,8]\n",
    "sorted(num)"
   ]
  },
  {
   "cell_type": "code",
   "execution_count": 60,
   "id": "31fc6665-e083-479f-9ce4-5e41471a2c19",
   "metadata": {},
   "outputs": [
    {
     "data": {
      "text/plain": [
       "[8, 6, 5, 3, 2]"
      ]
     },
     "execution_count": 60,
     "metadata": {},
     "output_type": "execute_result"
    }
   ],
   "source": [
    "sorted(num,reverse=True)"
   ]
  },
  {
   "cell_type": "code",
   "execution_count": 62,
   "id": "3a6839c0-c04a-45f3-9166-7224196576d0",
   "metadata": {},
   "outputs": [
    {
     "data": {
      "text/plain": [
       "[1, 2, 3, 6, 7, 9.0]"
      ]
     },
     "execution_count": 62,
     "metadata": {},
     "output_type": "execute_result"
    }
   ],
   "source": [
    "num1=[2,3,1,7,6,9.0]\n",
    "num1.sort()\n",
    "num1"
   ]
  },
  {
   "cell_type": "code",
   "execution_count": 63,
   "id": "e8dc1454-434a-460f-890f-f72ced54ed73",
   "metadata": {},
   "outputs": [
    {
     "ename": "TypeError",
     "evalue": "'<' not supported between instances of 'str' and 'int'",
     "output_type": "error",
     "traceback": [
      "\u001b[1;31m---------------------------------------------------------------------------\u001b[0m",
      "\u001b[1;31mTypeError\u001b[0m                                 Traceback (most recent call last)",
      "Cell \u001b[1;32mIn[63], line 2\u001b[0m\n\u001b[0;32m      1\u001b[0m a\u001b[38;5;241m=\u001b[39m[\u001b[38;5;241m1\u001b[39m,\u001b[38;5;241m50\u001b[39m,\u001b[38;5;241m89\u001b[39m,\u001b[38;5;241m51\u001b[39m,\u001b[38;5;124m'\u001b[39m\u001b[38;5;124ma\u001b[39m\u001b[38;5;124m'\u001b[39m,\u001b[38;5;124m'\u001b[39m\u001b[38;5;124mTrue\u001b[39m\u001b[38;5;124m'\u001b[39m]\n\u001b[1;32m----> 2\u001b[0m a\u001b[38;5;241m.\u001b[39msort()\n\u001b[0;32m      3\u001b[0m a\n",
      "\u001b[1;31mTypeError\u001b[0m: '<' not supported between instances of 'str' and 'int'"
     ]
    }
   ],
   "source": [
    "a=[1,50,89,51,'a','True']\n",
    "a.sort()\n",
    "a"
   ]
  },
  {
   "cell_type": "markdown",
   "id": "103c52c8-697a-4b6c-868f-e3a9dd689549",
   "metadata": {},
   "source": [
    "Count"
   ]
  },
  {
   "cell_type": "code",
   "execution_count": 65,
   "id": "3070a940-de9e-449f-9f7a-5e2a5751e9f0",
   "metadata": {},
   "outputs": [
    {
     "name": "stdout",
     "output_type": "stream",
     "text": [
      "3\n",
      "1\n"
     ]
    }
   ],
   "source": [
    "num=[1,2,3,4,5,1,6,7,8,9,1]\n",
    "print(num.count(1))\n",
    "print(num.count(3))"
   ]
  },
  {
   "cell_type": "markdown",
   "id": "525fc6fe-9a08-4851-8016-9049e0434e7f",
   "metadata": {},
   "source": [
    "Copy"
   ]
  },
  {
   "cell_type": "code",
   "execution_count": 67,
   "id": "9434071f-8cf4-464e-8f83-4615a7d6ccf4",
   "metadata": {},
   "outputs": [
    {
     "name": "stdout",
     "output_type": "stream",
     "text": [
      "[1, 2, 3, 4]\n",
      "[1, 2, 3, 4]\n"
     ]
    }
   ],
   "source": [
    "a=[1,2,3]  #shallow copy\n",
    "b=a\n",
    "b.append(4)\n",
    "print(a)\n",
    "print(b)"
   ]
  },
  {
   "cell_type": "code",
   "execution_count": 68,
   "id": "48abca78-d8c3-4576-b23e-d16b2dbd9660",
   "metadata": {},
   "outputs": [
    {
     "name": "stdout",
     "output_type": "stream",
     "text": [
      "[1, 2, 3]\n",
      "[1, 2, 3, 4]\n"
     ]
    }
   ],
   "source": [
    "#Deep copy\n",
    "a=[1,2,3] \n",
    "b=a.copy()\n",
    "b.append(4)\n",
    "print(a)\n",
    "print(b)"
   ]
  },
  {
   "cell_type": "markdown",
   "id": "eae68bde-c8aa-46a7-8b56-dc4c8a6b72a9",
   "metadata": {},
   "source": [
    "Index"
   ]
  },
  {
   "cell_type": "code",
   "execution_count": 72,
   "id": "63c730bc-2ce8-4247-88a5-73916210d387",
   "metadata": {},
   "outputs": [
    {
     "name": "stdout",
     "output_type": "stream",
     "text": [
      "2\n",
      "8\n",
      "14\n"
     ]
    }
   ],
   "source": [
    "a=[2,4,8]\n",
    "a.index(8)\n",
    "print(min(a))\n",
    "print(max(a))\n",
    "print(sum(a))"
   ]
  },
  {
   "cell_type": "code",
   "execution_count": null,
   "id": "8feefc10-5fc0-4eeb-aff9-755b44b909e3",
   "metadata": {},
   "outputs": [],
   "source": []
  }
 ],
 "metadata": {
  "kernelspec": {
   "display_name": "Python 3 (ipykernel)",
   "language": "python",
   "name": "python3"
  },
  "language_info": {
   "codemirror_mode": {
    "name": "ipython",
    "version": 3
   },
   "file_extension": ".py",
   "mimetype": "text/x-python",
   "name": "python",
   "nbconvert_exporter": "python",
   "pygments_lexer": "ipython3",
   "version": "3.11.7"
  }
 },
 "nbformat": 4,
 "nbformat_minor": 5
}
