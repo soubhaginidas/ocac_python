{
 "cells": [
  {
   "cell_type": "code",
   "execution_count": 3,
   "id": "7f59fa6d-d8ce-4329-a368-8b9e7d07fdc4",
   "metadata": {},
   "outputs": [
    {
     "name": "stdin",
     "output_type": "stream",
     "text": [
      "enter a number: 111\n"
     ]
    },
    {
     "name": "stdout",
     "output_type": "stream",
     "text": [
      "yes,it is a palindrome\n"
     ]
    }
   ],
   "source": [
    "s=input(\"enter a number:\")\n",
    "reverse=s[ : :-1]\n",
    "if(s==reverse): \n",
    "    print(\"yes,it is a palindrome\")\n",
    "else:\n",
    "    print(\"no,it is not a palindrome\")"
   ]
  },
  {
   "cell_type": "code",
   "execution_count": null,
   "id": "d5727ba8-b912-4505-a6c6-d6acb96d95ba",
   "metadata": {},
   "outputs": [],
   "source": []
  }
 ],
 "metadata": {
  "kernelspec": {
   "display_name": "Python 3 (ipykernel)",
   "language": "python",
   "name": "python3"
  },
  "language_info": {
   "codemirror_mode": {
    "name": "ipython",
    "version": 3
   },
   "file_extension": ".py",
   "mimetype": "text/x-python",
   "name": "python",
   "nbconvert_exporter": "python",
   "pygments_lexer": "ipython3",
   "version": "3.11.7"
  }
 },
 "nbformat": 4,
 "nbformat_minor": 5
}
