{
 "cells": [
  {
   "cell_type": "markdown",
   "id": "c99d3a33-b2d1-489e-ae64-c290962780d9",
   "metadata": {},
   "source": [
    "Conditional Statement"
   ]
  },
  {
   "cell_type": "markdown",
   "id": "8b46db53-4202-4141-bede-1c2a31afba1b",
   "metadata": {},
   "source": [
    "if:"
   ]
  },
  {
   "cell_type": "markdown",
   "id": "e35ce8ee-5189-4d0e-a942-7e6237d0ff15",
   "metadata": {},
   "source": [
    "if(condition):\n",
    "     block of statement #it will execute when block of code is true"
   ]
  },
  {
   "cell_type": "code",
   "execution_count": 11,
   "id": "992f1d35-7a81-4317-a98f-14a60f21482f",
   "metadata": {},
   "outputs": [
    {
     "name": "stdout",
     "output_type": "stream",
     "text": [
      "sakkina\n",
      "pkd\n"
     ]
    }
   ],
   "source": [
    "if 2<5:\n",
    "    print(\"sakkina\")\n",
    "    print(\"pkd\")"
   ]
  },
  {
   "cell_type": "code",
   "execution_count": 12,
   "id": "91341642-029e-48e0-a95d-1fea303f9960",
   "metadata": {},
   "outputs": [
    {
     "name": "stdout",
     "output_type": "stream",
     "text": [
      "we are correct\n"
     ]
    }
   ],
   "source": [
    "a=9\n",
    "b=8\n",
    "if a!=b:\n",
    "    print(\"we are correct\")"
   ]
  },
  {
   "cell_type": "code",
   "execution_count": 14,
   "id": "03c15a31-bd0a-415a-a9b7-99bed5f7a6c4",
   "metadata": {},
   "outputs": [
    {
     "name": "stdin",
     "output_type": "stream",
     "text": [
      "enter the value of num: 2024\n"
     ]
    }
   ],
   "source": [
    "num=int(input(\"enter the value of num:\"))\n",
    "if num ==\"2024\":\n",
    "    print(\"it is a leap year\")"
   ]
  },
  {
   "cell_type": "markdown",
   "id": "97fd7959-81ec-49d3-b9fa-7edd308301ce",
   "metadata": {},
   "source": [
    "if-else syntax"
   ]
  },
  {
   "cell_type": "code",
   "execution_count": 16,
   "id": "bdd58814-a68f-4d8c-b68f-47c0e81911e9",
   "metadata": {},
   "outputs": [
    {
     "ename": "SyntaxError",
     "evalue": "invalid syntax (574226898.py, line 2)",
     "output_type": "error",
     "traceback": [
      "\u001b[1;36m  Cell \u001b[1;32mIn[16], line 2\u001b[1;36m\u001b[0m\n\u001b[1;33m    body of if  #it will execute when condition is true\u001b[0m\n\u001b[1;37m         ^\u001b[0m\n\u001b[1;31mSyntaxError\u001b[0m\u001b[1;31m:\u001b[0m invalid syntax\n"
     ]
    }
   ],
   "source": [
    "if (condition):\n",
    "    body of if  #it will execute when condition is true \n",
    "else:\n",
    "    body of else  #it will execute when condition is false"
   ]
  },
  {
   "cell_type": "code",
   "execution_count": 17,
   "id": "e05ab9a2-b041-4236-9a63-b2f3938d67a2",
   "metadata": {},
   "outputs": [
    {
     "name": "stdout",
     "output_type": "stream",
     "text": [
      "it is false\n"
     ]
    }
   ],
   "source": [
    "if (9<6):\n",
    "    print(\"it is true\")\n",
    "else:\n",
    "    print(\"it is false\")"
   ]
  },
  {
   "cell_type": "code",
   "execution_count": 18,
   "id": "713bf3a7-cd3b-452e-9326-1adc4f053ed2",
   "metadata": {},
   "outputs": [
    {
     "name": "stdin",
     "output_type": "stream",
     "text": [
      "enter a number 6\n"
     ]
    },
    {
     "name": "stdout",
     "output_type": "stream",
     "text": [
      "number is even\n"
     ]
    }
   ],
   "source": [
    "num=int(input(\"enter a number\"))#modulo operator\n",
    "if(num%2==0):\n",
    "    print(\"number is even\") \n",
    "else:\n",
    "    print(\"number is odd\") "
   ]
  },
  {
   "cell_type": "code",
   "execution_count": 23,
   "id": "477f3f1b-b975-4810-9264-0d3b8144b248",
   "metadata": {},
   "outputs": [
    {
     "name": "stdin",
     "output_type": "stream",
     "text": [
      "enter name sakkina\n"
     ]
    },
    {
     "name": "stdout",
     "output_type": "stream",
     "text": [
      "my name is sakkina \n"
     ]
    }
   ],
   "source": [
    "name=input(\"enter name\")\n",
    "if name==\"sakkina\":\n",
    "    print(\"my name is\" ,name,\"\")\n",
    "else:\n",
    "    print(\"other\")\n"
   ]
  },
  {
   "cell_type": "code",
   "execution_count": 24,
   "id": "c571b7dc-f7be-4d25-ac22-07fc560e96ce",
   "metadata": {},
   "outputs": [
    {
     "name": "stdout",
     "output_type": "stream",
     "text": [
      "yes\n"
     ]
    }
   ],
   "source": [
    "fruits=['orange','banana','apple','coconut','guava']\n",
    "if 'orange' in fruits:\n",
    "    print(\"yes\")\n",
    "else:\n",
    "    print(\"no\")"
   ]
  },
  {
   "cell_type": "code",
   "execution_count": 25,
   "id": "b449117b-3368-4c27-ae0f-68f69a779002",
   "metadata": {},
   "outputs": [
    {
     "name": "stdin",
     "output_type": "stream",
     "text": [
      " 75\n"
     ]
    },
    {
     "name": "stdout",
     "output_type": "stream",
     "text": [
      "it is true\n"
     ]
    }
   ],
   "source": [
    "num=int(input())\n",
    "if num>=9:\n",
    "    print(\"it is true\")\n",
    "else:\n",
    "    print(\"it is not true\")"
   ]
  },
  {
   "cell_type": "code",
   "execution_count": 29,
   "id": "30bbee33-09b5-4f20-9f14-b0c751e5a206",
   "metadata": {},
   "outputs": [
    {
     "name": "stdout",
     "output_type": "stream",
     "text": [
      " 95\n",
      "invalid input\n"
     ]
    }
   ],
   "source": [
    "x=95\n",
    "if(x%2==0):\n",
    "    print(\"it is even no\",x)\n",
    "else:\n",
    "    print(\"\",x)\n",
    "    print(\"invalid input\")"
   ]
  },
  {
   "cell_type": "markdown",
   "id": "f03a2747-d70a-4de3-84a7-42a2bbbc0458",
   "metadata": {},
   "source": [
    "if-elif-else syntax"
   ]
  },
  {
   "cell_type": "code",
   "execution_count": 30,
   "id": "f647fc23-7ed0-452e-95f2-610041a4c797",
   "metadata": {},
   "outputs": [
    {
     "ename": "SyntaxError",
     "evalue": "invalid syntax (3423103647.py, line 2)",
     "output_type": "error",
     "traceback": [
      "\u001b[1;36m  Cell \u001b[1;32mIn[30], line 2\u001b[1;36m\u001b[0m\n\u001b[1;33m    body of if\u001b[0m\n\u001b[1;37m         ^\u001b[0m\n\u001b[1;31mSyntaxError\u001b[0m\u001b[1;31m:\u001b[0m invalid syntax\n"
     ]
    }
   ],
   "source": [
    "if(condition):\n",
    "    body of if\n",
    "    elif(condition):\n",
    "    body of elif\n",
    "else:\n",
    "  body of else "
   ]
  },
  {
   "cell_type": "code",
   "execution_count": 31,
   "id": "8aa35916-aec4-48a9-bfce-e17ebd0d3d05",
   "metadata": {},
   "outputs": [
    {
     "name": "stdout",
     "output_type": "stream",
     "text": [
      "last\n"
     ]
    }
   ],
   "source": [
    "if 2<1:\n",
    "    print(\"first\")\n",
    "elif 2==2:\n",
    "    print(\"last\")"
   ]
  },
  {
   "cell_type": "code",
   "execution_count": 32,
   "id": "e3042793-e6cf-43de-a647-799978d5110e",
   "metadata": {},
   "outputs": [
    {
     "name": "stdout",
     "output_type": "stream",
     "text": [
      "first\n"
     ]
    }
   ],
   "source": [
    "if 2<10:\n",
    "    print(\"first\")\n",
    "elif 2==2:\n",
    "    print(\"last\")"
   ]
  },
  {
   "cell_type": "code",
   "execution_count": 34,
   "id": "d328fcae-1aa7-42de-a5c6-cf7729111d78",
   "metadata": {},
   "outputs": [
    {
     "name": "stdin",
     "output_type": "stream",
     "text": [
      "enter the mark of y 40\n"
     ]
    },
    {
     "name": "stdout",
     "output_type": "stream",
     "text": [
      "fail\n"
     ]
    }
   ],
   "source": [
    "y=int(input(\"enter the mark of y\"))\n",
    "if y>90:\n",
    "    print(\"grade A\")\n",
    "elif y>80:\n",
    "    print(\"grade B\")\n",
    "elif y>70:\n",
    "    print(\"grade C\")\n",
    "elif y>60:\n",
    "    print(\"grade D\")\n",
    "elif y>50:\n",
    "    print(\"grade D\")\n",
    "else:\n",
    "    print(\"fail\")\n",
    "\n"
   ]
  },
  {
   "cell_type": "code",
   "execution_count": 39,
   "id": "69e67468-563e-4860-97d3-014d6b4f0d6b",
   "metadata": {},
   "outputs": [
    {
     "name": "stdout",
     "output_type": "stream",
     "text": [
      "901 is greater to 1001\n",
      "successfully executed\n"
     ]
    }
   ],
   "source": [
    "x=1000\n",
    "if((x>0) & (x<1000)):\n",
    "    print(\"no is present between 0 and 1000\")\n",
    "    print(\"successfully executed\")\n",
    "elif(x>=901):\n",
    "    print(\"901 is greater to 1001\")\n",
    "    print(\"successfully executed\")\n",
    "else:\n",
    "    print(\"x is not a number\")\n"
   ]
  },
  {
   "cell_type": "code",
   "execution_count": 41,
   "id": "993af869-adfb-4288-9a3d-4553cb22e5fc",
   "metadata": {},
   "outputs": [
    {
     "name": "stdin",
     "output_type": "stream",
     "text": [
      "enter your favourite candy name kitkat\n"
     ]
    },
    {
     "name": "stdout",
     "output_type": "stream",
     "text": [
      "its teast biscuit like\n"
     ]
    }
   ],
   "source": [
    "candy_name=input(\"enter your favourite candy name\")\n",
    "if candy_name=='lollipop':\n",
    "    print(\"its a childrens food\")\n",
    "elif candy_name=='sourbelts':\n",
    "    print(\"its teast is little bit sour\")\n",
    "elif candy_name=='milkyway':\n",
    "    print(\"its teast was milked type\")\n",
    "elif candy_name=='kitkat':\n",
    "    print(\"its teast biscuit like\")\n",
    "elif candy_name=='licorice':\n",
    "    print(\"its like redcherry\")\n",
    "elif candy_name=='caramel':\n",
    "    print(\"its made with sugar,butter,cream\")\n",
    "else:\n",
    "    print(\"other candies are not available\")"
   ]
  },
  {
   "cell_type": "code",
   "execution_count": 42,
   "id": "8f09acc7-3e5b-4fac-8168-c5a6612b9541",
   "metadata": {},
   "outputs": [
    {
     "name": "stdout",
     "output_type": "stream",
     "text": [
      "ok\n"
     ]
    },
    {
     "name": "stderr",
     "output_type": "stream",
     "text": [
      "<>:1: SyntaxWarning: \"is\" with a literal. Did you mean \"==\"?\n",
      "<>:1: SyntaxWarning: \"is\" with a literal. Did you mean \"==\"?\n",
      "C:\\Users\\soubh\\AppData\\Local\\Temp\\ipykernel_11680\\4156937785.py:1: SyntaxWarning: \"is\" with a literal. Did you mean \"==\"?\n",
      "  if 10 is 20:\n"
     ]
    }
   ],
   "source": [
    "if 10 is 20:\n",
    "    print(\"wrong\")\n",
    "elif 10>20:\n",
    "    print(\"also wrong\")\n",
    "else:\n",
    "    print(\"ok\")\n",
    "    "
   ]
  },
  {
   "cell_type": "code",
   "execution_count": 44,
   "id": "4efd2984-7e2a-4045-b494-4fae68195e80",
   "metadata": {},
   "outputs": [
    {
     "name": "stdin",
     "output_type": "stream",
     "text": [
      "enter the mark of y 52\n"
     ]
    },
    {
     "name": "stdout",
     "output_type": "stream",
     "text": [
      "52 grade E\n"
     ]
    }
   ],
   "source": [
    "y=int(input(\"enter the mark of y\"))\n",
    "if (y>85 and y<=100):\n",
    "    print(y,\"grade A\")\n",
    "elif(y<=85 and y>75):\n",
    "    print(y,\"grade B\")\n",
    "elif(y<=75 and y>65):\n",
    "    print(y,\"grade C\")\n",
    "elif (y<=65 and y>55):\n",
    "    print(y,\"grade D\")\n",
    "elif (y<=55 and y>45):\n",
    "    print(y,\"grade E\")\n",
    "else:\n",
    "    print(\"fail\")\n",
    "\n"
   ]
  },
  {
   "cell_type": "code",
   "execution_count": 50,
   "id": "b1412800-33fb-4b0c-a7fe-b25fd7e1b83c",
   "metadata": {},
   "outputs": [
    {
     "name": "stdin",
     "output_type": "stream",
     "text": [
      "enter the value of x 2\n",
      "enter the value of y 10\n"
     ]
    },
    {
     "name": "stdout",
     "output_type": "stream",
     "text": [
      "greatest value is y 10\n"
     ]
    }
   ],
   "source": [
    "#find biggest number among two numbers \n",
    "x=int(input(\"enter the value of x\"))\n",
    "y=int(input(\"enter the value of y\"))\n",
    "if x<y:\n",
    "      print(\"greatest value is y\",y)\n",
    "else:\n",
    "      print(\"smalest value is x\",x)"
   ]
  },
  {
   "cell_type": "code",
   "execution_count": 51,
   "id": "a482f06b-384f-44b6-b7ba-92991b0f18ea",
   "metadata": {},
   "outputs": [
    {
     "name": "stdin",
     "output_type": "stream",
     "text": [
      "enter the value of x 5\n",
      "enter the value of y 8\n",
      "enter the value of z 6\n"
     ]
    },
    {
     "name": "stdout",
     "output_type": "stream",
     "text": [
      "greatest value is y 8\n"
     ]
    }
   ],
   "source": [
    "x=int(input(\"enter the value of x\"))\n",
    "y=int(input(\"enter the value of y\"))\n",
    "z=int(input(\"enter the value of z\"))\n",
    "if (x<y and y<z):\n",
    "    print(\"greatest value is x\",x)\n",
    "elif(y>z):\n",
    "    print(\"greatest value is y\",y)\n",
    "else:\n",
    "    print(\"greatest value is z\",z)"
   ]
  },
  {
   "cell_type": "code",
   "execution_count": 52,
   "id": "65390e6e-a430-403f-89b7-16168666eb21",
   "metadata": {},
   "outputs": [
    {
     "name": "stdin",
     "output_type": "stream",
     "text": [
      "enter 1st string of x sakkina\n",
      "enter 2nd string of y sakkina\n"
     ]
    },
    {
     "name": "stdout",
     "output_type": "stream",
     "text": [
      "both are equal\n"
     ]
    }
   ],
   "source": [
    "x=input(\"enter 1st string of x\")\n",
    "y=input(\"enter 2nd string of y\")\n",
    "if x==y:\n",
    "    print(\"both are equal\")\n",
    "elif x<y:\n",
    "    print(\"first string is less than second string\")\n",
    "else:\n",
    "    print(\"first string is greater than 2nd string\")"
   ]
  },
  {
   "cell_type": "markdown",
   "id": "0993d911-d41b-4a99-a0c3-97de50b5ff3f",
   "metadata": {},
   "source": [
    "Nested if statement"
   ]
  },
  {
   "cell_type": "code",
   "execution_count": 54,
   "id": "ddbc31bc-a0ba-4120-a98f-dd2912880256",
   "metadata": {},
   "outputs": [
    {
     "name": "stdout",
     "output_type": "stream",
     "text": [
      "negative number\n"
     ]
    }
   ],
   "source": [
    "num=10\n",
    "if num>=0:\n",
    "    if num==0:\n",
    "        print(\"not\")\n",
    "    else:\n",
    "        print(\"negative number\")\n",
    "else:\n",
    "        print(\"positive number\")"
   ]
  },
  {
   "cell_type": "code",
   "execution_count": 55,
   "id": "4ff60d76-f76a-47ff-957d-f747d4a1f551",
   "metadata": {},
   "outputs": [
    {
     "name": "stdout",
     "output_type": "stream",
     "text": [
      "less than 3\n",
      "sakkina\n"
     ]
    }
   ],
   "source": [
    "i=2.1\n",
    "if(i<3):\n",
    "    print(\"less than 3\")\n",
    "    if i>2:\n",
    "        print(\"sakkina\")\n",
    "    elif i<5:\n",
    "        print(\"less than 5\")\n",
    "    else:\n",
    "        print(\"5 or more\")"
   ]
  },
  {
   "cell_type": "code",
   "execution_count": null,
   "id": "cd39b01c-b1d6-4238-b711-74d8940c12e6",
   "metadata": {},
   "outputs": [],
   "source": []
  }
 ],
 "metadata": {
  "kernelspec": {
   "display_name": "Python 3 (ipykernel)",
   "language": "python",
   "name": "python3"
  },
  "language_info": {
   "codemirror_mode": {
    "name": "ipython",
    "version": 3
   },
   "file_extension": ".py",
   "mimetype": "text/x-python",
   "name": "python",
   "nbconvert_exporter": "python",
   "pygments_lexer": "ipython3",
   "version": "3.11.7"
  }
 },
 "nbformat": 4,
 "nbformat_minor": 5
}
