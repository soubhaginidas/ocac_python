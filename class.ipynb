{
 "cells": [
  {
   "cell_type": "code",
   "execution_count": 1,
   "id": "1fc8a168-ffc8-4d86-8683-6d5919d6405a",
   "metadata": {},
   "outputs": [],
   "source": [
    "class myclass:\n",
    "    x=90"
   ]
  },
  {
   "cell_type": "code",
   "execution_count": 2,
   "id": "5c08f1fc-b860-4eb7-9d37-63bead063ad5",
   "metadata": {},
   "outputs": [
    {
     "name": "stdout",
     "output_type": "stream",
     "text": [
      "90\n"
     ]
    }
   ],
   "source": [
    "p=myclass()\n",
    "print(p.x)"
   ]
  },
  {
   "cell_type": "code",
   "execution_count": 6,
   "id": "c9ffc951-e044-4f9c-9f71-3f09989e1318",
   "metadata": {},
   "outputs": [
    {
     "name": "stdout",
     "output_type": "stream",
     "text": [
      "90\n"
     ]
    }
   ],
   "source": [
    "print(myclass.x)"
   ]
  },
  {
   "cell_type": "code",
   "execution_count": 3,
   "id": "bbbce89e-0b8e-4d39-af62-f0783fefbbb4",
   "metadata": {},
   "outputs": [],
   "source": [
    "class myclass:\n",
    "    x=90\n",
    "    y=67"
   ]
  },
  {
   "cell_type": "code",
   "execution_count": 5,
   "id": "447d7f84-dedd-40d3-aa6b-fd84773cc1c0",
   "metadata": {},
   "outputs": [
    {
     "name": "stdout",
     "output_type": "stream",
     "text": [
      "90\n",
      "67\n"
     ]
    }
   ],
   "source": [
    "p1=myclass()\n",
    "print(p1.x)\n",
    "print(p1.y)"
   ]
  },
  {
   "cell_type": "code",
   "execution_count": 8,
   "id": "c964055b-1b7d-4dfc-a2cc-2eddff28b639",
   "metadata": {},
   "outputs": [
    {
     "name": "stdout",
     "output_type": "stream",
     "text": [
      "90 67\n"
     ]
    }
   ],
   "source": [
    "print(myclass.x,myclass.y)"
   ]
  },
  {
   "cell_type": "code",
   "execution_count": 5,
   "id": "a1dc2089-fc3c-4edb-8740-4c175de12956",
   "metadata": {},
   "outputs": [],
   "source": [
    "class myclass:\n",
    "    x=90\n",
    "    y=67\n",
    "    z=x+y"
   ]
  },
  {
   "cell_type": "code",
   "execution_count": 6,
   "id": "eb6bea80-81eb-4f03-86dd-ec34d9fd4695",
   "metadata": {},
   "outputs": [
    {
     "name": "stdout",
     "output_type": "stream",
     "text": [
      "157\n"
     ]
    }
   ],
   "source": [
    "p1=myclass()\n",
    "print(p1.z)"
   ]
  },
  {
   "cell_type": "code",
   "execution_count": 7,
   "id": "44fffd3c-06f5-40e2-a13a-2e67bc44adfc",
   "metadata": {},
   "outputs": [
    {
     "name": "stdout",
     "output_type": "stream",
     "text": [
      "157\n",
      "<class '__main__.myclass'>\n"
     ]
    }
   ],
   "source": [
    "p1=myclass()\n",
    "print(p1.z)\n",
    "print(type(p1))"
   ]
  },
  {
   "cell_type": "code",
   "execution_count": 16,
   "id": "c2917f37-929a-4832-8ccd-45d8388ca16f",
   "metadata": {},
   "outputs": [
    {
     "name": "stdout",
     "output_type": "stream",
     "text": [
      "soubhagini\n",
      "2305298194\n",
      "MCA\n"
     ]
    }
   ],
   "source": [
    "class student:\n",
    "    def __init__(detail,name,id,stream):\n",
    "        detail.name=name\n",
    "        detail.id=id\n",
    "        detail.stream=stream\n",
    "p=student(\"soubhagini\",2305298194,\"MCA\")\n",
    "print(p.name)\n",
    "print(p.id)\n",
    "print(p.stream)"
   ]
  },
  {
   "cell_type": "markdown",
   "id": "64e0de75-56e4-4960-a244-8e983c54d92c",
   "metadata": {},
   "source": [
    "python classes/object"
   ]
  },
  {
   "cell_type": "code",
   "execution_count": 4,
   "id": "59f943e0-4b47-4d87-b23b-9b8347f2ece3",
   "metadata": {},
   "outputs": [
    {
     "name": "stdout",
     "output_type": "stream",
     "text": [
      "hii,sakkina how are you!!\n"
     ]
    }
   ],
   "source": [
    "class myclass:\n",
    "    x=\"how are you!!\"\n",
    "    print(\"hii,sakkina\",x)"
   ]
  },
  {
   "cell_type": "code",
   "execution_count": 9,
   "id": "2660c72e-67ea-4e8d-bd78-1bb774d9ff63",
   "metadata": {},
   "outputs": [
    {
     "name": "stdout",
     "output_type": "stream",
     "text": [
      "how are you!!\n",
      "<class '__main__.myclass'>\n"
     ]
    }
   ],
   "source": [
    "y=myclass()\n",
    "print(y.x)\n",
    "print(type(y))"
   ]
  },
  {
   "cell_type": "code",
   "execution_count": 10,
   "id": "fcf17ad1-01cd-4c36-982e-464d14486cc8",
   "metadata": {},
   "outputs": [
    {
     "name": "stdout",
     "output_type": "stream",
     "text": [
      "hello sakkina\n",
      "<class '__main__.students'>\n"
     ]
    }
   ],
   "source": [
    "class students:\n",
    "    print(\"hello sakkina\")\n",
    "z=students()\n",
    "print(type(z))"
   ]
  },
  {
   "cell_type": "code",
   "execution_count": 11,
   "id": "7569cae7-da79-4cb0-beeb-97a0d94e51fd",
   "metadata": {},
   "outputs": [
    {
     "name": "stdout",
     "output_type": "stream",
     "text": [
      "hello,sakkina\n"
     ]
    }
   ],
   "source": [
    "class student:\n",
    "    def name():\n",
    "        print(\"hello,sakkina\")\n",
    "student.name()"
   ]
  },
  {
   "cell_type": "code",
   "execution_count": 12,
   "id": "b224f297-0abe-47c0-a068-7fe85deab188",
   "metadata": {},
   "outputs": [
    {
     "name": "stdout",
     "output_type": "stream",
     "text": [
      "Happy RathYatra 2024\n"
     ]
    }
   ],
   "source": [
    "class student:\n",
    "    year=2024\n",
    "    def fun(a):\n",
    "        print(\"Happy RathYatra\",a.year)\n",
    "x=student()\n",
    "x.fun()"
   ]
  },
  {
   "cell_type": "code",
   "execution_count": 13,
   "id": "708813fc-a465-4864-9914-c9450c0c2453",
   "metadata": {},
   "outputs": [
    {
     "ename": "TypeError",
     "evalue": "student.fun() missing 1 required positional argument: 'a'",
     "output_type": "error",
     "traceback": [
      "\u001b[1;31m---------------------------------------------------------------------------\u001b[0m",
      "\u001b[1;31mTypeError\u001b[0m                                 Traceback (most recent call last)",
      "Cell \u001b[1;32mIn[13], line 1\u001b[0m\n\u001b[1;32m----> 1\u001b[0m student\u001b[38;5;241m.\u001b[39mfun()\n",
      "\u001b[1;31mTypeError\u001b[0m: student.fun() missing 1 required positional argument: 'a'"
     ]
    }
   ],
   "source": [
    "student.fun()"
   ]
  },
  {
   "cell_type": "markdown",
   "id": "54d35daa-4f12-4034-b13f-9ec0ded07c75",
   "metadata": {},
   "source": [
    "The init() function"
   ]
  },
  {
   "cell_type": "code",
   "execution_count": 20,
   "id": "5b1917a0-2a5e-49ce-a35a-b08d4324be5b",
   "metadata": {},
   "outputs": [
    {
     "name": "stdout",
     "output_type": "stream",
     "text": [
      "hello my name is sakkina and my age is 30\n"
     ]
    }
   ],
   "source": [
    "class employee:\n",
    "    def __init__(self,name,age):\n",
    "        self.name=name\n",
    "        self.age=age\n",
    "    def fun(self):\n",
    "        print(\"hello my name is\",self.name,\"and my age is\",self.age)\n",
    "        #print(\"my age is\",self.age)\n",
    "p1=employee(\"sakkina\",30)\n",
    "p1.fun()"
   ]
  },
  {
   "cell_type": "code",
   "execution_count": 21,
   "id": "fbf4d98b-0233-435f-ae73-62f34766c371",
   "metadata": {},
   "outputs": [
    {
     "name": "stdout",
     "output_type": "stream",
     "text": [
      "sakkina!\n"
     ]
    }
   ],
   "source": [
    "class student:\n",
    "    def __init__(self,name):\n",
    "        self.name=name\n",
    "sakkina=student(name=\"sakkina!\")\n",
    "print(sakkina.name)"
   ]
  },
  {
   "cell_type": "code",
   "execution_count": 27,
   "id": "e7556193-5a04-4a35-98db-723ef8435c36",
   "metadata": {},
   "outputs": [
    {
     "name": "stdout",
     "output_type": "stream",
     "text": [
      "sakina\n",
      "pkd\n"
     ]
    }
   ],
   "source": [
    "class student:\n",
    "    def __init__(self,name):\n",
    "        self.name=name\n",
    "a=student(name=\"sakina\")\n",
    "b=student(name=\"pkd\")\n",
    "print(a.name)\n",
    "print(b.name)"
   ]
  },
  {
   "cell_type": "code",
   "execution_count": 37,
   "id": "b84a5edb-b828-45ba-ad42-f20f7e508af3",
   "metadata": {},
   "outputs": [],
   "source": [
    "class person:\n",
    "    def __init__(self,name,age):\n",
    "        self.name=name\n",
    "        self.age=age\n",
    "p1=person=(\"sakkina\",23)\n",
    "#print(p1.name)\n",
    "#print(p1.age)"
   ]
  },
  {
   "cell_type": "code",
   "execution_count": 14,
   "id": "60e35cfd-89ed-4efe-b416-b1e0980922de",
   "metadata": {},
   "outputs": [],
   "source": [
    "class student:\n",
    "    Total=500\n",
    "    def __init__(self,marks):\n",
    "        self.marks=marks\n",
    "        print(\"initialized...\")\n",
    "    def findLoss(self):\n",
    "        return self.Total-self.marks\n",
    "    def findPercentage(self):\n",
    "        return(self.marks/self.Total)*100"
   ]
  },
  {
   "cell_type": "code",
   "execution_count": 17,
   "id": "02fda0ba-beb8-4f15-b96d-819430c22029",
   "metadata": {},
   "outputs": [
    {
     "name": "stdout",
     "output_type": "stream",
     "text": [
      "initialized...\n",
      "Total Marks 500\n",
      "Lost Marks 50\n",
      "percentage 90.0\n",
      "percentage is:90.00%\n"
     ]
    }
   ],
   "source": [
    "a = student(marks=450)\n",
    "print(\"Total Marks\",a.Total)\n",
    "print(\"Lost Marks\",a.findLoss())\n",
    "print(\"percentage\",a.findPercentage())\n",
    "print(\"percentage is:{:.2f}%\".format(a.findPercentage()))"
   ]
  },
  {
   "cell_type": "markdown",
   "id": "2ad61fc4-3925-488d-8886-7042d7c86fea",
   "metadata": {},
   "source": [
    "The __init__ method"
   ]
  },
  {
   "cell_type": "code",
   "execution_count": 6,
   "id": "6a656229-8e69-4b67-aee8-c8727996de50",
   "metadata": {},
   "outputs": [],
   "source": [
    "def __init__(self,marks):\n",
    "    self.marks=marks\n",
    "    print(\"initialized...\")"
   ]
  },
  {
   "cell_type": "code",
   "execution_count": 7,
   "id": "a3993439-41e0-42d7-8224-1cfc4dd17116",
   "metadata": {},
   "outputs": [],
   "source": [
    "class student:\n",
    "    Total=500\n",
    "    def __init__(self,name,marks,gender):\n",
    "        self.name=name\n",
    "        self.marks=marks\n",
    "        self.gender=gender\n",
    "        print(\"initialise...\")\n",
    "    def __len__(self):\n",
    "        return self.marks\n",
    "    def __str__(self):\n",
    "        return \"Name:%s|Marks:%s\" %(self.name,self.marks,self.gender)\n",
    "    def __del__(self):\n",
    "        print(\"student database is deleted\")"
   ]
  },
  {
   "cell_type": "code",
   "execution_count": 10,
   "id": "ab3ddd4d-b329-4f0e-993f-66306113e254",
   "metadata": {},
   "outputs": [
    {
     "name": "stdout",
     "output_type": "stream",
     "text": [
      "initialise...\n",
      "student database is deleted\n",
      "initialise...\n"
     ]
    }
   ],
   "source": [
    "a=student('sakina','345','female')\n",
    "b=student('pkd',456,'male')"
   ]
  },
  {
   "cell_type": "code",
   "execution_count": 11,
   "id": "7c580011-52f5-4f9f-9e40-747fc43365bf",
   "metadata": {},
   "outputs": [
    {
     "name": "stdout",
     "output_type": "stream",
     "text": [
      "student database is deleted\n"
     ]
    },
    {
     "ename": "TypeError",
     "evalue": "not all arguments converted during string formatting",
     "output_type": "error",
     "traceback": [
      "\u001b[1;31m---------------------------------------------------------------------------\u001b[0m",
      "\u001b[1;31mTypeError\u001b[0m                                 Traceback (most recent call last)",
      "Cell \u001b[1;32mIn[11], line 1\u001b[0m\n\u001b[1;32m----> 1\u001b[0m \u001b[38;5;28mprint\u001b[39m(b)\n",
      "Cell \u001b[1;32mIn[7], line 11\u001b[0m, in \u001b[0;36mstudent.__str__\u001b[1;34m(self)\u001b[0m\n\u001b[0;32m     10\u001b[0m \u001b[38;5;28;01mdef\u001b[39;00m \u001b[38;5;21m__str__\u001b[39m(\u001b[38;5;28mself\u001b[39m):\n\u001b[1;32m---> 11\u001b[0m     \u001b[38;5;28;01mreturn\u001b[39;00m \u001b[38;5;124m\"\u001b[39m\u001b[38;5;124mName:\u001b[39m\u001b[38;5;132;01m%s\u001b[39;00m\u001b[38;5;124m|Marks:\u001b[39m\u001b[38;5;132;01m%s\u001b[39;00m\u001b[38;5;124m\"\u001b[39m \u001b[38;5;241m%\u001b[39m(\u001b[38;5;28mself\u001b[39m\u001b[38;5;241m.\u001b[39mname,\u001b[38;5;28mself\u001b[39m\u001b[38;5;241m.\u001b[39mmarks,\u001b[38;5;28mself\u001b[39m\u001b[38;5;241m.\u001b[39mgender)\n",
      "\u001b[1;31mTypeError\u001b[0m: not all arguments converted during string formatting"
     ]
    }
   ],
   "source": [
    "print(b)"
   ]
  },
  {
   "cell_type": "code",
   "execution_count": 12,
   "id": "f731fcde-f122-40e1-b7b3-d8ffbd62d479",
   "metadata": {},
   "outputs": [
    {
     "ename": "TypeError",
     "evalue": "'str' object cannot be interpreted as an integer",
     "output_type": "error",
     "traceback": [
      "\u001b[1;31m---------------------------------------------------------------------------\u001b[0m",
      "\u001b[1;31mTypeError\u001b[0m                                 Traceback (most recent call last)",
      "Cell \u001b[1;32mIn[12], line 1\u001b[0m\n\u001b[1;32m----> 1\u001b[0m \u001b[38;5;28mprint\u001b[39m(\u001b[38;5;124m'\u001b[39m\u001b[38;5;124mMarks:\u001b[39m\u001b[38;5;124m'\u001b[39m,\u001b[38;5;28mlen\u001b[39m(a))\n\u001b[0;32m      2\u001b[0m \u001b[38;5;28;01mdel\u001b[39;00m a\n",
      "\u001b[1;31mTypeError\u001b[0m: 'str' object cannot be interpreted as an integer"
     ]
    }
   ],
   "source": [
    "print('Marks:',len(a))\n",
    "del a"
   ]
  },
  {
   "cell_type": "code",
   "execution_count": 13,
   "id": "c982a5a1-26fb-4586-a01d-7ea2883c82d4",
   "metadata": {},
   "outputs": [
    {
     "ename": "TypeError",
     "evalue": "not all arguments converted during string formatting",
     "output_type": "error",
     "traceback": [
      "\u001b[1;31m---------------------------------------------------------------------------\u001b[0m",
      "\u001b[1;31mTypeError\u001b[0m                                 Traceback (most recent call last)",
      "Cell \u001b[1;32mIn[13], line 1\u001b[0m\n\u001b[1;32m----> 1\u001b[0m \u001b[38;5;28mprint\u001b[39m(a)\n",
      "Cell \u001b[1;32mIn[7], line 11\u001b[0m, in \u001b[0;36mstudent.__str__\u001b[1;34m(self)\u001b[0m\n\u001b[0;32m     10\u001b[0m \u001b[38;5;28;01mdef\u001b[39;00m \u001b[38;5;21m__str__\u001b[39m(\u001b[38;5;28mself\u001b[39m):\n\u001b[1;32m---> 11\u001b[0m     \u001b[38;5;28;01mreturn\u001b[39;00m \u001b[38;5;124m\"\u001b[39m\u001b[38;5;124mName:\u001b[39m\u001b[38;5;132;01m%s\u001b[39;00m\u001b[38;5;124m|Marks:\u001b[39m\u001b[38;5;132;01m%s\u001b[39;00m\u001b[38;5;124m\"\u001b[39m \u001b[38;5;241m%\u001b[39m(\u001b[38;5;28mself\u001b[39m\u001b[38;5;241m.\u001b[39mname,\u001b[38;5;28mself\u001b[39m\u001b[38;5;241m.\u001b[39mmarks,\u001b[38;5;28mself\u001b[39m\u001b[38;5;241m.\u001b[39mgender)\n",
      "\u001b[1;31mTypeError\u001b[0m: not all arguments converted during string formatting"
     ]
    }
   ],
   "source": [
    "print(a)"
   ]
  },
  {
   "cell_type": "code",
   "execution_count": 18,
   "id": "3caf7c5c-1617-4c67-ab48-c26ba3c4c160",
   "metadata": {},
   "outputs": [
    {
     "name": "stdout",
     "output_type": "stream",
     "text": [
      "initialization...\n"
     ]
    },
    {
     "data": {
      "text/plain": [
       "200000"
      ]
     },
     "execution_count": 18,
     "metadata": {},
     "output_type": "execute_result"
    }
   ],
   "source": [
    "class stu:\n",
    "    Total=500\n",
    "    def __init__(a,marks):\n",
    "        a.marks=marks\n",
    "        print(\"initialization...\")\n",
    "    def mul(self):\n",
    "        return self.marks * self.Total\n",
    "p1=stu(400)\n",
    "p1.mul()"
   ]
  },
  {
   "cell_type": "code",
   "execution_count": 19,
   "id": "7576abc8-ffa7-4b16-9c0b-193378493ec6",
   "metadata": {},
   "outputs": [
    {
     "name": "stdout",
     "output_type": "stream",
     "text": [
      "initialise...\n",
      "<__main__.student object at 0x000001FBF529E5D0>\n",
      "Marks 450\n"
     ]
    }
   ],
   "source": [
    "class student:\n",
    "    Total=500\n",
    "    def __init__(self,name,marks,gender):\n",
    "        self.name=name\n",
    "        self.marks=marks\n",
    "        self.gender=gender\n",
    "        print(\"initialise...\")\n",
    "    def __len__(b):\n",
    "        return b.marks\n",
    "a=student('sakina',450,'female')\n",
    "print(a)\n",
    "print('Marks',len(a))"
   ]
  },
  {
   "cell_type": "markdown",
   "id": "6beb7d44-68ba-469d-acd6-e481da8c8ba0",
   "metadata": {},
   "source": [
    "The Self Parameter"
   ]
  },
  {
   "cell_type": "code",
   "execution_count": 22,
   "id": "a40f407b-fbeb-4584-abd9-f7c6679107c8",
   "metadata": {},
   "outputs": [
    {
     "name": "stdout",
     "output_type": "stream",
     "text": [
      "hello my name is john 36\n"
     ]
    }
   ],
   "source": [
    "class person:\n",
    "    def __init__(mysillyobject,name,age):\n",
    "        mysillyobject.name=name\n",
    "        mysillyobject.age=age\n",
    "    def myfun(abc):\n",
    "        print(\"hello my name is \"+abc.name, +abc.age)\n",
    "p1=person(\"john\",36)\n",
    "p1.myfun()      "
   ]
  },
  {
   "cell_type": "code",
   "execution_count": 23,
   "id": "002a80bf-35d7-45a8-acc5-2f6654c6539b",
   "metadata": {},
   "outputs": [
    {
     "name": "stdout",
     "output_type": "stream",
     "text": [
      "hello my name is john 40\n"
     ]
    }
   ],
   "source": [
    "p1.age=40\n",
    "p1.myfun()"
   ]
  },
  {
   "cell_type": "markdown",
   "id": "41bf14fa-f01d-49b7-8e11-37470ea8bf58",
   "metadata": {},
   "source": [
    "delete object properties"
   ]
  },
  {
   "cell_type": "code",
   "execution_count": 24,
   "id": "36b63e8d-a7b6-4023-94a3-b70efc5b9d73",
   "metadata": {},
   "outputs": [
    {
     "name": "stdout",
     "output_type": "stream",
     "text": [
      "student database is deleted\n"
     ]
    },
    {
     "ename": "AttributeError",
     "evalue": "'person' object has no attribute 'age'",
     "output_type": "error",
     "traceback": [
      "\u001b[1;31m---------------------------------------------------------------------------\u001b[0m",
      "\u001b[1;31mAttributeError\u001b[0m                            Traceback (most recent call last)",
      "Cell \u001b[1;32mIn[24], line 2\u001b[0m\n\u001b[0;32m      1\u001b[0m \u001b[38;5;28;01mdel\u001b[39;00m p1\u001b[38;5;241m.\u001b[39mage\n\u001b[1;32m----> 2\u001b[0m p1\u001b[38;5;241m.\u001b[39mmyfun()\n",
      "Cell \u001b[1;32mIn[22], line 6\u001b[0m, in \u001b[0;36mperson.myfun\u001b[1;34m(abc)\u001b[0m\n\u001b[0;32m      5\u001b[0m \u001b[38;5;28;01mdef\u001b[39;00m \u001b[38;5;21mmyfun\u001b[39m(abc):\n\u001b[1;32m----> 6\u001b[0m     \u001b[38;5;28mprint\u001b[39m(\u001b[38;5;124m\"\u001b[39m\u001b[38;5;124mhello my name is \u001b[39m\u001b[38;5;124m\"\u001b[39m\u001b[38;5;241m+\u001b[39mabc\u001b[38;5;241m.\u001b[39mname, \u001b[38;5;241m+\u001b[39mabc\u001b[38;5;241m.\u001b[39mage)\n",
      "\u001b[1;31mAttributeError\u001b[0m: 'person' object has no attribute 'age'"
     ]
    }
   ],
   "source": [
    "del p1.age\n",
    "p1.myfun()"
   ]
  },
  {
   "cell_type": "markdown",
   "id": "8cc79c7f-9994-4951-8969-baa7e7557049",
   "metadata": {},
   "source": [
    "Delete objects"
   ]
  },
  {
   "cell_type": "code",
   "execution_count": 25,
   "id": "657659c0-0bdc-4da5-8b04-14e150a636e8",
   "metadata": {},
   "outputs": [
    {
     "ename": "NameError",
     "evalue": "name 'p1' is not defined",
     "output_type": "error",
     "traceback": [
      "\u001b[1;31m---------------------------------------------------------------------------\u001b[0m",
      "\u001b[1;31mNameError\u001b[0m                                 Traceback (most recent call last)",
      "Cell \u001b[1;32mIn[25], line 2\u001b[0m\n\u001b[0;32m      1\u001b[0m \u001b[38;5;28;01mdel\u001b[39;00m p1\n\u001b[1;32m----> 2\u001b[0m p1\u001b[38;5;241m.\u001b[39mmyfun()\n",
      "\u001b[1;31mNameError\u001b[0m: name 'p1' is not defined"
     ]
    }
   ],
   "source": [
    "del p1\n",
    "p1.myfun()"
   ]
  },
  {
   "cell_type": "markdown",
   "id": "5a75dd7b-a689-4b7a-90a5-ce046f795dc8",
   "metadata": {},
   "source": [
    "The pass statement"
   ]
  },
  {
   "cell_type": "code",
   "execution_count": 26,
   "id": "4e9dae20-1ed7-4182-9ad5-ba215bf10c1d",
   "metadata": {},
   "outputs": [],
   "source": [
    "class person:\n",
    "    pass"
   ]
  },
  {
   "cell_type": "code",
   "execution_count": 27,
   "id": "b664bf19-a1e6-4dee-9a75-35530fe9e05c",
   "metadata": {},
   "outputs": [
    {
     "ename": "SyntaxError",
     "evalue": "incomplete input (1794715009.py, line 1)",
     "output_type": "error",
     "traceback": [
      "\u001b[1;36m  Cell \u001b[1;32mIn[27], line 1\u001b[1;36m\u001b[0m\n\u001b[1;33m    class person:\u001b[0m\n\u001b[1;37m                 ^\u001b[0m\n\u001b[1;31mSyntaxError\u001b[0m\u001b[1;31m:\u001b[0m incomplete input\n"
     ]
    }
   ],
   "source": [
    "class person:"
   ]
  },
  {
   "cell_type": "markdown",
   "id": "b18b005b-b375-40c1-9a23-0aedd4b522dd",
   "metadata": {},
   "source": [
    "create parent class"
   ]
  },
  {
   "cell_type": "code",
   "execution_count": 30,
   "id": "d1beee95-2338-48dd-8d8d-05bcf46c7e4f",
   "metadata": {},
   "outputs": [
    {
     "name": "stdout",
     "output_type": "stream",
     "text": [
      "sakinaaaa pkddd\n"
     ]
    }
   ],
   "source": [
    "class Person:\n",
    "    def __init__(self, fname, lname):\n",
    "        self.firstname = fname\n",
    "        self.lastname = lname\n",
    "    def printname(self):\n",
    "        print(self.firstname, self.lastname)\n",
    "        \n",
    "x=Person('sakinaaaa','pkddd')\n",
    "x.printname()"
   ]
  },
  {
   "cell_type": "markdown",
   "id": "740e6b8e-d761-4456-8bc7-321b35312621",
   "metadata": {},
   "source": [
    "create a child class"
   ]
  },
  {
   "cell_type": "code",
   "execution_count": 31,
   "id": "b0b15ea9-5e86-43f7-8e65-4cfd10d0333b",
   "metadata": {},
   "outputs": [],
   "source": [
    "class student(Person):\n",
    "    pass"
   ]
  },
  {
   "cell_type": "code",
   "execution_count": 32,
   "id": "4c081d8e-a160-4ceb-a534-57dad64a7600",
   "metadata": {},
   "outputs": [
    {
     "name": "stdout",
     "output_type": "stream",
     "text": [
      "sakkina pkd\n"
     ]
    }
   ],
   "source": [
    "x=student(\"sakkina\",\"pkd\")\n",
    "x.printname()"
   ]
  },
  {
   "cell_type": "markdown",
   "id": "39866403-7702-4038-9ce3-23150aacb810",
   "metadata": {},
   "source": [
    "Add the init() function"
   ]
  },
  {
   "cell_type": "code",
   "execution_count": 33,
   "id": "cc521950-07da-44bd-bb52-d2d2bf6f3499",
   "metadata": {},
   "outputs": [],
   "source": [
    "class student(Person):\n",
    "    def __init__(self,fname,lname):\n",
    "        pass"
   ]
  },
  {
   "cell_type": "code",
   "execution_count": 34,
   "id": "265a8dcc-1263-4e48-94bf-e13b1602ab68",
   "metadata": {},
   "outputs": [
    {
     "name": "stdout",
     "output_type": "stream",
     "text": [
      "sakkina pkd\n"
     ]
    }
   ],
   "source": [
    "class student(Person):\n",
    "    def __init__(self,fname,lname):\n",
    "        Person.__init__(self,fname,lname)\n",
    "        x=student(\"sakkina\",\"pkd\")\n",
    "x.printname()"
   ]
  },
  {
   "cell_type": "markdown",
   "id": "08966ff8-ac3b-4815-81c5-b5775936dd1c",
   "metadata": {},
   "source": [
    "use the super() function"
   ]
  },
  {
   "cell_type": "code",
   "execution_count": 35,
   "id": "03dc8ca3-7b4b-492a-a407-d69797bd7e0c",
   "metadata": {},
   "outputs": [],
   "source": [
    "class student(Person):\n",
    "    def __init__(self,fname,lname):\n",
    "        super().__init__(self,fname,lname)"
   ]
  },
  {
   "cell_type": "markdown",
   "id": "10394fe1-755f-45e3-b891-659182377baa",
   "metadata": {},
   "source": [
    "Add properties"
   ]
  },
  {
   "cell_type": "code",
   "execution_count": 36,
   "id": "9b612cb6-cec6-4601-980e-efbdade0084e",
   "metadata": {},
   "outputs": [
    {
     "name": "stdout",
     "output_type": "stream",
     "text": [
      "2022\n",
      "Soubhagini Das\n"
     ]
    }
   ],
   "source": [
    "class Person:\n",
    "    def __init__(self, fname, lname):\n",
    "        self.firstname = fname\n",
    "        self.lastname = lname\n",
    "    def printname(self):\n",
    "        print(self.firstname, self.lastname)\n",
    "class Student(Person):\n",
    "    def __init__(self, fname, lname):\n",
    "        super().__init__(fname, lname)\n",
    "        self.graduationyear = 2022\n",
    "x = Student(\"Soubhagini\", \"Das\")\n",
    "print(x.graduationyear)\n",
    "x.printname()"
   ]
  },
  {
   "cell_type": "code",
   "execution_count": 39,
   "id": "1701d976-30bb-4f16-b5f5-1465a2a35cc3",
   "metadata": {},
   "outputs": [
    {
     "name": "stdout",
     "output_type": "stream",
     "text": [
      "2022\n"
     ]
    }
   ],
   "source": [
    "class Person:\n",
    "    def __init__(self, fname, lname):\n",
    "        self.firstname = fname\n",
    "        self.lastname = lname\n",
    "    def printname(self):\n",
    "        print(self.firstname, self.lastname)\n",
    "class Student(Person):\n",
    "    def __init__(self, fname, lname,year):\n",
    "        super().__init__(fname, lname)\n",
    "        self.graduationyear = year\n",
    "x = Student(\"Soubhagini\", \"Das\",2022)\n",
    "print(x.graduationyear)\n",
    "#x.printname()"
   ]
  },
  {
   "cell_type": "markdown",
   "id": "461edc11-d835-428e-86c5-33377a6c8418",
   "metadata": {},
   "source": [
    "Add Method"
   ]
  },
  {
   "cell_type": "code",
   "execution_count": 45,
   "id": "51865265-f479-4f7e-8342-89ec4147d572",
   "metadata": {},
   "outputs": [
    {
     "name": "stdout",
     "output_type": "stream",
     "text": [
      "welcome Soubhagini Das to the class of <__main__.Student object at 0x000001FBF53A35D0>\n"
     ]
    }
   ],
   "source": [
    "class Person:\n",
    "    def __init__(self, fname, lname):\n",
    "        self.firstname = fname\n",
    "        self.lastname = lname\n",
    "    def printname(self):\n",
    "        print(self.firstname, self.lastname)\n",
    "class Student(Person):\n",
    "    def __init__(self, fname, lname,year):\n",
    "        super().__init__(fname, lname)\n",
    "        self.graduationyear = year\n",
    "    def welcome(self):\n",
    "        print(\"welcome\",self.firstname,self.lastname,\"to the class of\",self)\n",
    "x = Student(\"Soubhagini\", \"Das\",2022)\n",
    "#print(x.graduationyear)\n",
    "x.welcome()"
   ]
  },
  {
   "cell_type": "markdown",
   "id": "3273985c-944c-40e7-880d-4c7054e37760",
   "metadata": {},
   "source": [
    "Python Inheritance"
   ]
  },
  {
   "cell_type": "code",
   "execution_count": 46,
   "id": "ab8c036f-6fc3-4830-84c8-c611d796434a",
   "metadata": {},
   "outputs": [],
   "source": [
    "class person:\n",
    "    def __init__(self):\n",
    "        print(\"profile created\")\n",
    "    def name(self):\n",
    "        print(\"Soubhagini Das\")\n",
    "    def age(self):\n",
    "        print(\"23\")"
   ]
  },
  {
   "cell_type": "code",
   "execution_count": 47,
   "id": "a1b0ee90-64cf-413c-a018-31e33a901827",
   "metadata": {},
   "outputs": [],
   "source": [
    "class person1(person):\n",
    "    def __init__(self):\n",
    "        super().__init__()\n",
    "        print(\"company profile created\")\n",
    "    def name(self):\n",
    "        print(\"pradyumna kumar Das\")\n",
    "    def type(self):\n",
    "        print(\"private space travel\")\n",
    "        "
   ]
  },
  {
   "cell_type": "code",
   "execution_count": 48,
   "id": "dd473e88-95d1-47ce-b67b-1c5e55698edf",
   "metadata": {},
   "outputs": [
    {
     "name": "stdout",
     "output_type": "stream",
     "text": [
      "profile created\n",
      "company profile created\n",
      "pradyumna kumar Das\n",
      "23\n",
      "private space travel\n"
     ]
    }
   ],
   "source": [
    "person1_profile=person1()\n",
    "person1_profile.name()\n",
    "person1_profile.age()\n",
    "person1_profile.type()"
   ]
  },
  {
   "cell_type": "code",
   "execution_count": 49,
   "id": "31b66a43-71c4-479f-b9ca-277180e34df0",
   "metadata": {},
   "outputs": [
    {
     "name": "stdout",
     "output_type": "stream",
     "text": [
      "profile created\n",
      "company profile created\n"
     ]
    }
   ],
   "source": [
    "a=person1()"
   ]
  },
  {
   "cell_type": "markdown",
   "id": "afb23a7b-5849-4d54-be70-72b13c9beae0",
   "metadata": {},
   "source": [
    "Polimerphism"
   ]
  },
  {
   "cell_type": "code",
   "execution_count": 50,
   "id": "4aaae630-a955-42d8-bdec-144bab0a7baa",
   "metadata": {},
   "outputs": [],
   "source": [
    "class Elon:\n",
    "    def __init__(self, name):\n",
    "        self.name = name\n",
    "    def type(self):\n",
    "        return \"Entrepreneur\"\n",
    "class Sundar:\n",
    "    def __init__(self, name):\n",
    "        self.name = name\n",
    "    def type(self):\n",
    "        return \"CEO\""
   ]
  },
  {
   "cell_type": "code",
   "execution_count": 51,
   "id": "4beb6b1a-47e7-4ead-b262-0df8cfff6b4d",
   "metadata": {},
   "outputs": [
    {
     "name": "stdout",
     "output_type": "stream",
     "text": [
      "Elon Musk is a Entrepreneur\n",
      "Sundar Pichai is a CEO\n"
     ]
    }
   ],
   "source": [
    "person1 = Elon('Elon Musk')\n",
    "person2 = Sundar('Sundar Pichai')\n",
    "def print_person_type(person):\n",
    "    print(f\"{person.name} is a {person.type()}\")\n",
    "print_person_type(person1)\n",
    "print_person_type(person2)"
   ]
  },
  {
   "cell_type": "markdown",
   "id": "d0191421-095d-4128-ab79-55394d13c588",
   "metadata": {},
   "source": [
    "Use one function directly in a class"
   ]
  },
  {
   "cell_type": "markdown",
   "id": "5ddea754-18c7-4e3e-b15e-51a30f179232",
   "metadata": {},
   "source": [
    "using static method"
   ]
  },
  {
   "cell_type": "code",
   "execution_count": 52,
   "id": "17c02aaa-c32a-446c-9a72-b43dcd968e0e",
   "metadata": {},
   "outputs": [
    {
     "name": "stdout",
     "output_type": "stream",
     "text": [
      "3\n"
     ]
    }
   ],
   "source": [
    "class MyClass:\n",
    "    @staticmethod\n",
    "    def my_function(arg1, arg2):\n",
    "        return arg1 + arg2\n",
    "\n",
    "result = MyClass.my_function(1, 2)\n",
    "print(result)"
   ]
  },
  {
   "cell_type": "code",
   "execution_count": 53,
   "id": "a5ef60e5-2f05-4243-a652-21bdcf35d665",
   "metadata": {},
   "outputs": [
    {
     "name": "stdout",
     "output_type": "stream",
     "text": [
      "3\n"
     ]
    }
   ],
   "source": [
    "class MyClass:\n",
    "    #@staticmethod\n",
    "    def my_function(arg1, arg2):\n",
    "        return arg1 + arg2\n",
    "\n",
    "result = MyClass.my_function(1, 2)\n",
    "print(result)"
   ]
  },
  {
   "cell_type": "markdown",
   "id": "414bc1b0-995a-4890-997e-2aee4aa890a1",
   "metadata": {},
   "source": [
    "Using classmethod"
   ]
  },
  {
   "cell_type": "code",
   "execution_count": 54,
   "id": "b0e979da-013b-469e-a17b-d9ca902f83b0",
   "metadata": {},
   "outputs": [
    {
     "name": "stdout",
     "output_type": "stream",
     "text": [
      "15\n"
     ]
    }
   ],
   "source": [
    "class MyClass:\n",
    "    class_variable = 10\n",
    "    @classmethod\n",
    "    def my_function(cls, arg1):\n",
    "        return cls.class_variable + arg1\n",
    "\n",
    "result = MyClass.my_function(5)\n",
    "print(result)"
   ]
  },
  {
   "cell_type": "markdown",
   "id": "e140b26b-f5ba-4fc4-a473-ffa72074434e",
   "metadata": {},
   "source": [
    "Using Regular Methods"
   ]
  },
  {
   "cell_type": "code",
   "execution_count": 55,
   "id": "d0e9b01f-059f-42de-9a66-1b9b0b6f96ec",
   "metadata": {},
   "outputs": [
    {
     "name": "stdout",
     "output_type": "stream",
     "text": [
      "15\n"
     ]
    }
   ],
   "source": [
    "class MyClass:\n",
    "    def __init__(self, value):\n",
    "        self.value = value\n",
    "    def my_function(self, arg1):\n",
    "        return self.value + arg1\n",
    "instance = MyClass(10)\n",
    "result = instance.my_function(5)\n",
    "print(result)"
   ]
  },
  {
   "cell_type": "markdown",
   "id": "f87fb515-bf4c-4fe2-8050-47f91ec0e06e",
   "metadata": {},
   "source": [
    "Encapsulation\n",
    "Public Members"
   ]
  },
  {
   "cell_type": "code",
   "execution_count": 56,
   "id": "2a7404af-8019-4331-bf03-ad980047bbd8",
   "metadata": {},
   "outputs": [
    {
     "name": "stdout",
     "output_type": "stream",
     "text": [
      "10\n"
     ]
    }
   ],
   "source": [
    "class MyClass:\n",
    "    def __init__(self, value):\n",
    "        self.value = value\n",
    "obj = MyClass(10)\n",
    "print(obj.value)"
   ]
  },
  {
   "cell_type": "markdown",
   "id": "ad9f98c4-a840-45e6-957b-f04f60d6128d",
   "metadata": {},
   "source": [
    "Protected Members"
   ]
  },
  {
   "cell_type": "code",
   "execution_count": 57,
   "id": "8a1be26e-c768-4a21-88c9-4e9e1d70fb4d",
   "metadata": {},
   "outputs": [
    {
     "name": "stdout",
     "output_type": "stream",
     "text": [
      "10\n"
     ]
    }
   ],
   "source": [
    "class MyClass:\n",
    "    def __init__(self, value):\n",
    "        self._value = value\n",
    "    def _protected_method(self):\n",
    "        return self._value\n",
    "obj = MyClass(10)\n",
    "print(obj._value)"
   ]
  },
  {
   "cell_type": "code",
   "execution_count": 58,
   "id": "0797f422-aa36-4419-9130-e05db980f62b",
   "metadata": {},
   "outputs": [
    {
     "data": {
      "text/plain": [
       "10"
      ]
     },
     "execution_count": 58,
     "metadata": {},
     "output_type": "execute_result"
    }
   ],
   "source": [
    "obj._protected_method()"
   ]
  },
  {
   "cell_type": "markdown",
   "id": "2e703aeb-54d8-4487-a856-a4bb0612756d",
   "metadata": {},
   "source": [
    "Private Members"
   ]
  },
  {
   "cell_type": "code",
   "execution_count": 59,
   "id": "ff7dc04f-d26b-4d82-bdf1-4cfa4b53cf3a",
   "metadata": {},
   "outputs": [
    {
     "name": "stdout",
     "output_type": "stream",
     "text": [
      "10\n"
     ]
    }
   ],
   "source": [
    "class MyClass:\n",
    "    def __init__(self, value):\n",
    "        self.__value = value\n",
    "    def get_value(self):\n",
    "        return self.__value\n",
    "obj = MyClass(10)\n",
    "print(obj.get_value())"
   ]
  },
  {
   "cell_type": "code",
   "execution_count": 60,
   "id": "1a2ededc-ca48-45b6-9c5e-a7b5eec4507e",
   "metadata": {},
   "outputs": [
    {
     "ename": "AttributeError",
     "evalue": "'MyClass' object has no attribute '__value'",
     "output_type": "error",
     "traceback": [
      "\u001b[1;31m---------------------------------------------------------------------------\u001b[0m",
      "\u001b[1;31mAttributeError\u001b[0m                            Traceback (most recent call last)",
      "Cell \u001b[1;32mIn[60], line 1\u001b[0m\n\u001b[1;32m----> 1\u001b[0m \u001b[38;5;28mprint\u001b[39m(obj\u001b[38;5;241m.\u001b[39m__value)\n",
      "\u001b[1;31mAttributeError\u001b[0m: 'MyClass' object has no attribute '__value'"
     ]
    }
   ],
   "source": [
    "print(obj.__value)"
   ]
  },
  {
   "cell_type": "markdown",
   "id": "f8b48728-b419-4830-b6e5-3db963ace575",
   "metadata": {},
   "source": [
    "Using Getter and Setter Methods"
   ]
  },
  {
   "cell_type": "code",
   "execution_count": 61,
   "id": "a334e4dc-c54f-4d9c-b53b-4f13848c167a",
   "metadata": {},
   "outputs": [
    {
     "name": "stdout",
     "output_type": "stream",
     "text": [
      "10\n",
      "20\n"
     ]
    }
   ],
   "source": [
    "class MyClass:\n",
    "    def __init__(self, value):\n",
    "        self.__value = value\n",
    "    def get_value(self):\n",
    "        return self.__value\n",
    "    def set_value(self, value):\n",
    "        self.__value = value\n",
    "obj = MyClass(10)\n",
    "print(obj.get_value()) \n",
    "obj.set_value(20)\n",
    "print(obj.get_value())"
   ]
  },
  {
   "cell_type": "markdown",
   "id": "c6145fc6-9a17-4221-b7f1-9efa96518a8b",
   "metadata": {},
   "source": [
    "Properties"
   ]
  },
  {
   "cell_type": "code",
   "execution_count": 63,
   "id": "6b781ea4-86ca-4283-90d8-d481ec29bf11",
   "metadata": {},
   "outputs": [
    {
     "name": "stdout",
     "output_type": "stream",
     "text": [
      "10\n",
      "20\n"
     ]
    }
   ],
   "source": [
    "class MyClass:\n",
    "    def __init__(self, value):\n",
    "        self.__value = value\n",
    "    @property\n",
    "    def value(self):\n",
    "        return self.__value\n",
    "    @value.setter\n",
    "    def value(self, value):\n",
    "        self.__value = value\n",
    "obj = MyClass(10)\n",
    "print(obj.value) \n",
    "obj.value = 20\n",
    "print(obj.value)"
   ]
  },
  {
   "cell_type": "code",
   "execution_count": null,
   "id": "c681a609-8220-4307-acf4-ca9e0d4c5bda",
   "metadata": {},
   "outputs": [],
   "source": []
  }
 ],
 "metadata": {
  "kernelspec": {
   "display_name": "Python 3 (ipykernel)",
   "language": "python",
   "name": "python3"
  },
  "language_info": {
   "codemirror_mode": {
    "name": "ipython",
    "version": 3
   },
   "file_extension": ".py",
   "mimetype": "text/x-python",
   "name": "python",
   "nbconvert_exporter": "python",
   "pygments_lexer": "ipython3",
   "version": "3.11.7"
  }
 },
 "nbformat": 4,
 "nbformat_minor": 5
}
