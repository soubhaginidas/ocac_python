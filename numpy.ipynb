{
 "cells": [
  {
   "cell_type": "code",
   "execution_count": 5,
   "id": "cfce14ee-708c-443d-aed4-ca5893c5130a",
   "metadata": {},
   "outputs": [],
   "source": [
    "import numpy as np"
   ]
  },
  {
   "cell_type": "markdown",
   "id": "624db227-190d-4640-8459-1bf8a22b88de",
   "metadata": {},
   "source": [
    "ndarray object"
   ]
  },
  {
   "cell_type": "code",
   "execution_count": 1,
   "id": "4ba572fb-3ed4-4049-8bb3-5199bf22b12a",
   "metadata": {},
   "outputs": [],
   "source": [
    "a=[1,2,3,4]"
   ]
  },
  {
   "cell_type": "code",
   "execution_count": 2,
   "id": "580df221-2c24-499e-bb9c-c24828305b57",
   "metadata": {},
   "outputs": [
    {
     "name": "stdout",
     "output_type": "stream",
     "text": [
      "[1, 2, 3, 4]\n"
     ]
    }
   ],
   "source": [
    "print(a)"
   ]
  },
  {
   "cell_type": "code",
   "execution_count": 3,
   "id": "7e132dd4-7698-4be9-9ab6-7d11d4f8726d",
   "metadata": {},
   "outputs": [
    {
     "name": "stdout",
     "output_type": "stream",
     "text": [
      "<class 'list'>\n"
     ]
    }
   ],
   "source": [
    "print(type(a))"
   ]
  },
  {
   "cell_type": "code",
   "execution_count": 6,
   "id": "afae2e75-42e4-4ccc-8e5d-48b254ecd995",
   "metadata": {},
   "outputs": [],
   "source": [
    "np_a=np.array(a)"
   ]
  },
  {
   "cell_type": "code",
   "execution_count": 7,
   "id": "b46af4b8-51e5-4e4f-a542-03784c073a3c",
   "metadata": {},
   "outputs": [
    {
     "name": "stdout",
     "output_type": "stream",
     "text": [
      "[1 2 3 4]\n"
     ]
    }
   ],
   "source": [
    "print(np_a)"
   ]
  },
  {
   "cell_type": "code",
   "execution_count": 9,
   "id": "ed39a1e1-9bab-46f5-ba7b-3c201986a94f",
   "metadata": {},
   "outputs": [
    {
     "name": "stdout",
     "output_type": "stream",
     "text": [
      "<class 'numpy.ndarray'>\n"
     ]
    }
   ],
   "source": [
    "print(type(np_a))"
   ]
  },
  {
   "cell_type": "code",
   "execution_count": 11,
   "id": "e65ab0b8-4fab-4703-b888-8a2a9bdb0eb6",
   "metadata": {},
   "outputs": [
    {
     "name": "stdout",
     "output_type": "stream",
     "text": [
      "65.4 µs ± 3.13 µs per loop (mean ± std. dev. of 7 runs, 10,000 loops each)\n"
     ]
    }
   ],
   "source": [
    "L=range(1000)\n",
    "%timeit [i**2 for i in L]"
   ]
  },
  {
   "cell_type": "code",
   "execution_count": 12,
   "id": "1c90ac9f-5439-4d1e-adc8-e9393f9a6528",
   "metadata": {},
   "outputs": [
    {
     "name": "stdout",
     "output_type": "stream",
     "text": [
      "1.34 µs ± 52.9 ns per loop (mean ± std. dev. of 7 runs, 1,000,000 loops each)\n"
     ]
    }
   ],
   "source": [
    "a=np.arange(1000)\n",
    "%timeit a**2"
   ]
  },
  {
   "cell_type": "markdown",
   "id": "14158ccd-bd8a-4fb6-8784-b306843d46a2",
   "metadata": {},
   "source": [
    "creating arrays"
   ]
  },
  {
   "cell_type": "code",
   "execution_count": 13,
   "id": "4cd12715-1a00-428b-b9c2-d4c6a5d077ad",
   "metadata": {},
   "outputs": [
    {
     "data": {
      "text/plain": [
       "array([0, 1, 2, 3])"
      ]
     },
     "execution_count": 13,
     "metadata": {},
     "output_type": "execute_result"
    }
   ],
   "source": [
    "a=np.array([0,1,2,3])\n",
    "a"
   ]
  },
  {
   "cell_type": "code",
   "execution_count": 14,
   "id": "974632ec-a0f6-4219-90b2-774ad22dc95f",
   "metadata": {},
   "outputs": [
    {
     "data": {
      "text/plain": [
       "1"
      ]
     },
     "execution_count": 14,
     "metadata": {},
     "output_type": "execute_result"
    }
   ],
   "source": [
    "a.ndim"
   ]
  },
  {
   "cell_type": "code",
   "execution_count": 15,
   "id": "5f829e21-2e99-4c33-9379-1bee296492bc",
   "metadata": {},
   "outputs": [
    {
     "data": {
      "text/plain": [
       "(4,)"
      ]
     },
     "execution_count": 15,
     "metadata": {},
     "output_type": "execute_result"
    }
   ],
   "source": [
    "a.shape"
   ]
  },
  {
   "cell_type": "code",
   "execution_count": 17,
   "id": "541dd9e3-2d79-485a-a779-b285a5c456fd",
   "metadata": {},
   "outputs": [
    {
     "data": {
      "text/plain": [
       "array([[0, 1, 2],\n",
       "       [3, 4, 5]])"
      ]
     },
     "execution_count": 17,
     "metadata": {},
     "output_type": "execute_result"
    }
   ],
   "source": [
    "b=np.array([[0,1,2],[3,4,5]])\n",
    "b"
   ]
  },
  {
   "cell_type": "code",
   "execution_count": 18,
   "id": "1da41882-1795-4c5a-b2d7-c752d0431f27",
   "metadata": {},
   "outputs": [
    {
     "data": {
      "text/plain": [
       "2"
      ]
     },
     "execution_count": 18,
     "metadata": {},
     "output_type": "execute_result"
    }
   ],
   "source": [
    "b.ndim"
   ]
  },
  {
   "cell_type": "code",
   "execution_count": 19,
   "id": "0ac70cc3-cfc1-421b-9b3f-ac6f28002a64",
   "metadata": {},
   "outputs": [
    {
     "data": {
      "text/plain": [
       "(2, 3)"
      ]
     },
     "execution_count": 19,
     "metadata": {},
     "output_type": "execute_result"
    }
   ],
   "source": [
    "b.shape"
   ]
  },
  {
   "cell_type": "code",
   "execution_count": 20,
   "id": "296f736b-9339-4f08-a94a-7d2b9fcbd0fe",
   "metadata": {},
   "outputs": [
    {
     "data": {
      "text/plain": [
       "array([[[0, 1],\n",
       "        [2, 3]],\n",
       "\n",
       "       [[5, 4],\n",
       "        [6, 7]]])"
      ]
     },
     "execution_count": 20,
     "metadata": {},
     "output_type": "execute_result"
    }
   ],
   "source": [
    "c=np.array([[[0,1],[2,3]],[[5,4],[6,7]]])\n",
    "c"
   ]
  },
  {
   "cell_type": "code",
   "execution_count": 22,
   "id": "cfed7208-d546-4b63-9f2e-97bbaa19687e",
   "metadata": {},
   "outputs": [
    {
     "data": {
      "text/plain": [
       "3"
      ]
     },
     "execution_count": 22,
     "metadata": {},
     "output_type": "execute_result"
    }
   ],
   "source": [
    "c.ndim"
   ]
  },
  {
   "cell_type": "code",
   "execution_count": 23,
   "id": "5635f92b-54c5-4a2a-aa1d-b0629c64dc00",
   "metadata": {},
   "outputs": [
    {
     "data": {
      "text/plain": [
       "(2, 2, 2)"
      ]
     },
     "execution_count": 23,
     "metadata": {},
     "output_type": "execute_result"
    }
   ],
   "source": [
    "c.shape"
   ]
  },
  {
   "cell_type": "markdown",
   "id": "8e3babb3-2630-47af-b4fc-dddc505e581d",
   "metadata": {},
   "source": [
    "Creating Numpy Arrays from list"
   ]
  },
  {
   "cell_type": "code",
   "execution_count": 24,
   "id": "70e653fd-6309-435d-bfb8-6b87c1afa0f2",
   "metadata": {},
   "outputs": [
    {
     "data": {
      "text/plain": [
       "[1, 2, 3]"
      ]
     },
     "execution_count": 24,
     "metadata": {},
     "output_type": "execute_result"
    }
   ],
   "source": [
    "list=[1,2,3]\n",
    "list"
   ]
  },
  {
   "cell_type": "code",
   "execution_count": 26,
   "id": "429eae00-e751-4c1e-821d-0a62b5972b24",
   "metadata": {},
   "outputs": [
    {
     "data": {
      "text/plain": [
       "array([1, 2, 3])"
      ]
     },
     "execution_count": 26,
     "metadata": {},
     "output_type": "execute_result"
    }
   ],
   "source": [
    "np.array(list)"
   ]
  },
  {
   "cell_type": "code",
   "execution_count": 27,
   "id": "a9d65dfe-ff4d-4ba4-8c28-32fe4005ceab",
   "metadata": {},
   "outputs": [
    {
     "data": {
      "text/plain": [
       "[[1, 2, 3], [4, 5, 6], [7, 8, 9]]"
      ]
     },
     "execution_count": 27,
     "metadata": {},
     "output_type": "execute_result"
    }
   ],
   "source": [
    "my_matrix=[[1,2,3],[4,5,6],[7,8,9]]\n",
    "my_matrix"
   ]
  },
  {
   "cell_type": "code",
   "execution_count": 28,
   "id": "66e602c0-9a33-4009-b504-1a46d1d15327",
   "metadata": {},
   "outputs": [
    {
     "data": {
      "text/plain": [
       "array([[1, 2, 3],\n",
       "       [4, 5, 6],\n",
       "       [7, 8, 9]])"
      ]
     },
     "execution_count": 28,
     "metadata": {},
     "output_type": "execute_result"
    }
   ],
   "source": [
    "np.array(my_matrix)"
   ]
  },
  {
   "cell_type": "code",
   "execution_count": 29,
   "id": "e612101d-1772-48ff-b992-335ed9620fbe",
   "metadata": {},
   "outputs": [
    {
     "data": {
      "text/plain": [
       "(3, 3)"
      ]
     },
     "execution_count": 29,
     "metadata": {},
     "output_type": "execute_result"
    }
   ],
   "source": [
    "np.array(my_matrix).shape"
   ]
  },
  {
   "cell_type": "markdown",
   "id": "61f2c193-d76e-4730-a579-061f3501916e",
   "metadata": {},
   "source": [
    "functions for creating arrays\n"
   ]
  },
  {
   "cell_type": "markdown",
   "id": "6065ef4c-df9a-4b82-b5da-6d108d36995f",
   "metadata": {},
   "source": [
    "arange"
   ]
  },
  {
   "cell_type": "code",
   "execution_count": 32,
   "id": "2959f896-b0e5-4bec-b5fc-7b50fb0a9c36",
   "metadata": {},
   "outputs": [
    {
     "data": {
      "text/plain": [
       "array([0, 1, 2, 3, 4, 5, 6, 7, 8, 9])"
      ]
     },
     "execution_count": 32,
     "metadata": {},
     "output_type": "execute_result"
    }
   ],
   "source": [
    "a=np.arange(10)\n",
    "a"
   ]
  },
  {
   "cell_type": "code",
   "execution_count": 34,
   "id": "70aefbd6-54e3-4738-9674-58ebd325b64e",
   "metadata": {},
   "outputs": [
    {
     "data": {
      "text/plain": [
       "array([1, 3, 5, 7, 9])"
      ]
     },
     "execution_count": 34,
     "metadata": {},
     "output_type": "execute_result"
    }
   ],
   "source": [
    "b=np.arange(1,10,2)\n",
    "b"
   ]
  },
  {
   "cell_type": "markdown",
   "id": "79a99973-01cb-43b1-9222-e3966d8a96dc",
   "metadata": {},
   "source": [
    "linespace"
   ]
  },
  {
   "cell_type": "code",
   "execution_count": 40,
   "id": "d7e1aa25-c38a-4fc0-9ae4-bc85ca87eed3",
   "metadata": {},
   "outputs": [
    {
     "data": {
      "text/plain": [
       "array([0., 1., 2., 3., 4., 5.])"
      ]
     },
     "execution_count": 40,
     "metadata": {},
     "output_type": "execute_result"
    }
   ],
   "source": [
    "a=np.linspace(0,5,6)\n",
    "a"
   ]
  },
  {
   "cell_type": "code",
   "execution_count": 41,
   "id": "6bfabfcb-a29d-4ba7-896f-efb61c4ecab6",
   "metadata": {},
   "outputs": [
    {
     "data": {
      "text/plain": [
       "array([ 0.        ,  1.66666667,  3.33333333,  5.        ,  6.66666667,\n",
       "        8.33333333, 10.        ])"
      ]
     },
     "execution_count": 41,
     "metadata": {},
     "output_type": "execute_result"
    }
   ],
   "source": [
    "np.linspace(0,10,7)"
   ]
  },
  {
   "cell_type": "markdown",
   "id": "75cd8312-78c1-4267-b34b-0f82924b3289",
   "metadata": {},
   "source": [
    "Zeros and Once"
   ]
  },
  {
   "cell_type": "code",
   "execution_count": 42,
   "id": "4deab22c-57f6-46de-b693-4c4ffab35cfc",
   "metadata": {},
   "outputs": [
    {
     "data": {
      "text/plain": [
       "array([0., 0., 0.])"
      ]
     },
     "execution_count": 42,
     "metadata": {},
     "output_type": "execute_result"
    }
   ],
   "source": [
    "np.zeros(3)"
   ]
  },
  {
   "cell_type": "code",
   "execution_count": 43,
   "id": "2306d8a6-a263-40c8-ae05-658667d22af9",
   "metadata": {},
   "outputs": [
    {
     "data": {
      "text/plain": [
       "array([[0., 0.],\n",
       "       [0., 0.]])"
      ]
     },
     "execution_count": 43,
     "metadata": {},
     "output_type": "execute_result"
    }
   ],
   "source": [
    "b=np.zeros((2,2))\n",
    "b"
   ]
  },
  {
   "cell_type": "code",
   "execution_count": 45,
   "id": "43a1ff65-f793-421f-a478-559065d7faba",
   "metadata": {},
   "outputs": [
    {
     "data": {
      "text/plain": [
       "array([[1., 1., 1.],\n",
       "       [1., 1., 1.],\n",
       "       [1., 1., 1.],\n",
       "       [1., 1., 1.]])"
      ]
     },
     "execution_count": 45,
     "metadata": {},
     "output_type": "execute_result"
    }
   ],
   "source": [
    "b=np.ones((4,3))\n",
    "b"
   ]
  },
  {
   "cell_type": "markdown",
   "id": "b9579ee6-e760-4728-afca-738b52044479",
   "metadata": {},
   "source": [
    "creating identity matrix"
   ]
  },
  {
   "cell_type": "code",
   "execution_count": 46,
   "id": "2aae22dc-b7ca-4224-ba1f-9496b8a4b39c",
   "metadata": {},
   "outputs": [
    {
     "data": {
      "text/plain": [
       "array([[1., 0., 0.],\n",
       "       [0., 1., 0.],\n",
       "       [0., 0., 1.]])"
      ]
     },
     "execution_count": 46,
     "metadata": {},
     "output_type": "execute_result"
    }
   ],
   "source": [
    "c=np.eye(3)\n",
    "c"
   ]
  },
  {
   "cell_type": "code",
   "execution_count": 47,
   "id": "2cdb2488-e877-4b2c-ad1b-fbec2101fbad",
   "metadata": {},
   "outputs": [
    {
     "data": {
      "text/plain": [
       "array([[1., 0.],\n",
       "       [0., 1.],\n",
       "       [0., 0.]])"
      ]
     },
     "execution_count": 47,
     "metadata": {},
     "output_type": "execute_result"
    }
   ],
   "source": [
    "c=np.eye(3,2)\n",
    "c"
   ]
  },
  {
   "cell_type": "code",
   "execution_count": 48,
   "id": "85a601f4-0b5f-440c-9551-000c0a2184b4",
   "metadata": {},
   "outputs": [
    {
     "data": {
      "text/plain": [
       "array([[7, 0, 0, 0],\n",
       "       [0, 8, 0, 0],\n",
       "       [0, 0, 4, 0],\n",
       "       [0, 0, 0, 3]])"
      ]
     },
     "execution_count": 48,
     "metadata": {},
     "output_type": "execute_result"
    }
   ],
   "source": [
    "a=np.diag([7,8,4,3])\n",
    "a"
   ]
  },
  {
   "cell_type": "code",
   "execution_count": 49,
   "id": "12e2d209-3905-4913-9482-90d508ae9660",
   "metadata": {},
   "outputs": [
    {
     "data": {
      "text/plain": [
       "array([7, 8, 4, 3])"
      ]
     },
     "execution_count": 49,
     "metadata": {},
     "output_type": "execute_result"
    }
   ],
   "source": [
    "np.diag(a)"
   ]
  },
  {
   "cell_type": "code",
   "execution_count": 50,
   "id": "c86c971a-9eca-4dfa-a6fd-5f7c1ef864cf",
   "metadata": {},
   "outputs": [
    {
     "name": "stdout",
     "output_type": "stream",
     "text": [
      "[84 10 37 36 95]\n"
     ]
    }
   ],
   "source": [
    "random_array=np.random.randint(1,121,5)\n",
    "print(random_array)"
   ]
  },
  {
   "cell_type": "code",
   "execution_count": 51,
   "id": "b1bb0063-c37b-404c-b38c-635287e0c65a",
   "metadata": {},
   "outputs": [
    {
     "data": {
      "text/plain": [
       "array([0.64452112, 0.54921493, 0.54702993, 0.18881943, 0.80307371,\n",
       "       0.37763699, 0.95653519, 0.41256163])"
      ]
     },
     "execution_count": 51,
     "metadata": {},
     "output_type": "execute_result"
    }
   ],
   "source": [
    "a=np.random.rand(8)\n",
    "a"
   ]
  },
  {
   "cell_type": "code",
   "execution_count": 52,
   "id": "3d1a6438-5353-4cc4-a4b6-71618e128b53",
   "metadata": {},
   "outputs": [
    {
     "data": {
      "text/plain": [
       "array([0.00831616, 0.75663562, 0.1002462 , 0.58364471, 0.41629551,\n",
       "       0.01158603, 0.39737113, 0.35908249, 0.97706447, 0.95696499,\n",
       "       0.32009809, 0.64392321, 0.679709  , 0.10245636, 0.7133351 ,\n",
       "       0.26104295, 0.32907829, 0.85421898, 0.57062431, 0.93514607,\n",
       "       0.64883878, 0.65841385, 0.19078495, 0.72301539, 0.74847823,\n",
       "       0.75466157, 0.9732121 , 0.07265146, 0.64008231, 0.60942924,\n",
       "       0.4654344 , 0.60366079, 0.92244369, 0.51169157, 0.60817602,\n",
       "       0.51870358, 0.17070859, 0.28848784, 0.27482425, 0.81302093,\n",
       "       0.07701549, 0.25386033, 0.71925454, 0.86395968, 0.46493512,\n",
       "       0.64360088, 0.37281542, 0.75420455, 0.07705663, 0.3264907 ])"
      ]
     },
     "execution_count": 52,
     "metadata": {},
     "output_type": "execute_result"
    }
   ],
   "source": [
    "a=np.random.rand(50)\n",
    "a"
   ]
  },
  {
   "cell_type": "markdown",
   "id": "70146685-95d9-434f-86cd-bc1062d0f0a4",
   "metadata": {},
   "source": [
    "copy array"
   ]
  },
  {
   "cell_type": "code",
   "execution_count": 54,
   "id": "4d4c2b4b-470c-4425-8213-134dc1fc7e9b",
   "metadata": {},
   "outputs": [
    {
     "name": "stdout",
     "output_type": "stream",
     "text": [
      "[100   2   3]\n",
      "[100   2   3]\n"
     ]
    }
   ],
   "source": [
    "a=np.array([1,2,3])\n",
    "b=a\n",
    "b[0]=100\n",
    "print(a)\n",
    "print(b)"
   ]
  },
  {
   "cell_type": "code",
   "execution_count": 55,
   "id": "6dcf74a3-5951-45c8-8c5c-d495e66587af",
   "metadata": {},
   "outputs": [
    {
     "name": "stdout",
     "output_type": "stream",
     "text": [
      "[ 0  1  2  3  4  5  6  7  8  9 10 11 12 13 14 15 16 17 18 19 20 21 22 23\n",
      " 24]\n",
      "(25,)\n"
     ]
    }
   ],
   "source": [
    "arr=np.arange(25)\n",
    "print(arr)\n",
    "print(arr.shape)"
   ]
  },
  {
   "cell_type": "markdown",
   "id": "8d00a099-c487-41f8-ba35-de2bf5c1a2ca",
   "metadata": {},
   "source": [
    "Reshape array"
   ]
  },
  {
   "cell_type": "code",
   "execution_count": 56,
   "id": "afb32bbf-bc3d-4086-bf4d-81f3e64ab88a",
   "metadata": {},
   "outputs": [
    {
     "name": "stdout",
     "output_type": "stream",
     "text": [
      "[ 0  1  2  3  4  5  6  7  8  9 10 11 12 13 14 15 16 17 18 19 20 21 22 23\n",
      " 24]\n",
      "(25,)\n"
     ]
    }
   ],
   "source": [
    "arr=np.arange(25)\n",
    "print(arr)\n",
    "print(arr.shape)"
   ]
  },
  {
   "cell_type": "code",
   "execution_count": 57,
   "id": "73d44a6a-9e06-4748-a233-e2528393ab87",
   "metadata": {},
   "outputs": [
    {
     "data": {
      "text/plain": [
       "array([[ 0,  1,  2,  3,  4],\n",
       "       [ 5,  6,  7,  8,  9],\n",
       "       [10, 11, 12, 13, 14],\n",
       "       [15, 16, 17, 18, 19],\n",
       "       [20, 21, 22, 23, 24]])"
      ]
     },
     "execution_count": 57,
     "metadata": {},
     "output_type": "execute_result"
    }
   ],
   "source": [
    "a1=arr.reshape(5,5)\n",
    "a1"
   ]
  },
  {
   "cell_type": "code",
   "execution_count": 59,
   "id": "7b1f70be-7e6a-47d8-a428-4f9f5e4c506a",
   "metadata": {},
   "outputs": [
    {
     "name": "stdout",
     "output_type": "stream",
     "text": [
      "[[1 2 3]\n",
      " [4 5 6]]\n",
      "shape of a: (2, 3)\n"
     ]
    }
   ],
   "source": [
    "a=np.array([[1,2,3],[4,5,6]])\n",
    "print(a)\n",
    "print(\"shape of a:\",format(a.shape))"
   ]
  },
  {
   "cell_type": "markdown",
   "id": "3ff8a264-eb19-4dbf-a492-160d8994f25a",
   "metadata": {},
   "source": [
    "Transpose of array"
   ]
  },
  {
   "cell_type": "code",
   "execution_count": 60,
   "id": "6148f694-d83e-4995-abdb-3d53a9e85a02",
   "metadata": {},
   "outputs": [
    {
     "name": "stdout",
     "output_type": "stream",
     "text": [
      "shape:\n",
      "[[1 2 3]\n",
      " [4 5 6]]\n"
     ]
    }
   ],
   "source": [
    "a=np.array([[1,2,3],[4,5,6]])\n",
    "print(\"shape:\".format(a.shape))\n",
    "print(a)"
   ]
  },
  {
   "cell_type": "code",
   "execution_count": 61,
   "id": "215ef6a4-695e-4217-b81e-27cc407b5e26",
   "metadata": {},
   "outputs": [
    {
     "name": "stdout",
     "output_type": "stream",
     "text": [
      "[[1 4]\n",
      " [2 5]\n",
      " [3 6]]\n"
     ]
    }
   ],
   "source": [
    "c=a.T\n",
    "print(c)"
   ]
  },
  {
   "cell_type": "markdown",
   "id": "b6856753-726d-4136-b40e-eb2812a2ae24",
   "metadata": {},
   "source": [
    "flttening"
   ]
  },
  {
   "cell_type": "code",
   "execution_count": 62,
   "id": "54ee761d-61f8-409d-9efc-d510fa263d07",
   "metadata": {},
   "outputs": [
    {
     "data": {
      "text/plain": [
       "array([1, 2, 3, 4, 5, 6])"
      ]
     },
     "execution_count": 62,
     "metadata": {},
     "output_type": "execute_result"
    }
   ],
   "source": [
    "a=np.array([[1,2,3],[4,5,6]])\n",
    "a.ravel()"
   ]
  },
  {
   "cell_type": "markdown",
   "id": "7dd1928f-c8a1-441e-bdff-8ce82bbd2b2d",
   "metadata": {},
   "source": [
    "sorting"
   ]
  },
  {
   "cell_type": "code",
   "execution_count": 63,
   "id": "d49afba0-e9ba-4344-a13e-74351fb3a33c",
   "metadata": {},
   "outputs": [
    {
     "data": {
      "text/plain": [
       "array([[4, 5, 6],\n",
       "       [2, 2, 8]])"
      ]
     },
     "execution_count": 63,
     "metadata": {},
     "output_type": "execute_result"
    }
   ],
   "source": [
    "a=np.array([[5,4,6],[2,8,2]])\n",
    "b=np.sort(a,axis=1)\n",
    "b"
   ]
  },
  {
   "cell_type": "markdown",
   "id": "2e9b1ba4-2341-4a44-b62b-3625d321d3d4",
   "metadata": {},
   "source": [
    "Add/Remove operations on a numpy array"
   ]
  },
  {
   "cell_type": "code",
   "execution_count": 64,
   "id": "a9ed99d6-74eb-44ab-868c-54574db6e25f",
   "metadata": {},
   "outputs": [
    {
     "name": "stdout",
     "output_type": "stream",
     "text": [
      "[4 7 8 2 4 5]\n"
     ]
    }
   ],
   "source": [
    "a=np.array([4,7,8])\n",
    "a=np.append(a,[2,4,5])\n",
    "print(a)"
   ]
  },
  {
   "cell_type": "code",
   "execution_count": 65,
   "id": "075407ac-a870-4015-a947-93326da2f9ec",
   "metadata": {},
   "outputs": [
    {
     "name": "stdout",
     "output_type": "stream",
     "text": [
      "[4 7 2 4 5]\n"
     ]
    }
   ],
   "source": [
    "a=np.delete(a,2)\n",
    "print(a)"
   ]
  },
  {
   "cell_type": "markdown",
   "id": "5abfe2a8-5e6f-46d3-b88a-4374a7753433",
   "metadata": {},
   "source": [
    "Indexing"
   ]
  },
  {
   "cell_type": "code",
   "execution_count": 66,
   "id": "e27ee4fa-38d3-4dac-ac91-a99e75d28f92",
   "metadata": {},
   "outputs": [
    {
     "name": "stdout",
     "output_type": "stream",
     "text": [
      "[3 4 5 6 7 8 9]\n",
      "8\n"
     ]
    }
   ],
   "source": [
    "a=np.arange(3,10)\n",
    "print(a)\n",
    "print(a[5])"
   ]
  },
  {
   "cell_type": "code",
   "execution_count": 67,
   "id": "e2c05ddd-e31d-48ab-a95e-470e846efeb2",
   "metadata": {},
   "outputs": [
    {
     "name": "stdout",
     "output_type": "stream",
     "text": [
      "[[1 0 0]\n",
      " [0 2 0]\n",
      " [0 0 3]]\n",
      "0\n"
     ]
    }
   ],
   "source": [
    "a=np.diag([1,2,3])\n",
    "print(a)\n",
    "print(a[2,1])"
   ]
  },
  {
   "cell_type": "code",
   "execution_count": 68,
   "id": "c08a9e53-c370-4003-a4b6-5c1a91124069",
   "metadata": {},
   "outputs": [
    {
     "data": {
      "text/plain": [
       "array([[1, 0, 0],\n",
       "       [0, 2, 0],\n",
       "       [0, 5, 3]])"
      ]
     },
     "execution_count": 68,
     "metadata": {},
     "output_type": "execute_result"
    }
   ],
   "source": [
    "a[2,1]=5\n",
    "a"
   ]
  },
  {
   "cell_type": "markdown",
   "id": "8293577d-e66f-4e27-941c-a33b19204fdc",
   "metadata": {},
   "source": [
    "Slicing"
   ]
  },
  {
   "cell_type": "code",
   "execution_count": 69,
   "id": "fef7bf5d-2ff4-49ed-af04-27560826a60e",
   "metadata": {},
   "outputs": [
    {
     "data": {
      "text/plain": [
       "array([ 4,  5,  6,  7,  8,  9, 10, 11, 12, 13, 14, 15, 16, 17])"
      ]
     },
     "execution_count": 69,
     "metadata": {},
     "output_type": "execute_result"
    }
   ],
   "source": [
    "a=np.arange(4,18)\n",
    "a"
   ]
  },
  {
   "cell_type": "code",
   "execution_count": 70,
   "id": "9b7a3895-e7cd-4df6-be84-c36259d0c853",
   "metadata": {},
   "outputs": [
    {
     "data": {
      "text/plain": [
       "array([ 5,  7,  9, 11])"
      ]
     },
     "execution_count": 70,
     "metadata": {},
     "output_type": "execute_result"
    }
   ],
   "source": [
    "a[1:8:2]"
   ]
  },
  {
   "cell_type": "code",
   "execution_count": 73,
   "id": "7160e930-56db-4b94-bd22-c3ff8c96acb3",
   "metadata": {},
   "outputs": [
    {
     "data": {
      "text/plain": [
       "array([5, 6, 7, 8, 9])"
      ]
     },
     "execution_count": 73,
     "metadata": {},
     "output_type": "execute_result"
    }
   ],
   "source": [
    "b=np.arange(10)\n",
    "b[5:]"
   ]
  },
  {
   "cell_type": "code",
   "execution_count": 74,
   "id": "6961ebcd-e79b-4729-8768-9f9b21eec28b",
   "metadata": {},
   "outputs": [
    {
     "data": {
      "text/plain": [
       "array([9, 8, 7, 6, 5, 4, 3, 2, 1, 0])"
      ]
     },
     "execution_count": 74,
     "metadata": {},
     "output_type": "execute_result"
    }
   ],
   "source": [
    "b[::-1]"
   ]
  },
  {
   "cell_type": "markdown",
   "id": "cc8952a5-e40b-4f2e-b2b7-d993b05d9b74",
   "metadata": {},
   "source": [
    "fancy indexing"
   ]
  },
  {
   "cell_type": "code",
   "execution_count": 75,
   "id": "8b5198cb-01ff-4d66-a250-8590bf768f3e",
   "metadata": {},
   "outputs": [
    {
     "data": {
      "text/plain": [
       "array([15,  1,  8, 19,  4])"
      ]
     },
     "execution_count": 75,
     "metadata": {},
     "output_type": "execute_result"
    }
   ],
   "source": [
    "a=np.random.randint(0,20,5)\n",
    "a"
   ]
  },
  {
   "cell_type": "code",
   "execution_count": 76,
   "id": "92c4a885-135d-44a5-899d-1afa1344a5f1",
   "metadata": {},
   "outputs": [
    {
     "data": {
      "text/plain": [
       "array([8, 4])"
      ]
     },
     "execution_count": 76,
     "metadata": {},
     "output_type": "execute_result"
    }
   ],
   "source": [
    "a[a%2==0]"
   ]
  },
  {
   "cell_type": "code",
   "execution_count": 77,
   "id": "5d7e88a3-ae31-40ae-b005-88654faadb4a",
   "metadata": {},
   "outputs": [
    {
     "data": {
      "text/plain": [
       "array([15,  1, -1, 19, -1])"
      ]
     },
     "execution_count": 77,
     "metadata": {},
     "output_type": "execute_result"
    }
   ],
   "source": [
    "a[a%2==0]=-1\n",
    "a"
   ]
  },
  {
   "cell_type": "markdown",
   "id": "d865e528-6113-4117-a2ed-ec140837e53c",
   "metadata": {},
   "source": [
    "indexing with an array of integers"
   ]
  },
  {
   "cell_type": "code",
   "execution_count": 78,
   "id": "53740587-4ba5-4e85-b224-05cae8312f1d",
   "metadata": {},
   "outputs": [
    {
     "data": {
      "text/plain": [
       "array([  0,  10,  20,  30,  40,  50,  60,  70,  80,  90, 100])"
      ]
     },
     "execution_count": 78,
     "metadata": {},
     "output_type": "execute_result"
    }
   ],
   "source": [
    "a=np.arange(0,101,10)\n",
    "a"
   ]
  },
  {
   "cell_type": "code",
   "execution_count": 79,
   "id": "97ad5a33-8ea2-4800-a18b-8ad55248d66f",
   "metadata": {},
   "outputs": [
    {
     "data": {
      "text/plain": [
       "array([20, 30, 20, 40, 60])"
      ]
     },
     "execution_count": 79,
     "metadata": {},
     "output_type": "execute_result"
    }
   ],
   "source": [
    "a[[2,3,2,4,6]]"
   ]
  },
  {
   "cell_type": "code",
   "execution_count": 81,
   "id": "c25ae204-4727-4018-8398-6eeac77cdb58",
   "metadata": {},
   "outputs": [
    {
     "data": {
      "text/plain": [
       "array([   0,   10,   20,   30,   40,   50,   60, -200,   80, -200,  100])"
      ]
     },
     "execution_count": 81,
     "metadata": {},
     "output_type": "execute_result"
    }
   ],
   "source": [
    "a[[9,7]]=-200\n",
    "a"
   ]
  },
  {
   "cell_type": "markdown",
   "id": "473e648f-e1c5-4494-af5a-1a331f941842",
   "metadata": {},
   "source": [
    "operations"
   ]
  },
  {
   "cell_type": "code",
   "execution_count": 82,
   "id": "11050c72-6d5a-4ad2-adb9-661b559c7e00",
   "metadata": {},
   "outputs": [
    {
     "name": "stdout",
     "output_type": "stream",
     "text": [
      "[1 2 3 4]\n",
      "[2 3 4 5]\n"
     ]
    }
   ],
   "source": [
    "a=np.array([1,2,3,4])\n",
    "print(a)\n",
    "print(a+1)"
   ]
  },
  {
   "cell_type": "code",
   "execution_count": 83,
   "id": "ff805075-dcab-4bc0-93f7-db7a6d852166",
   "metadata": {},
   "outputs": [
    {
     "data": {
      "text/plain": [
       "array([ 1,  4,  9, 16])"
      ]
     },
     "execution_count": 83,
     "metadata": {},
     "output_type": "execute_result"
    }
   ],
   "source": [
    "a**2"
   ]
  },
  {
   "cell_type": "markdown",
   "id": "fa17640e-4b56-424d-afd3-cfa55bf59e6f",
   "metadata": {},
   "source": [
    "All arithmetic operators elementwise"
   ]
  },
  {
   "cell_type": "code",
   "execution_count": 84,
   "id": "ba649470-c42f-4566-93fe-3790e5ff9152",
   "metadata": {},
   "outputs": [
    {
     "data": {
      "text/plain": [
       "array([2., 2., 2., 2.])"
      ]
     },
     "execution_count": 84,
     "metadata": {},
     "output_type": "execute_result"
    }
   ],
   "source": [
    "b=np.ones(4)+1\n",
    "b"
   ]
  },
  {
   "cell_type": "code",
   "execution_count": 85,
   "id": "6ccbdecd-ecac-4a36-8d70-2bbfd1fcc99d",
   "metadata": {},
   "outputs": [
    {
     "data": {
      "text/plain": [
       "array([-1.,  0.,  1.,  2.])"
      ]
     },
     "execution_count": 85,
     "metadata": {},
     "output_type": "execute_result"
    }
   ],
   "source": [
    "a-b"
   ]
  },
  {
   "cell_type": "code",
   "execution_count": 86,
   "id": "8fd9ea0b-9cd8-4c77-a5ba-ed4facfce650",
   "metadata": {},
   "outputs": [
    {
     "data": {
      "text/plain": [
       "array([2., 4., 6., 8.])"
      ]
     },
     "execution_count": 86,
     "metadata": {},
     "output_type": "execute_result"
    }
   ],
   "source": [
    "a*b"
   ]
  },
  {
   "cell_type": "code",
   "execution_count": 87,
   "id": "3c9c2d97-eb09-4562-83fa-c234cea88a3b",
   "metadata": {},
   "outputs": [
    {
     "name": "stdout",
     "output_type": "stream",
     "text": [
      "[[ 5  6]\n",
      " [ 7  8]\n",
      " [ 9 10]]\n"
     ]
    }
   ],
   "source": [
    "a=np.array([[1,2],[3,4],[5,6]])\n",
    "b=np.array([[4,4],[4,4],[4,4]])\n",
    "print(a+b)"
   ]
  },
  {
   "cell_type": "code",
   "execution_count": 88,
   "id": "d23be1eb-39c7-446b-a92d-7119212bbe82",
   "metadata": {},
   "outputs": [
    {
     "name": "stdout",
     "output_type": "stream",
     "text": [
      "[[ 4  8]\n",
      " [12 16]\n",
      " [20 24]]\n"
     ]
    }
   ],
   "source": [
    "print(a*b)"
   ]
  },
  {
   "cell_type": "code",
   "execution_count": 7,
   "id": "80cf3586-1fa9-480f-8def-09cbd6911db7",
   "metadata": {},
   "outputs": [
    {
     "name": "stdout",
     "output_type": "stream",
     "text": [
      "[[ 1  0  0  0]\n",
      " [ 0  4  0  0]\n",
      " [ 0  0  9  0]\n",
      " [ 0  0  0 16]]\n"
     ]
    }
   ],
   "source": [
    "c=np.diag([1,2,3,4])\n",
    "print (c * c)"
   ]
  },
  {
   "cell_type": "code",
   "execution_count": 14,
   "id": "e565c50b-74f4-478a-bb08-4698197d92d3",
   "metadata": {},
   "outputs": [
    {
     "name": "stdout",
     "output_type": "stream",
     "text": [
      "matrix multiplication is:\n",
      " [[16 16  8]\n",
      " [40 40 20]\n",
      " [64 64 32]]\n"
     ]
    }
   ],
   "source": [
    "a=np.array([[1,2,1],[3,4,3],[5,6,5]])\n",
    "b=np.array([[4,4,1],[4,4,2],[4,4,3]])\n",
    "print(\"matrix multiplication is:\\n\",np.matmul(a,b))"
   ]
  },
  {
   "cell_type": "code",
   "execution_count": 15,
   "id": "b08abb15-49b4-4853-aeaf-29fcd31d44a4",
   "metadata": {},
   "outputs": [
    {
     "name": "stdout",
     "output_type": "stream",
     "text": [
      "matrix multiplication is:\n",
      " [[21 30 21]\n",
      " [26 36 26]\n",
      " [31 42 31]]\n"
     ]
    }
   ],
   "source": [
    "a=np.array([[1,2,1],[3,4,3],[5,6,5]])\n",
    "b=np.array([[4,4,1],[4,4,2],[4,4,3]])\n",
    "print(\"matrix multiplication is:\\n\",np.matmul(b,a))"
   ]
  },
  {
   "cell_type": "code",
   "execution_count": 10,
   "id": "81a5747f-cbf6-4b79-86bb-71e66a0aee96",
   "metadata": {},
   "outputs": [
    {
     "name": "stdout",
     "output_type": "stream",
     "text": [
      "[[ 4  8  1]\n",
      " [12 16  6]\n",
      " [20 24 15]]\n"
     ]
    }
   ],
   "source": [
    "print(a*b)"
   ]
  },
  {
   "cell_type": "code",
   "execution_count": 11,
   "id": "42eb486d-7695-4035-bc59-927ac905a3a3",
   "metadata": {},
   "outputs": [
    {
     "name": "stdout",
     "output_type": "stream",
     "text": [
      "[[ 4  8  1]\n",
      " [12 16  6]\n",
      " [20 24 15]]\n"
     ]
    }
   ],
   "source": [
    "print(b*a)"
   ]
  },
  {
   "cell_type": "code",
   "execution_count": 16,
   "id": "bb62ec85-108f-4c44-9de0-9924b33bf31c",
   "metadata": {},
   "outputs": [
    {
     "data": {
      "text/plain": [
       "array([False,  True, False,  True])"
      ]
     },
     "execution_count": 16,
     "metadata": {},
     "output_type": "execute_result"
    }
   ],
   "source": [
    "a=np.array([1,2,3,4])\n",
    "b=np.array([5,2,2,4])\n",
    "a==b"
   ]
  },
  {
   "cell_type": "code",
   "execution_count": 25,
   "id": "a9563bff-e29f-4fa0-8eb6-28804864bc53",
   "metadata": {},
   "outputs": [],
   "source": [
    "a=np.array([1,2,6,4])\n",
    "b=np.array([1,2,2,4])\n",
    "c=np.array([1,2,6,4])"
   ]
  },
  {
   "cell_type": "code",
   "execution_count": 32,
   "id": "8e71b7c5-fea9-46e8-a76a-8bc52d45c78c",
   "metadata": {},
   "outputs": [
    {
     "data": {
      "text/plain": [
       "False"
      ]
     },
     "execution_count": 32,
     "metadata": {},
     "output_type": "execute_result"
    }
   ],
   "source": [
    "np.array_equal(a,b)"
   ]
  },
  {
   "cell_type": "code",
   "execution_count": 26,
   "id": "d752d2f2-bdfa-4337-bb66-1d00c96fc519",
   "metadata": {},
   "outputs": [
    {
     "data": {
      "text/plain": [
       "True"
      ]
     },
     "execution_count": 26,
     "metadata": {},
     "output_type": "execute_result"
    }
   ],
   "source": [
    "np.array_equal(a,c)"
   ]
  },
  {
   "cell_type": "code",
   "execution_count": 41,
   "id": "2a8b9890-d5dd-480e-ab2d-a9d876a127f1",
   "metadata": {},
   "outputs": [
    {
     "name": "stdout",
     "output_type": "stream",
     "text": [
      "[ True  True  True  True]\n",
      "[ True  True  True False]\n",
      "[ True  True  True  True]\n"
     ]
    }
   ],
   "source": [
    "a=np.array([1,1,4,9],dtype=bool)\n",
    "b=np.array([1,2,1,0],dtype=bool)\n",
    "print (np.logical_or(a,b))\n",
    "print (np.logical_and(a,b))\n",
    "print(a+b)"
   ]
  },
  {
   "cell_type": "code",
   "execution_count": 40,
   "id": "c1244ff3-349e-4ddd-8305-0bdc0280503d",
   "metadata": {},
   "outputs": [
    {
     "name": "stdout",
     "output_type": "stream",
     "text": [
      "[2. 1. 1. 0.]\n"
     ]
    }
   ],
   "source": [
    "a=np.array([1,1,0,0],dtype=float)\n",
    "b=np.array([1,0,1,0],dtype=float)\n",
    "#print (np.logical_or(a,b))\n",
    "#print (np.logical_and(a,b))\n",
    "print(a+b)"
   ]
  },
  {
   "cell_type": "code",
   "execution_count": 34,
   "id": "4e5bb4fd-15a0-44a4-aa02-a87992e30154",
   "metadata": {},
   "outputs": [
    {
     "name": "stdout",
     "output_type": "stream",
     "text": [
      "[2 1 1 0]\n"
     ]
    }
   ],
   "source": [
    "print(a+b)"
   ]
  },
  {
   "cell_type": "code",
   "execution_count": 31,
   "id": "f6933a51-5f3c-491a-900c-6e8cbcab95f1",
   "metadata": {},
   "outputs": [
    {
     "name": "stdout",
     "output_type": "stream",
     "text": [
      "[ True  True  True False]\n",
      "[ True False False False]\n"
     ]
    }
   ],
   "source": [
    "a=np.array([1,1,0,0])\n",
    "b=np.array([1,0,1,0])\n",
    "print (np.logical_or(a,b))\n",
    "print (np.logical_and(a,b))"
   ]
  },
  {
   "cell_type": "code",
   "execution_count": 33,
   "id": "a1bc23a0-6e1f-41cb-a282-052f4fbd0da2",
   "metadata": {},
   "outputs": [
    {
     "name": "stdout",
     "output_type": "stream",
     "text": [
      "[2 1 1 0]\n"
     ]
    }
   ],
   "source": [
    "print(a+b)"
   ]
  },
  {
   "cell_type": "code",
   "execution_count": 36,
   "id": "5985cb10-3c97-4317-a3ee-3a65f1c23aaa",
   "metadata": {},
   "outputs": [
    {
     "name": "stdout",
     "output_type": "stream",
     "text": [
      "[ True  True  True  True]\n",
      "[ True  True  True False]\n",
      "[2 3 5 9]\n"
     ]
    }
   ],
   "source": [
    "a=np.array([1,1,4,9],dtype=int)\n",
    "b=np.array([1,2,1,0],dtype=int)\n",
    "print (np.logical_or(a,b))\n",
    "print (np.logical_and(a,b))\n",
    "print(a+b)"
   ]
  },
  {
   "cell_type": "code",
   "execution_count": 42,
   "id": "c499e2ce-de1b-41b7-a7a0-6b09e1077064",
   "metadata": {},
   "outputs": [
    {
     "data": {
      "text/plain": [
       "array([ 0.        ,  0.84147098,  0.90929743,  0.14112001, -0.7568025 ])"
      ]
     },
     "execution_count": 42,
     "metadata": {},
     "output_type": "execute_result"
    }
   ],
   "source": [
    "a=np.arange(5)\n",
    "np.sin(a)"
   ]
  },
  {
   "cell_type": "code",
   "execution_count": 43,
   "id": "2f416b3a-69e8-4b55-96de-afc727a16856",
   "metadata": {},
   "outputs": [
    {
     "name": "stderr",
     "output_type": "stream",
     "text": [
      "C:\\Users\\soubh\\AppData\\Local\\Temp\\ipykernel_1316\\176755284.py:1: RuntimeWarning: divide by zero encountered in log\n",
      "  np.log(a)\n"
     ]
    },
    {
     "data": {
      "text/plain": [
       "array([      -inf, 0.        , 0.69314718, 1.09861229, 1.38629436])"
      ]
     },
     "execution_count": 43,
     "metadata": {},
     "output_type": "execute_result"
    }
   ],
   "source": [
    "np.log(a)"
   ]
  },
  {
   "cell_type": "code",
   "execution_count": 44,
   "id": "7e9db83b-0749-4e81-9d55-ec2df542e78b",
   "metadata": {},
   "outputs": [
    {
     "data": {
      "text/plain": [
       "array([ 0.        ,  1.55740772, -2.18503986, -0.14254654,  1.15782128])"
      ]
     },
     "execution_count": 44,
     "metadata": {},
     "output_type": "execute_result"
    }
   ],
   "source": [
    "np.tan(a)"
   ]
  },
  {
   "cell_type": "code",
   "execution_count": 45,
   "id": "41625a1c-15b5-474a-bafd-634c8261d9a5",
   "metadata": {},
   "outputs": [
    {
     "data": {
      "text/plain": [
       "array([ 1.        ,  2.71828183,  7.3890561 , 20.08553692, 54.59815003])"
      ]
     },
     "execution_count": 45,
     "metadata": {},
     "output_type": "execute_result"
    }
   ],
   "source": [
    "np.exp(a)"
   ]
  },
  {
   "cell_type": "code",
   "execution_count": 49,
   "id": "341e4084-2a8d-4ee7-89b8-b83e23dc2997",
   "metadata": {},
   "outputs": [
    {
     "ename": "ValueError",
     "evalue": "matmul: Input operand 1 has a mismatch in its core dimension 0, with gufunc signature (n?,k),(k,m?)->(n?,m?) (size 3 is different from 2)",
     "output_type": "error",
     "traceback": [
      "\u001b[1;31m---------------------------------------------------------------------------\u001b[0m",
      "\u001b[1;31mValueError\u001b[0m                                Traceback (most recent call last)",
      "Cell \u001b[1;32mIn[49], line 3\u001b[0m\n\u001b[0;32m      1\u001b[0m a\u001b[38;5;241m=\u001b[39mnp\u001b[38;5;241m.\u001b[39marray([[\u001b[38;5;241m1\u001b[39m,\u001b[38;5;241m2\u001b[39m,\u001b[38;5;241m1\u001b[39m],[\u001b[38;5;241m3\u001b[39m,\u001b[38;5;241m4\u001b[39m,\u001b[38;5;241m3\u001b[39m],[\u001b[38;5;241m5\u001b[39m,\u001b[38;5;241m6\u001b[39m,\u001b[38;5;241m5\u001b[39m]])\n\u001b[0;32m      2\u001b[0m b\u001b[38;5;241m=\u001b[39mnp\u001b[38;5;241m.\u001b[39marray([[\u001b[38;5;241m4\u001b[39m,\u001b[38;5;241m1\u001b[39m],[\u001b[38;5;241m4\u001b[39m,\u001b[38;5;241m2\u001b[39m],[\u001b[38;5;241m4\u001b[39m,\u001b[38;5;241m4\u001b[39m]])\n\u001b[1;32m----> 3\u001b[0m \u001b[38;5;28mprint\u001b[39m(\u001b[38;5;124m\"\u001b[39m\u001b[38;5;124mmatrix multiplication is:\u001b[39m\u001b[38;5;130;01m\\n\u001b[39;00m\u001b[38;5;124m\"\u001b[39m,np\u001b[38;5;241m.\u001b[39mmatmul(b,a))\n",
      "\u001b[1;31mValueError\u001b[0m: matmul: Input operand 1 has a mismatch in its core dimension 0, with gufunc signature (n?,k),(k,m?)->(n?,m?) (size 3 is different from 2)"
     ]
    }
   ],
   "source": [
    "a=np.array([[1,2,1],[3,4,3],[5,6,5]])\n",
    "b=np.array([[4,1],[4,2],[4,4]])\n",
    "print(\"matrix multiplication is:\\n\",np.matmul(b,a))"
   ]
  },
  {
   "cell_type": "code",
   "execution_count": 50,
   "id": "841e4db4-e8f2-4f9f-92c1-0cfe10960100",
   "metadata": {},
   "outputs": [
    {
     "data": {
      "text/plain": [
       "12"
      ]
     },
     "execution_count": 50,
     "metadata": {},
     "output_type": "execute_result"
    }
   ],
   "source": [
    "x=np.array([1,4,5,2])\n",
    "np.sum(x)"
   ]
  },
  {
   "cell_type": "code",
   "execution_count": 73,
   "id": "6efcc824-b820-4754-b217-b5544b51173b",
   "metadata": {},
   "outputs": [
    {
     "data": {
      "text/plain": [
       "array([[2, 1],\n",
       "       [2, 3]])"
      ]
     },
     "execution_count": 73,
     "metadata": {},
     "output_type": "execute_result"
    }
   ],
   "source": [
    "x=np.array([[2,1],[2,3]])\n",
    "x"
   ]
  },
  {
   "cell_type": "code",
   "execution_count": 74,
   "id": "5510505c-6575-4d32-8422-97b2c6af969d",
   "metadata": {},
   "outputs": [
    {
     "data": {
      "text/plain": [
       "8"
      ]
     },
     "execution_count": 74,
     "metadata": {},
     "output_type": "execute_result"
    }
   ],
   "source": [
    "x.sum()"
   ]
  },
  {
   "cell_type": "code",
   "execution_count": 75,
   "id": "1a0c67a6-761f-44a5-b9ac-59c03ae45246",
   "metadata": {},
   "outputs": [
    {
     "data": {
      "text/plain": [
       "array([4, 4])"
      ]
     },
     "execution_count": 75,
     "metadata": {},
     "output_type": "execute_result"
    }
   ],
   "source": [
    "x.sum(axis=0)"
   ]
  },
  {
   "cell_type": "code",
   "execution_count": 76,
   "id": "1dfe9567-3ffa-48a1-90cc-e6feaaf88ac2",
   "metadata": {},
   "outputs": [
    {
     "data": {
      "text/plain": [
       "8"
      ]
     },
     "execution_count": 76,
     "metadata": {},
     "output_type": "execute_result"
    }
   ],
   "source": [
    "x.sum()"
   ]
  },
  {
   "cell_type": "code",
   "execution_count": 77,
   "id": "47068929-63cc-4a5b-b339-0d56f47ae661",
   "metadata": {},
   "outputs": [
    {
     "data": {
      "text/plain": [
       "array([3, 5])"
      ]
     },
     "execution_count": 77,
     "metadata": {},
     "output_type": "execute_result"
    }
   ],
   "source": [
    "x.sum(axis=1)\n"
   ]
  },
  {
   "cell_type": "code",
   "execution_count": 78,
   "id": "8f1de531-976d-4b9f-8bad-312355c318e9",
   "metadata": {},
   "outputs": [
    {
     "data": {
      "text/plain": [
       "8"
      ]
     },
     "execution_count": 78,
     "metadata": {},
     "output_type": "execute_result"
    }
   ],
   "source": [
    "x.sum()"
   ]
  },
  {
   "cell_type": "code",
   "execution_count": 90,
   "id": "2a642d4a-b75a-491f-99af-9747648008b9",
   "metadata": {},
   "outputs": [
    {
     "name": "stdout",
     "output_type": "stream",
     "text": [
      "Array is [0 1 2 3 4 5 6 7 8 9]\n",
      "min element is 0\n",
      "max element is 9\n",
      "sum element is 45\n",
      "mean element is 4.5\n",
      "median element is 4.5\n",
      "standard deviation element is 2.8722813232690143\n"
     ]
    }
   ],
   "source": [
    "normal_array=np.arange(0,10,1)\n",
    "print('Array is',format(normal_array))\n",
    "#min\n",
    "print('min element is',np.min(normal_array))\n",
    "#max\n",
    "print('max element is',np.max(normal_array))\n",
    "#sum\n",
    "print('sum element is',np.sum(normal_array))\n",
    "#mean\n",
    "print('mean element is',np.mean(normal_array))\n",
    "#median\n",
    "print('median element is',np.median(normal_array))\n",
    "#sd\n",
    "print('standard deviation element is',np.std(normal_array))"
   ]
  },
  {
   "cell_type": "code",
   "execution_count": null,
   "id": "1a5dac8d-7062-450f-992b-ce2c18570674",
   "metadata": {},
   "outputs": [],
   "source": []
  }
 ],
 "metadata": {
  "kernelspec": {
   "display_name": "Python 3 (ipykernel)",
   "language": "python",
   "name": "python3"
  },
  "language_info": {
   "codemirror_mode": {
    "name": "ipython",
    "version": 3
   },
   "file_extension": ".py",
   "mimetype": "text/x-python",
   "name": "python",
   "nbconvert_exporter": "python",
   "pygments_lexer": "ipython3",
   "version": "3.11.7"
  }
 },
 "nbformat": 4,
 "nbformat_minor": 5
}
