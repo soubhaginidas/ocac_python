{
 "cells": [
  {
   "cell_type": "markdown",
   "id": "4e1d9f47-dd74-48a2-bcff-242f31e808b8",
   "metadata": {},
   "source": [
    "set"
   ]
  },
  {
   "cell_type": "code",
   "execution_count": 10,
   "id": "be18195d-1b3f-4a9d-9f0d-9135f4581159",
   "metadata": {},
   "outputs": [],
   "source": [
    "a=[2,3,87,34,56,12,45]"
   ]
  },
  {
   "cell_type": "code",
   "execution_count": 11,
   "id": "4990979a-60bc-441e-8cd7-f836aa8837b6",
   "metadata": {},
   "outputs": [
    {
     "data": {
      "text/plain": [
       "{2, 3, 12, 34, 45, 56, 87}"
      ]
     },
     "execution_count": 11,
     "metadata": {},
     "output_type": "execute_result"
    }
   ],
   "source": [
    "b=set(a)\n",
    "b"
   ]
  },
  {
   "cell_type": "code",
   "execution_count": 2,
   "id": "ef5fbbfe-095f-4377-8554-3df1db1eef26",
   "metadata": {},
   "outputs": [
    {
     "name": "stdout",
     "output_type": "stream",
     "text": [
      "{2, 3, 8, 10, 45, 14, 56}\n"
     ]
    }
   ],
   "source": [
    "a=[2,3,8,14,56,45,10,10]\n",
    "b=set(a) \n",
    "print(b) "
   ]
  },
  {
   "cell_type": "code",
   "execution_count": 3,
   "id": "e254c443-56d7-4063-89c6-051c222deb85",
   "metadata": {},
   "outputs": [
    {
     "name": "stdout",
     "output_type": "stream",
     "text": [
      "[2, 3, 8, 10, 45, 14, 56]\n"
     ]
    }
   ],
   "source": [
    "c=list(set([2,3,8,14,56,45,10,10]))\n",
    "print(c)"
   ]
  },
  {
   "cell_type": "code",
   "execution_count": 7,
   "id": "3aa2f103-e02a-4bb1-91d3-b8341ab3a196",
   "metadata": {},
   "outputs": [],
   "source": [
    "x = set([2,3,8,14,56,45,10,10])"
   ]
  },
  {
   "cell_type": "code",
   "execution_count": 9,
   "id": "16a459b0-29a4-44c2-9391-2445e1c14949",
   "metadata": {},
   "outputs": [
    {
     "data": {
      "text/plain": [
       "{2, 3, 8, 10, 14, 45, 56}"
      ]
     },
     "execution_count": 9,
     "metadata": {},
     "output_type": "execute_result"
    }
   ],
   "source": [
    "x"
   ]
  },
  {
   "cell_type": "code",
   "execution_count": 20,
   "id": "9b71857e-bc26-4e63-862d-ac106def7487",
   "metadata": {},
   "outputs": [],
   "source": [
    "a=[2,3,4,9,1,6,8,7]"
   ]
  },
  {
   "cell_type": "code",
   "execution_count": 21,
   "id": "ce277524-07ac-47d9-a804-b56918fe29b9",
   "metadata": {},
   "outputs": [
    {
     "name": "stdout",
     "output_type": "stream",
     "text": [
      "(2, 3, 4, 9, 1, 6, 8, 7)\n"
     ]
    }
   ],
   "source": [
    "b=tuple(a)\n",
    "print(b)"
   ]
  },
  {
   "cell_type": "code",
   "execution_count": 22,
   "id": "2cce9b5a-f794-4f66-8602-7c39c5bb0b38",
   "metadata": {},
   "outputs": [
    {
     "name": "stdout",
     "output_type": "stream",
     "text": [
      "{1, 2, 3, 4, 6, 7, 8, 9}\n"
     ]
    }
   ],
   "source": [
    "c=set(tuple(a))\n",
    "print(c)"
   ]
  },
  {
   "cell_type": "code",
   "execution_count": 23,
   "id": "947ad5ea-b89e-4a95-8f4a-83fc7b70a12d",
   "metadata": {},
   "outputs": [
    {
     "name": "stdout",
     "output_type": "stream",
     "text": [
      "(1, 2, 3, 4, 6, 7, 8, 9)\n"
     ]
    }
   ],
   "source": [
    "d=tuple(c)\n",
    "print(d)"
   ]
  },
  {
   "cell_type": "markdown",
   "id": "aa0fa202-a3e9-4869-bf37-6fe30aea043d",
   "metadata": {},
   "source": [
    "add()"
   ]
  },
  {
   "cell_type": "code",
   "execution_count": 24,
   "id": "61587a4e-30d2-400e-99da-7896ff0814d7",
   "metadata": {},
   "outputs": [
    {
     "data": {
      "text/plain": [
       "set()"
      ]
     },
     "execution_count": 24,
     "metadata": {},
     "output_type": "execute_result"
    }
   ],
   "source": [
    "c=set()\n",
    "c"
   ]
  },
  {
   "cell_type": "code",
   "execution_count": 25,
   "id": "c66214a3-1f91-4cb2-a750-9c5193b235fa",
   "metadata": {},
   "outputs": [
    {
     "data": {
      "text/plain": [
       "{5}"
      ]
     },
     "execution_count": 25,
     "metadata": {},
     "output_type": "execute_result"
    }
   ],
   "source": [
    "c.add(5)\n",
    "c"
   ]
  },
  {
   "cell_type": "code",
   "execution_count": 27,
   "id": "6179a651-706f-4444-b704-723eb9f7f61f",
   "metadata": {},
   "outputs": [
    {
     "data": {
      "text/plain": [
       "{0, 5, 'p'}"
      ]
     },
     "execution_count": 27,
     "metadata": {},
     "output_type": "execute_result"
    }
   ],
   "source": [
    "c.add(0)\n",
    "c.add('p')\n",
    "c"
   ]
  },
  {
   "cell_type": "markdown",
   "id": "29d984d3-7909-4cd5-a945-14561bce7ff6",
   "metadata": {},
   "source": [
    "update()"
   ]
  },
  {
   "cell_type": "code",
   "execution_count": 28,
   "id": "4f2a1a9d-0877-4a1e-beb6-91e9a3e92af2",
   "metadata": {},
   "outputs": [
    {
     "data": {
      "text/plain": [
       "{3, 4, 5}"
      ]
     },
     "execution_count": 28,
     "metadata": {},
     "output_type": "execute_result"
    }
   ],
   "source": [
    "s=set()\n",
    "s.update([3,4,5])\n",
    "s"
   ]
  },
  {
   "cell_type": "code",
   "execution_count": 29,
   "id": "a814d1ab-709e-4487-91fa-dbcb1daba0df",
   "metadata": {},
   "outputs": [
    {
     "data": {
      "text/plain": [
       "{3, 4, 5, 7, 8, 9}"
      ]
     },
     "execution_count": 29,
     "metadata": {},
     "output_type": "execute_result"
    }
   ],
   "source": [
    "s=set()\n",
    "s.update([3,4,5],{7,8,9,5})\n",
    "s"
   ]
  },
  {
   "cell_type": "code",
   "execution_count": 30,
   "id": "316dad05-ad79-49bc-93c9-00724b03f2a3",
   "metadata": {},
   "outputs": [
    {
     "name": "stdout",
     "output_type": "stream",
     "text": [
      "{1, 2, 3}\n"
     ]
    }
   ],
   "source": [
    "a={1,2,3}\n",
    "b=a\n",
    "print(b)"
   ]
  },
  {
   "cell_type": "code",
   "execution_count": 40,
   "id": "d00dfdfe-1a0b-403b-af1a-1797a15ec15b",
   "metadata": {},
   "outputs": [
    {
     "name": "stdout",
     "output_type": "stream",
     "text": [
      "(1, 2, 3)\n"
     ]
    }
   ],
   "source": [
    "a=(1,2,3)\n",
    "b=a\n",
    "print(b)"
   ]
  },
  {
   "cell_type": "code",
   "execution_count": 41,
   "id": "2549cae5-99e2-4f7f-8b57-c76a5db70bce",
   "metadata": {},
   "outputs": [
    {
     "ename": "AttributeError",
     "evalue": "'tuple' object has no attribute 'copy'",
     "output_type": "error",
     "traceback": [
      "\u001b[1;31m---------------------------------------------------------------------------\u001b[0m",
      "\u001b[1;31mAttributeError\u001b[0m                            Traceback (most recent call last)",
      "Cell \u001b[1;32mIn[41], line 2\u001b[0m\n\u001b[0;32m      1\u001b[0m a\u001b[38;5;241m=\u001b[39m(\u001b[38;5;241m1\u001b[39m,\u001b[38;5;241m2\u001b[39m,\u001b[38;5;241m3\u001b[39m)\n\u001b[1;32m----> 2\u001b[0m b\u001b[38;5;241m=\u001b[39ma\u001b[38;5;241m.\u001b[39mcopy()\n\u001b[0;32m      3\u001b[0m b\u001b[38;5;241m.\u001b[39mappend(\u001b[38;5;241m9\u001b[39m)\n\u001b[0;32m      4\u001b[0m \u001b[38;5;28mprint\u001b[39m(a)\n",
      "\u001b[1;31mAttributeError\u001b[0m: 'tuple' object has no attribute 'copy'"
     ]
    }
   ],
   "source": [
    "a=(1,2,3)\n",
    "b=a.copy()\n",
    "b.append(9)\n",
    "print(a)\n",
    "print(b)"
   ]
  },
  {
   "cell_type": "markdown",
   "id": "721fb91c-b856-4ec9-8c5d-4aa0718fe246",
   "metadata": {},
   "source": [
    "copy()"
   ]
  },
  {
   "cell_type": "code",
   "execution_count": 8,
   "id": "5c9b754b-8b00-4e05-8116-d3590382a621",
   "metadata": {},
   "outputs": [
    {
     "data": {
      "text/plain": [
       "{2, 3, 4, 6, 8}"
      ]
     },
     "execution_count": 8,
     "metadata": {},
     "output_type": "execute_result"
    }
   ],
   "source": [
    "c={2,3,8,6,4}\n",
    "d=c.copy()\n",
    "d"
   ]
  },
  {
   "cell_type": "code",
   "execution_count": 9,
   "id": "997c790d-59e9-476d-91e2-b8374a8c75a2",
   "metadata": {},
   "outputs": [
    {
     "data": {
      "text/plain": [
       "{2, 3, 4, 6, 8, 10}"
      ]
     },
     "execution_count": 9,
     "metadata": {},
     "output_type": "execute_result"
    }
   ],
   "source": [
    "d.add(10)\n",
    "d"
   ]
  },
  {
   "cell_type": "code",
   "execution_count": 10,
   "id": "18f6b157-3282-40f9-9fe7-f8da36d59992",
   "metadata": {},
   "outputs": [
    {
     "data": {
      "text/plain": [
       "{10, 2, 3, 4, 6, 8, 'k'}"
      ]
     },
     "execution_count": 10,
     "metadata": {},
     "output_type": "execute_result"
    }
   ],
   "source": [
    "d.add('k')\n",
    "d"
   ]
  },
  {
   "cell_type": "markdown",
   "id": "31c871ae-5555-46fd-975f-a10d0a09439b",
   "metadata": {},
   "source": [
    "Delete"
   ]
  },
  {
   "cell_type": "code",
   "execution_count": 20,
   "id": "128e8c4b-109e-4fc8-a1b9-c1611903acd5",
   "metadata": {},
   "outputs": [
    {
     "name": "stdout",
     "output_type": "stream",
     "text": [
      "{1, 2, 5, 6, 7}\n",
      "{1, 2, 5, 6}\n"
     ]
    }
   ],
   "source": [
    "s={1,2,5,7,6}\n",
    "print(s)\n",
    "s.discard(7)\n",
    "print(s)"
   ]
  },
  {
   "cell_type": "code",
   "execution_count": 21,
   "id": "c0754002-6a71-4e60-a319-82ae10a86a86",
   "metadata": {},
   "outputs": [
    {
     "name": "stdout",
     "output_type": "stream",
     "text": [
      "{1, 2, 5, 6}\n"
     ]
    }
   ],
   "source": [
    "s.discard(10)\n",
    "print(s)"
   ]
  },
  {
   "cell_type": "code",
   "execution_count": 22,
   "id": "adc13272-c1e8-41a4-aa12-ad463f011e6d",
   "metadata": {},
   "outputs": [
    {
     "name": "stdout",
     "output_type": "stream",
     "text": [
      "{1, 5, 6}\n"
     ]
    }
   ],
   "source": [
    "s.remove(2)\n",
    "print(s)"
   ]
  },
  {
   "cell_type": "code",
   "execution_count": 23,
   "id": "69319b8d-eac2-49d1-af71-7fed43281f39",
   "metadata": {},
   "outputs": [
    {
     "ename": "KeyError",
     "evalue": "9",
     "output_type": "error",
     "traceback": [
      "\u001b[1;31m---------------------------------------------------------------------------\u001b[0m",
      "\u001b[1;31mKeyError\u001b[0m                                  Traceback (most recent call last)",
      "Cell \u001b[1;32mIn[23], line 1\u001b[0m\n\u001b[1;32m----> 1\u001b[0m s\u001b[38;5;241m.\u001b[39mremove(\u001b[38;5;241m9\u001b[39m)\n\u001b[0;32m      2\u001b[0m \u001b[38;5;28mprint\u001b[39m(s)\n",
      "\u001b[1;31mKeyError\u001b[0m: 9"
     ]
    }
   ],
   "source": [
    "s.remove(9)\n",
    "print(s)"
   ]
  },
  {
   "cell_type": "code",
   "execution_count": 26,
   "id": "f1f24a29-ebcb-4146-85d3-f83460e7ad5f",
   "metadata": {},
   "outputs": [
    {
     "name": "stdout",
     "output_type": "stream",
     "text": [
      "{1, 2, 3, 5, 6, 8, 9}\n"
     ]
    }
   ],
   "source": [
    "p={3,8,6,5,9,3,2,1}\n",
    "print(p)"
   ]
  },
  {
   "cell_type": "code",
   "execution_count": 27,
   "id": "616ad688-c468-49c7-a640-0a3b38327cac",
   "metadata": {},
   "outputs": [
    {
     "data": {
      "text/plain": [
       "{2, 3, 5, 6, 8, 9}"
      ]
     },
     "execution_count": 27,
     "metadata": {},
     "output_type": "execute_result"
    }
   ],
   "source": [
    "p.pop()\n",
    "p"
   ]
  },
  {
   "cell_type": "code",
   "execution_count": 30,
   "id": "9ec8a1d5-e177-427e-8037-1d803d1c89ba",
   "metadata": {},
   "outputs": [
    {
     "data": {
      "text/plain": [
       "set()"
      ]
     },
     "execution_count": 30,
     "metadata": {},
     "output_type": "execute_result"
    }
   ],
   "source": [
    "p={3,8,6,5,9,3,2,1}\n",
    "p.clear()\n",
    "p"
   ]
  },
  {
   "cell_type": "code",
   "execution_count": 31,
   "id": "419e8573-e9a3-441e-b808-b7d1ffb0ab23",
   "metadata": {},
   "outputs": [],
   "source": [
    "p={3,8,6,5,9,3,2,1}\n",
    "del p"
   ]
  },
  {
   "cell_type": "code",
   "execution_count": 32,
   "id": "8aa2442a-3d6d-41f5-aeed-f0961b591ef9",
   "metadata": {},
   "outputs": [
    {
     "ename": "SyntaxError",
     "evalue": "Missing parentheses in call to 'print'. Did you mean print(...)? (671083417.py, line 1)",
     "output_type": "error",
     "traceback": [
      "\u001b[1;36m  Cell \u001b[1;32mIn[32], line 1\u001b[1;36m\u001b[0m\n\u001b[1;33m    print p\u001b[0m\n\u001b[1;37m    ^\u001b[0m\n\u001b[1;31mSyntaxError\u001b[0m\u001b[1;31m:\u001b[0m Missing parentheses in call to 'print'. Did you mean print(...)?\n"
     ]
    }
   ],
   "source": [
    "print p"
   ]
  },
  {
   "cell_type": "code",
   "execution_count": 33,
   "id": "c5b5b81e-6357-4354-b1ba-0f4e2b897bc0",
   "metadata": {},
   "outputs": [
    {
     "ename": "NameError",
     "evalue": "name 'p' is not defined",
     "output_type": "error",
     "traceback": [
      "\u001b[1;31m---------------------------------------------------------------------------\u001b[0m",
      "\u001b[1;31mNameError\u001b[0m                                 Traceback (most recent call last)",
      "Cell \u001b[1;32mIn[33], line 1\u001b[0m\n\u001b[1;32m----> 1\u001b[0m \u001b[38;5;28mprint\u001b[39m (p)\n",
      "\u001b[1;31mNameError\u001b[0m: name 'p' is not defined"
     ]
    }
   ],
   "source": [
    "print (p)"
   ]
  },
  {
   "cell_type": "markdown",
   "id": "a161a619-2da5-4b93-9a38-97a9be106fb8",
   "metadata": {},
   "source": [
    "Set Operations\n",
    ".union"
   ]
  },
  {
   "cell_type": "code",
   "execution_count": 34,
   "id": "87cdf552-9098-44d3-b3bd-e0181390a086",
   "metadata": {},
   "outputs": [
    {
     "name": "stdout",
     "output_type": "stream",
     "text": [
      "{1, 2, 3, 4, 5, 6, 8, 9}\n"
     ]
    }
   ],
   "source": [
    "set_a={3,4,5,2,1}\n",
    "set_b={9,8,5,6,3}\n",
    "print(set_a|set_b)"
   ]
  },
  {
   "cell_type": "code",
   "execution_count": 36,
   "id": "910da46e-eefd-43bb-8c17-65fd958eacf7",
   "metadata": {},
   "outputs": [
    {
     "name": "stdout",
     "output_type": "stream",
     "text": [
      "{1, 2, 3, 4, 5, 6, 8, 9}\n"
     ]
    }
   ],
   "source": [
    "print(set_a.union(set_b))"
   ]
  },
  {
   "cell_type": "markdown",
   "id": "bb24a3c1-4435-4bd5-b210-081291a38eac",
   "metadata": {},
   "source": [
    ".intersection"
   ]
  },
  {
   "cell_type": "code",
   "execution_count": 37,
   "id": "f93b1a51-c3df-44b3-8486-8f8d3c29d605",
   "metadata": {},
   "outputs": [
    {
     "name": "stdout",
     "output_type": "stream",
     "text": [
      "{3, 5}\n"
     ]
    }
   ],
   "source": [
    "set_a={3,4,5,2,1}\n",
    "set_b={9,8,5,6,3}\n",
    "print(set_a&set_b)"
   ]
  },
  {
   "cell_type": "code",
   "execution_count": 38,
   "id": "f20bf357-1200-4967-8ba5-f62d53ef6e38",
   "metadata": {},
   "outputs": [
    {
     "name": "stdout",
     "output_type": "stream",
     "text": [
      "{3, 5}\n"
     ]
    }
   ],
   "source": [
    "print(set_a.intersection(set_b))"
   ]
  },
  {
   "cell_type": "markdown",
   "id": "2daf1342-20da-46be-b754-966558a1615e",
   "metadata": {},
   "source": [
    ".difference"
   ]
  },
  {
   "cell_type": "code",
   "execution_count": 39,
   "id": "d69629ca-213b-4f48-8e87-252070638759",
   "metadata": {},
   "outputs": [
    {
     "name": "stdout",
     "output_type": "stream",
     "text": [
      "{1, 2, 4}\n"
     ]
    }
   ],
   "source": [
    "print(set_a-set_b)"
   ]
  },
  {
   "cell_type": "code",
   "execution_count": 40,
   "id": "39c5028b-6b1a-4d19-9df5-8b9eefdc6444",
   "metadata": {},
   "outputs": [
    {
     "name": "stdout",
     "output_type": "stream",
     "text": [
      "{1, 2, 4}\n"
     ]
    }
   ],
   "source": [
    "print(set_a.difference(set_b))"
   ]
  },
  {
   "cell_type": "code",
   "execution_count": 41,
   "id": "698fcf8d-03cd-47dc-89e2-f02587725e68",
   "metadata": {},
   "outputs": [
    {
     "name": "stdout",
     "output_type": "stream",
     "text": [
      "{8, 9, 6}\n"
     ]
    }
   ],
   "source": [
    "print(set_b-set_a)"
   ]
  },
  {
   "cell_type": "code",
   "execution_count": 43,
   "id": "00aa8b98-b65e-45f9-b957-04b1a33a15ad",
   "metadata": {},
   "outputs": [
    {
     "name": "stdout",
     "output_type": "stream",
     "text": [
      "{8, 9, 6}\n"
     ]
    }
   ],
   "source": [
    "print(set_b.difference(set_a))"
   ]
  },
  {
   "cell_type": "markdown",
   "id": "3f6c596b-0b5b-4817-b52a-551d8d789d11",
   "metadata": {},
   "source": [
    ".difference update"
   ]
  },
  {
   "cell_type": "code",
   "execution_count": 45,
   "id": "dd1ac6a0-45f9-4a24-8149-f87f49298017",
   "metadata": {},
   "outputs": [
    {
     "data": {
      "text/plain": [
       "{1, 2, 4}"
      ]
     },
     "execution_count": 45,
     "metadata": {},
     "output_type": "execute_result"
    }
   ],
   "source": [
    "set_a.difference_update(set_b)\n",
    "set_a"
   ]
  },
  {
   "cell_type": "code",
   "execution_count": 46,
   "id": "111977d3-2d34-41c8-858a-27bd3b413c8f",
   "metadata": {},
   "outputs": [
    {
     "data": {
      "text/plain": [
       "{3, 5, 6, 8, 9}"
      ]
     },
     "execution_count": 46,
     "metadata": {},
     "output_type": "execute_result"
    }
   ],
   "source": [
    "set_b.difference_update(set_a)\n",
    "set_b"
   ]
  },
  {
   "cell_type": "markdown",
   "id": "62ceb4b0-bd16-40f8-bd6e-24c38cd3f39f",
   "metadata": {},
   "source": [
    ".symmetric difference"
   ]
  },
  {
   "cell_type": "code",
   "execution_count": 47,
   "id": "0ff3247c-4b35-4a5b-9032-9347c7cbafba",
   "metadata": {},
   "outputs": [],
   "source": [
    "set_a={3,4,5,2,1}\n",
    "set_b={9,8,5,6,3}"
   ]
  },
  {
   "cell_type": "code",
   "execution_count": 48,
   "id": "7fffad29-f11f-403e-a913-759a50206e91",
   "metadata": {},
   "outputs": [
    {
     "name": "stdout",
     "output_type": "stream",
     "text": [
      "{1, 2, 4, 6, 8, 9}\n"
     ]
    }
   ],
   "source": [
    "print(set_a^set_b)"
   ]
  },
  {
   "cell_type": "code",
   "execution_count": 49,
   "id": "81d07872-aa28-43d1-8aff-d44fde76d0a7",
   "metadata": {},
   "outputs": [
    {
     "data": {
      "text/plain": [
       "{1, 2, 3, 4, 5}"
      ]
     },
     "execution_count": 49,
     "metadata": {},
     "output_type": "execute_result"
    }
   ],
   "source": [
    "set_a.symmetric_difference(set_b)\n",
    "set_a"
   ]
  },
  {
   "cell_type": "markdown",
   "id": "fa3517a3-7f03-4b17-ab02-df8ba0c87c37",
   "metadata": {},
   "source": [
    ".symmetric difference update"
   ]
  },
  {
   "cell_type": "code",
   "execution_count": 50,
   "id": "1a8878e1-1660-4c10-8e6e-da1ef9a00138",
   "metadata": {},
   "outputs": [
    {
     "data": {
      "text/plain": [
       "{1, 2, 4, 6, 8, 9}"
      ]
     },
     "execution_count": 50,
     "metadata": {},
     "output_type": "execute_result"
    }
   ],
   "source": [
    "set_a.symmetric_difference_update(set_b)\n",
    "set_a"
   ]
  },
  {
   "cell_type": "markdown",
   "id": "b99e7244-4d31-4529-9f57-2b0f75e3d960",
   "metadata": {},
   "source": [
    " issubset() and issuperset()"
   ]
  },
  {
   "cell_type": "code",
   "execution_count": 55,
   "id": "cbffbc51-58d9-433f-bc5e-920b22161029",
   "metadata": {},
   "outputs": [
    {
     "data": {
      "text/plain": [
       "True"
      ]
     },
     "execution_count": 55,
     "metadata": {},
     "output_type": "execute_result"
    }
   ],
   "source": [
    "a={2,9,7,5}\n",
    "b={9,2,7,5,4,8,1}\n",
    "a.issubset(b)"
   ]
  },
  {
   "cell_type": "code",
   "execution_count": 56,
   "id": "513daf3b-b622-4623-8b9a-8f5c4f230e45",
   "metadata": {},
   "outputs": [
    {
     "data": {
      "text/plain": [
       "False"
      ]
     },
     "execution_count": 56,
     "metadata": {},
     "output_type": "execute_result"
    }
   ],
   "source": [
    "b.issubset(a)"
   ]
  },
  {
   "cell_type": "code",
   "execution_count": 57,
   "id": "06b551b1-19c7-4419-8738-a266cdc49abb",
   "metadata": {},
   "outputs": [
    {
     "data": {
      "text/plain": [
       "False"
      ]
     },
     "execution_count": 57,
     "metadata": {},
     "output_type": "execute_result"
    }
   ],
   "source": [
    "a.issuperset(b)"
   ]
  },
  {
   "cell_type": "code",
   "execution_count": 58,
   "id": "8b0ab331-9d3d-4cd9-bef0-2fef73111d26",
   "metadata": {},
   "outputs": [
    {
     "data": {
      "text/plain": [
       "True"
      ]
     },
     "execution_count": 58,
     "metadata": {},
     "output_type": "execute_result"
    }
   ],
   "source": [
    "b.issuperset(a)"
   ]
  },
  {
   "cell_type": "markdown",
   "id": "2acb33f0-64c3-472a-a2a5-3081362ead02",
   "metadata": {},
   "source": [
    ".isdisjoint()"
   ]
  },
  {
   "cell_type": "code",
   "execution_count": 59,
   "id": "235171aa-353b-47cf-86d6-978326e3a9e1",
   "metadata": {},
   "outputs": [
    {
     "data": {
      "text/plain": [
       "False"
      ]
     },
     "execution_count": 59,
     "metadata": {},
     "output_type": "execute_result"
    }
   ],
   "source": [
    "a.isdisjoint(b)"
   ]
  },
  {
   "cell_type": "code",
   "execution_count": null,
   "id": "c8b4c2d4-cdc2-4be8-a277-7328149d7b8e",
   "metadata": {},
   "outputs": [],
   "source": []
  }
 ],
 "metadata": {
  "kernelspec": {
   "display_name": "Python 3 (ipykernel)",
   "language": "python",
   "name": "python3"
  },
  "language_info": {
   "codemirror_mode": {
    "name": "ipython",
    "version": 3
   },
   "file_extension": ".py",
   "mimetype": "text/x-python",
   "name": "python",
   "nbconvert_exporter": "python",
   "pygments_lexer": "ipython3",
   "version": "3.11.7"
  }
 },
 "nbformat": 4,
 "nbformat_minor": 5
}
