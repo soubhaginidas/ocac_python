{
 "cells": [
  {
   "cell_type": "markdown",
   "id": "c7cfacf2-0db5-4248-8f71-85b30d209629",
   "metadata": {},
   "source": [
    "Tuple"
   ]
  },
  {
   "cell_type": "code",
   "execution_count": 1,
   "id": "347aff20-951d-4295-8786-54b891dd274f",
   "metadata": {},
   "outputs": [
    {
     "data": {
      "text/plain": [
       "()"
      ]
     },
     "execution_count": 1,
     "metadata": {},
     "output_type": "execute_result"
    }
   ],
   "source": [
    "b=()\n",
    "b"
   ]
  },
  {
   "cell_type": "code",
   "execution_count": 2,
   "id": "d5dda88e-b4fd-405d-b25f-365f3d49e6ae",
   "metadata": {},
   "outputs": [
    {
     "data": {
      "text/plain": [
       "tuple"
      ]
     },
     "execution_count": 2,
     "metadata": {},
     "output_type": "execute_result"
    }
   ],
   "source": [
    "type(b)"
   ]
  },
  {
   "cell_type": "code",
   "execution_count": 3,
   "id": "3f161f94-f66c-439d-8eb7-87fcff55c71a",
   "metadata": {},
   "outputs": [
    {
     "data": {
      "text/plain": [
       "tuple"
      ]
     },
     "execution_count": 3,
     "metadata": {},
     "output_type": "execute_result"
    }
   ],
   "source": [
    "b=tuple()\n",
    "type(b)"
   ]
  },
  {
   "cell_type": "code",
   "execution_count": 4,
   "id": "a7046c30-9b9f-4c6e-ae54-a709c572a1f9",
   "metadata": {},
   "outputs": [
    {
     "data": {
      "text/plain": [
       "(1, 'sakkina', 2.0, (3+2j))"
      ]
     },
     "execution_count": 4,
     "metadata": {},
     "output_type": "execute_result"
    }
   ],
   "source": [
    "a=(1,'sakkina',2.0,3+2j)\n",
    "a"
   ]
  },
  {
   "cell_type": "code",
   "execution_count": 6,
   "id": "0b4c60d2-e819-41f9-8aae-a2b3bec6d648",
   "metadata": {},
   "outputs": [
    {
     "data": {
      "text/plain": [
       "('sakkina', 2, (20, 100), (130, 70))"
      ]
     },
     "execution_count": 6,
     "metadata": {},
     "output_type": "execute_result"
    }
   ],
   "source": [
    "a1=('sakkina',2,(20,100),(130,70))\n",
    "a1"
   ]
  },
  {
   "cell_type": "code",
   "execution_count": 11,
   "id": "fbd78e24-9307-4ed6-b33c-c8638c8c2f67",
   "metadata": {},
   "outputs": [
    {
     "data": {
      "text/plain": [
       "('sakkina', 2, (20, 100), (130, 70), [34, 78], {'a', 'b'})"
      ]
     },
     "execution_count": 11,
     "metadata": {},
     "output_type": "execute_result"
    }
   ],
   "source": [
    "a1=('sakkina',2,(20,100),(130,70),[34,78],{'a','b'})\n",
    "a1"
   ]
  },
  {
   "cell_type": "code",
   "execution_count": 12,
   "id": "ad94be4d-b9f9-4d52-b6bd-24602f281e8a",
   "metadata": {},
   "outputs": [
    {
     "data": {
      "text/plain": [
       "6"
      ]
     },
     "execution_count": 12,
     "metadata": {},
     "output_type": "execute_result"
    }
   ],
   "source": [
    "len(a1)"
   ]
  },
  {
   "cell_type": "code",
   "execution_count": 13,
   "id": "79a149bf-d358-458f-8317-a13edb8145fa",
   "metadata": {},
   "outputs": [],
   "source": [
    "a1[4][0]=45"
   ]
  },
  {
   "cell_type": "code",
   "execution_count": 14,
   "id": "ba0ad339-5c8b-4460-9830-8a5023efb550",
   "metadata": {},
   "outputs": [
    {
     "data": {
      "text/plain": [
       "('sakkina', 2, (20, 100), (130, 70), [45, 78], {'a', 'b'})"
      ]
     },
     "execution_count": 14,
     "metadata": {},
     "output_type": "execute_result"
    }
   ],
   "source": [
    "a1"
   ]
  },
  {
   "cell_type": "code",
   "execution_count": 15,
   "id": "894b22e1-fcae-4df6-b216-dcba80964d20",
   "metadata": {},
   "outputs": [
    {
     "data": {
      "text/plain": [
       "('sakkina', 2, (20, 100), (130, 70), [34, 78], {'a', 'b'})"
      ]
     },
     "execution_count": 15,
     "metadata": {},
     "output_type": "execute_result"
    }
   ],
   "source": [
    "a1=('sakkina',2,(20,100),(130,70),[34,78],{'a','b'})\n",
    "a1"
   ]
  },
  {
   "cell_type": "code",
   "execution_count": 16,
   "id": "2165e02e-9e32-4e5a-a050-99b3fa467152",
   "metadata": {},
   "outputs": [
    {
     "ename": "TypeError",
     "evalue": "'tuple' object does not support item assignment",
     "output_type": "error",
     "traceback": [
      "\u001b[1;31m---------------------------------------------------------------------------\u001b[0m",
      "\u001b[1;31mTypeError\u001b[0m                                 Traceback (most recent call last)",
      "Cell \u001b[1;32mIn[16], line 1\u001b[0m\n\u001b[1;32m----> 1\u001b[0m a1[\u001b[38;5;241m0\u001b[39m]\u001b[38;5;241m=\u001b[39m\u001b[38;5;124m'\u001b[39m\u001b[38;5;124mpkd\u001b[39m\u001b[38;5;124m'\u001b[39m\n\u001b[0;32m      2\u001b[0m a1\n",
      "\u001b[1;31mTypeError\u001b[0m: 'tuple' object does not support item assignment"
     ]
    }
   ],
   "source": [
    "a1[0]='pkd'\n",
    "a1"
   ]
  },
  {
   "cell_type": "code",
   "execution_count": 55,
   "id": "31699e62-2da1-4942-9ed4-36bdcab9b02f",
   "metadata": {},
   "outputs": [
    {
     "data": {
      "text/plain": [
       "7"
      ]
     },
     "execution_count": 55,
     "metadata": {},
     "output_type": "execute_result"
    }
   ],
   "source": [
    "b=(1,2,3,\"sara\",[4,5,8,10],(8,231),'ok')\n",
    "len(b)"
   ]
  },
  {
   "cell_type": "code",
   "execution_count": 66,
   "id": "a50b4467-76c7-4bb6-b34d-0b1caa9eafb0",
   "metadata": {},
   "outputs": [
    {
     "data": {
      "text/plain": [
       "[8, 231]"
      ]
     },
     "execution_count": 66,
     "metadata": {},
     "output_type": "execute_result"
    }
   ],
   "source": [
    "list(b[5])"
   ]
  },
  {
   "cell_type": "code",
   "execution_count": 69,
   "id": "c7182a2d-4047-4016-8ab2-fd273a2c52a7",
   "metadata": {},
   "outputs": [
    {
     "data": {
      "text/plain": [
       "[8, 231]"
      ]
     },
     "execution_count": 69,
     "metadata": {},
     "output_type": "execute_result"
    }
   ],
   "source": [
    "a=list(b[5])\n",
    "a"
   ]
  },
  {
   "cell_type": "code",
   "execution_count": 70,
   "id": "ccb7c782-c0d7-46f7-a11a-c833d7ceb871",
   "metadata": {},
   "outputs": [
    {
     "data": {
      "text/plain": [
       "['8', 231]"
      ]
     },
     "execution_count": 70,
     "metadata": {},
     "output_type": "execute_result"
    }
   ],
   "source": [
    "a[0]='8'\n",
    "a"
   ]
  },
  {
   "cell_type": "code",
   "execution_count": 72,
   "id": "a80b4825-45d9-4843-9bba-11dcbc7fa96a",
   "metadata": {},
   "outputs": [
    {
     "data": {
      "text/plain": [
       "('8', 231)"
      ]
     },
     "execution_count": 72,
     "metadata": {},
     "output_type": "execute_result"
    }
   ],
   "source": [
    "c=tuple(a)\n",
    "c"
   ]
  },
  {
   "cell_type": "code",
   "execution_count": 80,
   "id": "60d8c8cc-8873-4b41-b75c-b60ac66586a4",
   "metadata": {},
   "outputs": [
    {
     "data": {
      "text/plain": [
       "(1, 2, 3, 'sara', [4, 5, 8, 10], ('8', 231), 'ok')"
      ]
     },
     "execution_count": 80,
     "metadata": {},
     "output_type": "execute_result"
    }
   ],
   "source": [
    "d=b[:5]+(c,)+b[6:]\n",
    "d"
   ]
  },
  {
   "cell_type": "markdown",
   "id": "ab4274cc-ef89-4cb4-a142-483f427fe59f",
   "metadata": {},
   "source": [
    "Remove and Change"
   ]
  },
  {
   "cell_type": "code",
   "execution_count": 94,
   "id": "0436d4bb-c607-41f4-a657-f8dd86f4ccb1",
   "metadata": {},
   "outputs": [
    {
     "data": {
      "text/plain": [
       "[1, 2, 3, 5, 7, 9]"
      ]
     },
     "execution_count": 94,
     "metadata": {},
     "output_type": "execute_result"
    }
   ],
   "source": [
    "a=(1,2,9,5,7,3)\n",
    "sorted(a)"
   ]
  },
  {
   "cell_type": "code",
   "execution_count": 95,
   "id": "bd7b7a3e-15e8-4ca6-a0fc-986c1cd7bdb5",
   "metadata": {},
   "outputs": [
    {
     "data": {
      "text/plain": [
       "[9, 7, 5, 3, 2, 1]"
      ]
     },
     "execution_count": 95,
     "metadata": {},
     "output_type": "execute_result"
    }
   ],
   "source": [
    "sorted(a,reverse=True)"
   ]
  },
  {
   "cell_type": "code",
   "execution_count": 91,
   "id": "f800036b-a6b9-4154-91b4-730e08fdeaa9",
   "metadata": {},
   "outputs": [
    {
     "ename": "TypeError",
     "evalue": "'<' not supported between instances of 'int' and 'str'",
     "output_type": "error",
     "traceback": [
      "\u001b[1;31m---------------------------------------------------------------------------\u001b[0m",
      "\u001b[1;31mTypeError\u001b[0m                                 Traceback (most recent call last)",
      "Cell \u001b[1;32mIn[91], line 2\u001b[0m\n\u001b[0;32m      1\u001b[0m a1\u001b[38;5;241m=\u001b[39m(\u001b[38;5;124m'\u001b[39m\u001b[38;5;124ma\u001b[39m\u001b[38;5;124m'\u001b[39m,\u001b[38;5;241m2\u001b[39m,\u001b[38;5;241m8\u001b[39m,\u001b[38;5;241m3\u001b[39m,\u001b[38;5;241m9\u001b[39m)\n\u001b[1;32m----> 2\u001b[0m \u001b[38;5;28msorted\u001b[39m(a1)\n",
      "\u001b[1;31mTypeError\u001b[0m: '<' not supported between instances of 'int' and 'str'"
     ]
    }
   ],
   "source": [
    "a1=('a',2,8,3,9)\n",
    "sorted(a1)"
   ]
  },
  {
   "cell_type": "code",
   "execution_count": 92,
   "id": "47d2b188-1bd2-4d62-b226-7750c97b5aaa",
   "metadata": {},
   "outputs": [
    {
     "data": {
      "text/plain": [
       "[0.2, 2, 5, 7, 9]"
      ]
     },
     "execution_count": 92,
     "metadata": {},
     "output_type": "execute_result"
    }
   ],
   "source": [
    "a2=(0.2,2,7,5,9)\n",
    "sorted(a2)"
   ]
  },
  {
   "cell_type": "code",
   "execution_count": 4,
   "id": "b0db10f4-e04a-4c71-9d87-ae02c8e9eef8",
   "metadata": {},
   "outputs": [
    {
     "data": {
      "text/plain": [
       "['a', 'b', 'c', 'e', 'o']"
      ]
     },
     "execution_count": 4,
     "metadata": {},
     "output_type": "execute_result"
    }
   ],
   "source": [
    "a3=('a','b','c','o','e')\n",
    "sorted(a3)"
   ]
  },
  {
   "cell_type": "markdown",
   "id": "fd0f8e5c-7f1f-4f26-93b7-bb8c838a676b",
   "metadata": {},
   "source": [
    "Tuple Indexing"
   ]
  },
  {
   "cell_type": "code",
   "execution_count": 5,
   "id": "e695667e-0099-4e89-9d51-650c3117ba5f",
   "metadata": {},
   "outputs": [
    {
     "data": {
      "text/plain": [
       "'a'"
      ]
     },
     "execution_count": 5,
     "metadata": {},
     "output_type": "execute_result"
    }
   ],
   "source": [
    "a3[0]"
   ]
  },
  {
   "cell_type": "code",
   "execution_count": 6,
   "id": "220f0949-3395-4599-afc7-bf885e415ce2",
   "metadata": {},
   "outputs": [
    {
     "data": {
      "text/plain": [
       "'e'"
      ]
     },
     "execution_count": 6,
     "metadata": {},
     "output_type": "execute_result"
    }
   ],
   "source": [
    "a3[-1]"
   ]
  },
  {
   "cell_type": "markdown",
   "id": "7eedda4a-89a6-4713-939a-c1e3fae4eff6",
   "metadata": {},
   "source": [
    "Tuple Slicing"
   ]
  },
  {
   "cell_type": "code",
   "execution_count": 7,
   "id": "6680bb06-e4f5-4fdc-8e0a-4199c17e9763",
   "metadata": {},
   "outputs": [],
   "source": [
    "mytup=('one','two','three','four','five','six','seven','eight')"
   ]
  },
  {
   "cell_type": "code",
   "execution_count": 8,
   "id": "871ff7f5-3687-4881-9cb2-2bce8c07e1ae",
   "metadata": {},
   "outputs": [
    {
     "data": {
      "text/plain": [
       "('one', 'two', 'three')"
      ]
     },
     "execution_count": 8,
     "metadata": {},
     "output_type": "execute_result"
    }
   ],
   "source": [
    "mytup[0:3]"
   ]
  },
  {
   "cell_type": "code",
   "execution_count": 9,
   "id": "06e2bf18-2435-4ce0-8c2f-22298148e67b",
   "metadata": {},
   "outputs": [
    {
     "data": {
      "text/plain": [
       "('one', 'two', 'three', 'four', 'five', 'six', 'seven', 'eight')"
      ]
     },
     "execution_count": 9,
     "metadata": {},
     "output_type": "execute_result"
    }
   ],
   "source": [
    "mytup[:]"
   ]
  },
  {
   "cell_type": "code",
   "execution_count": 10,
   "id": "be06e43f-cb73-448c-a93b-29d3b93bd879",
   "metadata": {},
   "outputs": [
    {
     "data": {
      "text/plain": [
       "('one', 'two', 'three')"
      ]
     },
     "execution_count": 10,
     "metadata": {},
     "output_type": "execute_result"
    }
   ],
   "source": [
    "mytup[:3]"
   ]
  },
  {
   "cell_type": "code",
   "execution_count": 11,
   "id": "78a48dc7-7cb6-4461-bc0f-33ef385633f9",
   "metadata": {},
   "outputs": [
    {
     "data": {
      "text/plain": [
       "('six', 'seven', 'eight')"
      ]
     },
     "execution_count": 11,
     "metadata": {},
     "output_type": "execute_result"
    }
   ],
   "source": [
    "mytup[-3:]"
   ]
  },
  {
   "cell_type": "code",
   "execution_count": 12,
   "id": "d17e1fe3-49a9-4b8d-b6a9-73632f7a9557",
   "metadata": {},
   "outputs": [
    {
     "data": {
      "text/plain": [
       "('six', 'five', 'four', 'three', 'two', 'one')"
      ]
     },
     "execution_count": 12,
     "metadata": {},
     "output_type": "execute_result"
    }
   ],
   "source": [
    "mytup[-3::-1]"
   ]
  },
  {
   "cell_type": "code",
   "execution_count": 13,
   "id": "ec59c19d-dbff-4e48-9921-0695d072097f",
   "metadata": {},
   "outputs": [
    {
     "data": {
      "text/plain": [
       "('one', 'two')"
      ]
     },
     "execution_count": 13,
     "metadata": {},
     "output_type": "execute_result"
    }
   ],
   "source": [
    "mytup[:2]"
   ]
  },
  {
   "cell_type": "code",
   "execution_count": 14,
   "id": "319f0b52-ff7d-4017-b764-1d2e039c6a60",
   "metadata": {},
   "outputs": [
    {
     "data": {
      "text/plain": [
       "('seven', 'eight')"
      ]
     },
     "execution_count": 14,
     "metadata": {},
     "output_type": "execute_result"
    }
   ],
   "source": [
    "mytup[-2:]"
   ]
  },
  {
   "cell_type": "markdown",
   "id": "e9157ec9-bf37-4193-a8fa-b295dfca34f6",
   "metadata": {},
   "source": [
    "Remove & Change Item"
   ]
  },
  {
   "cell_type": "code",
   "execution_count": 15,
   "id": "70adb8b5-cc62-42cd-b92f-eb8f075aaa80",
   "metadata": {},
   "outputs": [
    {
     "data": {
      "text/plain": [
       "('one', 'two', 'three', 'four', 'five', 'six', 'seven', 'eight')"
      ]
     },
     "execution_count": 15,
     "metadata": {},
     "output_type": "execute_result"
    }
   ],
   "source": [
    "mytup"
   ]
  },
  {
   "cell_type": "code",
   "execution_count": 16,
   "id": "ad8b3da1-9914-4228-8298-37dd18fffa50",
   "metadata": {},
   "outputs": [
    {
     "ename": "TypeError",
     "evalue": "'tuple' object doesn't support item deletion",
     "output_type": "error",
     "traceback": [
      "\u001b[1;31m---------------------------------------------------------------------------\u001b[0m",
      "\u001b[1;31mTypeError\u001b[0m                                 Traceback (most recent call last)",
      "Cell \u001b[1;32mIn[16], line 1\u001b[0m\n\u001b[1;32m----> 1\u001b[0m \u001b[38;5;28;01mdel\u001b[39;00m mytup[\u001b[38;5;241m0\u001b[39m]\n",
      "\u001b[1;31mTypeError\u001b[0m: 'tuple' object doesn't support item deletion"
     ]
    }
   ],
   "source": [
    "del mytup[0]"
   ]
  },
  {
   "cell_type": "code",
   "execution_count": 17,
   "id": "5d8893fb-bec3-455d-b96c-8879e85dd090",
   "metadata": {},
   "outputs": [
    {
     "ename": "TypeError",
     "evalue": "'tuple' object does not support item assignment",
     "output_type": "error",
     "traceback": [
      "\u001b[1;31m---------------------------------------------------------------------------\u001b[0m",
      "\u001b[1;31mTypeError\u001b[0m                                 Traceback (most recent call last)",
      "Cell \u001b[1;32mIn[17], line 1\u001b[0m\n\u001b[1;32m----> 1\u001b[0m mytup[\u001b[38;5;241m0\u001b[39m]\u001b[38;5;241m=\u001b[39m\u001b[38;5;241m1\u001b[39m\n\u001b[0;32m      2\u001b[0m mytup\n",
      "\u001b[1;31mTypeError\u001b[0m: 'tuple' object does not support item assignment"
     ]
    }
   ],
   "source": [
    "mytup[0]=1\n",
    "mytup"
   ]
  },
  {
   "cell_type": "code",
   "execution_count": 18,
   "id": "3ec33057-63e6-486e-8536-317f15a41937",
   "metadata": {},
   "outputs": [],
   "source": [
    "del mytup"
   ]
  },
  {
   "cell_type": "code",
   "execution_count": 19,
   "id": "c02c3eb6-a036-45b9-a59a-a4c61d7a9ae1",
   "metadata": {},
   "outputs": [
    {
     "ename": "NameError",
     "evalue": "name 'mytup' is not defined",
     "output_type": "error",
     "traceback": [
      "\u001b[1;31m---------------------------------------------------------------------------\u001b[0m",
      "\u001b[1;31mNameError\u001b[0m                                 Traceback (most recent call last)",
      "Cell \u001b[1;32mIn[19], line 1\u001b[0m\n\u001b[1;32m----> 1\u001b[0m mytup\n",
      "\u001b[1;31mNameError\u001b[0m: name 'mytup' is not defined"
     ]
    }
   ],
   "source": [
    "mytup"
   ]
  },
  {
   "cell_type": "markdown",
   "id": "84bc01d7-f965-4b1a-b202-4448a54d2a98",
   "metadata": {},
   "source": [
    "Tuple Methods"
   ]
  },
  {
   "cell_type": "code",
   "execution_count": 20,
   "id": "24e6ad05-6138-48dd-95bf-98535010df16",
   "metadata": {},
   "outputs": [],
   "source": [
    "mytup1=('one','two','three','four','five','six','seven','eight','five','six','five')"
   ]
  },
  {
   "cell_type": "markdown",
   "id": "fea8b813-5e2b-4664-95d6-900602f9cb25",
   "metadata": {},
   "source": [
    "Count"
   ]
  },
  {
   "cell_type": "code",
   "execution_count": 21,
   "id": "4cf62740-78d9-468d-8586-61452456bcb9",
   "metadata": {},
   "outputs": [
    {
     "data": {
      "text/plain": [
       "1"
      ]
     },
     "execution_count": 21,
     "metadata": {},
     "output_type": "execute_result"
    }
   ],
   "source": [
    "mytup1.count('one')"
   ]
  },
  {
   "cell_type": "code",
   "execution_count": 22,
   "id": "9dbe87d4-ef92-4cb2-8c09-20bb793ae070",
   "metadata": {},
   "outputs": [
    {
     "data": {
      "text/plain": [
       "1"
      ]
     },
     "execution_count": 22,
     "metadata": {},
     "output_type": "execute_result"
    }
   ],
   "source": [
    "mytup1.count('two')"
   ]
  },
  {
   "cell_type": "code",
   "execution_count": 23,
   "id": "116b08c5-928c-4e2c-bd65-15f04a92b645",
   "metadata": {},
   "outputs": [
    {
     "data": {
      "text/plain": [
       "1"
      ]
     },
     "execution_count": 23,
     "metadata": {},
     "output_type": "execute_result"
    }
   ],
   "source": [
    "mytup1.count('five')"
   ]
  },
  {
   "cell_type": "markdown",
   "id": "aec3fd6d-572a-4b0c-8287-48b0c5142351",
   "metadata": {},
   "source": [
    "Index Position"
   ]
  },
  {
   "cell_type": "code",
   "execution_count": 25,
   "id": "b4e81bec-99e7-4659-ad76-0b90e955a2e3",
   "metadata": {},
   "outputs": [
    {
     "data": {
      "text/plain": [
       "0"
      ]
     },
     "execution_count": 25,
     "metadata": {},
     "output_type": "execute_result"
    }
   ],
   "source": [
    "mytup1.index('one')"
   ]
  },
  {
   "cell_type": "code",
   "execution_count": 26,
   "id": "045f2b65-066f-4102-91d8-62ebff8de1a7",
   "metadata": {},
   "outputs": [
    {
     "data": {
      "text/plain": [
       "4"
      ]
     },
     "execution_count": 26,
     "metadata": {},
     "output_type": "execute_result"
    }
   ],
   "source": [
    "mytup1.index('five')"
   ]
  },
  {
   "cell_type": "code",
   "execution_count": 27,
   "id": "18a23b97-ee73-4da2-8315-9988f4b96ea6",
   "metadata": {},
   "outputs": [
    {
     "ename": "ValueError",
     "evalue": "tuple.index(x): x not in tuple",
     "output_type": "error",
     "traceback": [
      "\u001b[1;31m---------------------------------------------------------------------------\u001b[0m",
      "\u001b[1;31mValueError\u001b[0m                                Traceback (most recent call last)",
      "Cell \u001b[1;32mIn[27], line 1\u001b[0m\n\u001b[1;32m----> 1\u001b[0m mytup1\u001b[38;5;241m.\u001b[39mindex(\u001b[38;5;124m'\u001b[39m\u001b[38;5;124mten\u001b[39m\u001b[38;5;124m'\u001b[39m)\n",
      "\u001b[1;31mValueError\u001b[0m: tuple.index(x): x not in tuple"
     ]
    }
   ],
   "source": [
    "mytup1.index('ten')"
   ]
  },
  {
   "cell_type": "markdown",
   "id": "f7458006-4f82-4d9c-863d-6d02521e2fbc",
   "metadata": {},
   "source": [
    "Sorting"
   ]
  },
  {
   "cell_type": "code",
   "execution_count": 28,
   "id": "e86a39f7-ae28-4135-b825-f9b634b04f3f",
   "metadata": {},
   "outputs": [],
   "source": [
    "a=(2,7,6,3,5,12,85,96,79)"
   ]
  },
  {
   "cell_type": "code",
   "execution_count": 29,
   "id": "9bf74a63-7365-4d28-9ac0-a55e97f1510f",
   "metadata": {},
   "outputs": [
    {
     "data": {
      "text/plain": [
       "[2, 3, 5, 6, 7, 12, 79, 85, 96]"
      ]
     },
     "execution_count": 29,
     "metadata": {},
     "output_type": "execute_result"
    }
   ],
   "source": [
    "sorted(a)"
   ]
  },
  {
   "cell_type": "code",
   "execution_count": 30,
   "id": "5401648b-4de8-4518-bf25-5bdb515f2bc2",
   "metadata": {},
   "outputs": [
    {
     "data": {
      "text/plain": [
       "[96, 85, 79, 12, 7, 6, 5, 3, 2]"
      ]
     },
     "execution_count": 30,
     "metadata": {},
     "output_type": "execute_result"
    }
   ],
   "source": [
    "sorted(a,reverse=True)"
   ]
  },
  {
   "cell_type": "code",
   "execution_count": 31,
   "id": "21076d4d-e72e-46c0-a14a-9a92f16b2d04",
   "metadata": {},
   "outputs": [
    {
     "data": {
      "text/plain": [
       "[2, 3, 5, 6, 7, 12, 79, 85, 96]"
      ]
     },
     "execution_count": 31,
     "metadata": {},
     "output_type": "execute_result"
    }
   ],
   "source": [
    "sorted(a,reverse=False)"
   ]
  },
  {
   "cell_type": "markdown",
   "id": "85e4abd9-bcaf-42b4-8546-ebd1267a7236",
   "metadata": {},
   "source": [
    "Tuple Membership"
   ]
  },
  {
   "cell_type": "code",
   "execution_count": 32,
   "id": "0ab4818c-bbca-4800-b77c-c454c36634a2",
   "metadata": {},
   "outputs": [],
   "source": [
    "mytup=('one','two','three','four','five','six','seven','eight')"
   ]
  },
  {
   "cell_type": "code",
   "execution_count": 35,
   "id": "df0224e6-69d2-4674-a54e-cd6dea7dafa9",
   "metadata": {},
   "outputs": [
    {
     "data": {
      "text/plain": [
       "True"
      ]
     },
     "execution_count": 35,
     "metadata": {},
     "output_type": "execute_result"
    }
   ],
   "source": [
    "'one' in mytup"
   ]
  },
  {
   "cell_type": "code",
   "execution_count": 36,
   "id": "efe767b7-53ca-434b-a20d-af40ce5cbded",
   "metadata": {},
   "outputs": [
    {
     "data": {
      "text/plain": [
       "False"
      ]
     },
     "execution_count": 36,
     "metadata": {},
     "output_type": "execute_result"
    }
   ],
   "source": [
    "'ten' in mytup"
   ]
  },
  {
   "cell_type": "code",
   "execution_count": 37,
   "id": "5e9ca098-12c4-4187-8cec-36b139950547",
   "metadata": {},
   "outputs": [
    {
     "data": {
      "text/plain": [
       "False"
      ]
     },
     "execution_count": 37,
     "metadata": {},
     "output_type": "execute_result"
    }
   ],
   "source": [
    "'two' not in mytup"
   ]
  },
  {
   "cell_type": "code",
   "execution_count": null,
   "id": "e917dd3d-c4d4-4af7-82a1-41ab94602708",
   "metadata": {},
   "outputs": [],
   "source": []
  }
 ],
 "metadata": {
  "kernelspec": {
   "display_name": "Python 3 (ipykernel)",
   "language": "python",
   "name": "python3"
  },
  "language_info": {
   "codemirror_mode": {
    "name": "ipython",
    "version": 3
   },
   "file_extension": ".py",
   "mimetype": "text/x-python",
   "name": "python",
   "nbconvert_exporter": "python",
   "pygments_lexer": "ipython3",
   "version": "3.11.7"
  }
 },
 "nbformat": 4,
 "nbformat_minor": 5
}
