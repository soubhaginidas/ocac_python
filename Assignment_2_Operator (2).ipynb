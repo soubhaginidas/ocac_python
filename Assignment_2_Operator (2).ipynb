{
  "cells": [
    {
      "cell_type": "markdown",
      "id": "697caf9e-6072-490e-8131-e14edf6dcdfe",
      "metadata": {
        "id": "697caf9e-6072-490e-8131-e14edf6dcdfe"
      },
      "source": [
        "### A . Assignment Questions on Operators\n",
        "\n",
        "1. **Arithmetic Operators**\n",
        "    - Write a program that takes two numbers from the user.\n",
        "    - Perform and print the results of addition, subtraction, multiplication, division, and modulus operations.\n",
        "\n",
        "2. **Relational Operators**\n",
        "    - Write a program that takes two numbers from the user.\n",
        "    - Use relational operators (`>`, `<`, `>=`, `<=`, `==`, `!=`) to compare these numbers and print the results.\n",
        "\n",
        "3. **Logical Operators**\n",
        "    - Write a program that takes two boolean values from the user.\n",
        "    - Perform and print the results of logical AND, logical OR, and logical NOT operations.\n",
        "\n",
        "4. **Assignment Operators**\n",
        "    - Write a program that initializes a variable `x` with the value `10`.\n",
        "    - Use assignment operators (`+=`, `-=`, `*=`, `/=`, `%=`, `**=`, `//=`) to modify `x` and print the results after each operation.\n",
        "\n",
        "5. **Bitwise Operators**\n",
        "    - Write a program that takes two integers from the user.\n",
        "    - Perform and print the results of bitwise AND, OR, XOR, NOT, left shift, and right shift operations.\n",
        "\n",
        "6. **Compound Expressions**\n",
        "    - Write a program that evaluates a compound expression involving multiple arithmetic and relational operators.\n",
        "    - Example: Calculate the value of `3 * (x + y) / 2 > z` where `x`, `y`, and `z` are inputs from the user.\n",
        "\n",
        "7. **Membership Operators**\n",
        "    - Write a program that takes a string and a character from the user.\n",
        "    - Use membership operators (`in`, `not in`) to check if the character is present in the string and print the result.\n",
        "\n",
        "8. **Identity Operators**\n",
        "    - Write a program that initializes two lists with the same values.\n",
        "    - Use identity operators (`is`, `is not`) to check if the lists are the same object and print the result.\n",
        "\n",
        "9. **Precedence and Associativity**\n",
        "    - Write a program that demonstrates the precedence and associativity of different operators.\n",
        "    - Example: Evaluate the expression `3 + 4 * 2 / (1 - 5) ** 2` and print the result.\n",
        "\n",
        "10. **Operator Overloading**\n",
        "    - Create a class `Vector` that represents a mathematical vector.\n",
        "    - Implement operator overloading for addition, subtraction, and multiplication (dot product) for `Vector` objects.\n",
        "    - Write a program to demonstrate the usage of these overloaded operators.\n",
        "\n"
      ]
    },
    {
      "cell_type": "markdown",
      "id": "c98161d7-a8cc-468c-a32f-89a9daf812e0",
      "metadata": {
        "id": "c98161d7-a8cc-468c-a32f-89a9daf812e0"
      },
      "source": [
        "### B . Assignment Questions on Python Operators\n",
        "\n",
        "1. **Basic Arithmetic Operations**\n",
        "    - Write a program that asks the user to enter two numbers.\n",
        "    - Perform addition, subtraction, multiplication, division, and modulus operations on these numbers.\n",
        "    - Print the results of each operation.\n",
        "\n",
        "2. **Comparison Operators**\n",
        "    - Write a program that takes two numbers from the user.\n",
        "    - Use comparison operators to determine and print whether the first number is greater than, less than, or equal to the second number.\n",
        "\n",
        "3. **Logical Operators**\n",
        "    - Write a program that takes two boolean values from the user.\n",
        "    - Perform logical AND, OR, and NOT operations on these values.\n",
        "    - Print the results of each operation.\n",
        "\n",
        "4. **Compound Assignment Operators**\n",
        "    - Assign the value `10` to a variable `x`.\n",
        "    - Use compound assignment operators (`+=`, `-=`, `*=`, `/=`, `%=`) to modify the value of `x` and print the result after each operation.\n",
        "\n",
        "5. **Bitwise Operators**\n",
        "    - Write a program that takes two integers from the user.\n",
        "    - Perform bitwise AND, OR, XOR, and NOT operations on these numbers.\n",
        "    - Print the results of each operation.\n",
        "\n",
        "6. **Exponentiation Operator**\n",
        "    - Write a program that asks the user to enter a base and an exponent.\n",
        "    - Calculate and print the result using the exponentiation operator (`**`).\n",
        "\n",
        "7. **Floor Division Operator**\n",
        "    - Write a program that asks the user to enter two numbers.\n",
        "    - Perform floor division on these numbers and print the result.\n",
        "\n",
        "8. **Operator Precedence**\n",
        "    - Write a program that evaluates the following expression and prints the result: \\( 3 + 5 \\times 2 - 8 / 4 \\).\n",
        "    - Explain the order in which the operations are performed.\n",
        "\n",
        "9. **Ternary Operator (Conditional Expression)**\n",
        "    - Write a program that asks the user to enter two numbers.\n",
        "    - Use a ternary operator to determine and print the larger of the two numbers.\n",
        "\n",
        "10. **Membership Operators**\n",
        "    - Write a program that asks the user to enter a character.\n",
        "    - Check if the character is a vowel (a, e, i, o, u) using the `in` operator and print an appropriate message."
      ]
    },
    {
      "cell_type": "code",
      "source": [
        "a=int(input(\"enter the value of a:\"))\n",
        "b=int(input(\"enter the value of b:\"))\n",
        "add=a+b\n",
        "sub=a-b\n",
        "mul=a*b\n",
        "div=a/b\n",
        "mod=a%b\n",
        "print(\"ADD:\",add)\n",
        "print(\"SUB:\",sub)\n",
        "print(\"MUL:\",mul)\n",
        "print(\"DIV:\",div)\n",
        "print(\"MOD:\",mod)"
      ],
      "metadata": {
        "colab": {
          "base_uri": "https://localhost:8080/"
        },
        "id": "bngWN7f1EZAL",
        "outputId": "f80515c6-eb0f-42d2-e09e-cb1731430b86"
      },
      "id": "bngWN7f1EZAL",
      "execution_count": null,
      "outputs": [
        {
          "output_type": "stream",
          "name": "stdout",
          "text": [
            "enter the value of a:10\n",
            "enter the value of b:5\n",
            "ADD: 15\n",
            "SUB: 5\n",
            "MUL: 50\n",
            "DIV: 2.0\n",
            "MOD: 0\n"
          ]
        }
      ]
    },
    {
      "cell_type": "code",
      "source": [
        "a=input(\"enter the value of a:\")\n",
        "b=input(\"enter the value of b:\")\n",
        "c=input(\"enter the value of c:\")\n",
        "m=(a<b)and(b>c)\n",
        "n=(a<b)or(b>c)\n",
        "print(\"the logical operators value:\",m,n)\n"
      ],
      "metadata": {
        "colab": {
          "base_uri": "https://localhost:8080/"
        },
        "id": "ImzhJADMIhyX",
        "outputId": "716989f4-9a31-41b0-b1a3-6f9bab91afcb"
      },
      "id": "ImzhJADMIhyX",
      "execution_count": null,
      "outputs": [
        {
          "output_type": "stream",
          "name": "stdout",
          "text": [
            "enter the value of a:5\n",
            "enter the value of b:2\n",
            "enter the value of c:3\n",
            "the logical operators value: False False\n"
          ]
        }
      ]
    },
    {
      "cell_type": "code",
      "source": [
        "x=10\n",
        "x\n"
      ],
      "metadata": {
        "id": "srfsNxRdLblm",
        "colab": {
          "base_uri": "https://localhost:8080/"
        },
        "outputId": "d5740198-1dcd-41de-d479-7d4090748687"
      },
      "id": "srfsNxRdLblm",
      "execution_count": null,
      "outputs": [
        {
          "output_type": "execute_result",
          "data": {
            "text/plain": [
              "10"
            ]
          },
          "metadata": {},
          "execution_count": 11
        }
      ]
    },
    {
      "cell_type": "code",
      "source": [
        "a=1\n",
        "b=0\n",
        "bin(a)\n",
        "bin(b)\n",
        "print(a|b)\n",
        "print(a&b)\n",
        "print(a!=b)\n",
        "print(a^b)\n",
        "print(a<<b)\n",
        "print(a>>b)"
      ],
      "metadata": {
        "id": "SybvTWx_oqKG",
        "colab": {
          "base_uri": "https://localhost:8080/"
        },
        "outputId": "811b339a-d30d-4108-b3eb-05d0c8c95aa7"
      },
      "id": "SybvTWx_oqKG",
      "execution_count": null,
      "outputs": [
        {
          "output_type": "stream",
          "name": "stdout",
          "text": [
            "1\n",
            "0\n",
            "True\n",
            "1\n",
            "1\n",
            "1\n"
          ]
        }
      ]
    },
    {
      "cell_type": "code",
      "source": [
        "x=int(input(\"enter the value of x:\"))\n",
        "y=int(input(\"enter the value of y:\"))\n",
        "z=int(input(\"enter the value of z:\"))\n",
        "(3 * (x + y) / 2 > z)"
      ],
      "metadata": {
        "id": "ESIRL_vAq2by",
        "colab": {
          "base_uri": "https://localhost:8080/"
        },
        "outputId": "76a63a4e-7498-401d-b7c9-ff9ff945e29e"
      },
      "id": "ESIRL_vAq2by",
      "execution_count": null,
      "outputs": [
        {
          "name": "stdout",
          "output_type": "stream",
          "text": [
            "enter the value of x:5\n",
            "enter the value of y:4\n",
            "enter the value of z:6\n"
          ]
        },
        {
          "output_type": "execute_result",
          "data": {
            "text/plain": [
              "True"
            ]
          },
          "metadata": {},
          "execution_count": 10
        }
      ]
    },
    {
      "cell_type": "code",
      "source": [
        "a=\"India Won The Final Match\"\n",
        "print(\"Won\" in a)\n",
        "print(\"virat\" in a)\n",
        "print(\"Final\" not in a)"
      ],
      "metadata": {
        "colab": {
          "base_uri": "https://localhost:8080/"
        },
        "id": "1OUb4xzDN9ob",
        "outputId": "7d97d5f7-a313-43ee-c6fd-3ef2bb9e2149"
      },
      "id": "1OUb4xzDN9ob",
      "execution_count": null,
      "outputs": [
        {
          "output_type": "stream",
          "name": "stdout",
          "text": [
            "True\n",
            "False\n",
            "False\n"
          ]
        }
      ]
    },
    {
      "cell_type": "code",
      "source": [
        "p=\"hello dear\"\n",
        "q=\"hello dear\"\n",
        "print(p is q)\n",
        "print(p is not q)"
      ],
      "metadata": {
        "colab": {
          "base_uri": "https://localhost:8080/"
        },
        "id": "6FaFFdm_QQsG",
        "outputId": "7a6849a8-8f6a-4e0d-c7f6-798fd25e74c6"
      },
      "id": "6FaFFdm_QQsG",
      "execution_count": null,
      "outputs": [
        {
          "output_type": "stream",
          "name": "stdout",
          "text": [
            "False\n",
            "True\n"
          ]
        }
      ]
    },
    {
      "cell_type": "code",
      "source": [
        " 3 + 4 * 2 / (1 - 5) ** 2"
      ],
      "metadata": {
        "colab": {
          "base_uri": "https://localhost:8080/"
        },
        "id": "TmFu8QebRB8u",
        "outputId": "d1180aac-bbc2-4f77-8c6f-74369d5ea590"
      },
      "id": "TmFu8QebRB8u",
      "execution_count": null,
      "outputs": [
        {
          "output_type": "execute_result",
          "data": {
            "text/plain": [
              "3.5"
            ]
          },
          "metadata": {},
          "execution_count": 19
        }
      ]
    },
    {
      "cell_type": "code",
      "source": [
        "p=\"a,e,i,o,u\"\n",
        "\"a\" in p"
      ],
      "metadata": {
        "colab": {
          "base_uri": "https://localhost:8080/"
        },
        "id": "S2wVt_neRdL9",
        "outputId": "1258b015-05db-4063-aa67-99c53c9b50b6"
      },
      "id": "S2wVt_neRdL9",
      "execution_count": null,
      "outputs": [
        {
          "output_type": "execute_result",
          "data": {
            "text/plain": [
              "True"
            ]
          },
          "metadata": {},
          "execution_count": 21
        }
      ]
    },
    {
      "cell_type": "code",
      "source": [
        "\n",
        "list1 = [1, 2, 3, 4, 5]\n",
        "list2 = [1, 2, 3, 4, 5]\n",
        "print(\"list1 is list2:\", list1 is list2)\n",
        "print(\"list1 is not list2:\", list1 is not list2)\n"
      ],
      "metadata": {
        "id": "rYkrWIJkSK-K",
        "colab": {
          "base_uri": "https://localhost:8080/"
        },
        "outputId": "a37bd9ac-648b-4030-c790-2c5dc4442679"
      },
      "id": "rYkrWIJkSK-K",
      "execution_count": null,
      "outputs": [
        {
          "output_type": "stream",
          "name": "stdout",
          "text": [
            "list1 is list2: False\n",
            "list1 is not list2: True\n"
          ]
        }
      ]
    },
    {
      "cell_type": "code",
      "source": [
        "# Define the expression\n",
        "expression = 3 + 4 * 2 / (1 - 5) ** 2\n",
        "\n",
        "# Print the result\n",
        "print( expression)\n"
      ],
      "metadata": {
        "colab": {
          "base_uri": "https://localhost:8080/"
        },
        "id": "kYcHWh7rmHur",
        "outputId": "5a4d176b-12bb-4628-9bf1-be9280d7bcde"
      },
      "id": "kYcHWh7rmHur",
      "execution_count": null,
      "outputs": [
        {
          "output_type": "stream",
          "name": "stdout",
          "text": [
            "3.5\n"
          ]
        }
      ]
    },
    {
      "cell_type": "code",
      "source": [
        "class Vector:\n",
        "    def __init__(self, x, y):\n",
        "        self.x = x\n",
        "        self.y = y\n",
        "\n",
        "    def __repr__(self):\n",
        "        return f\"Vector({self.x}, {self.y})\"\n",
        "\n",
        "    def __add__(self, other):\n",
        "        if isinstance(other, Vector):\n",
        "            return Vector(self.x + other.x, self.y + other.y)\n",
        "        return NotImplemented\n",
        "\n",
        "    def __sub__(self, other):\n",
        "        if isinstance(other, Vector):\n",
        "            return Vector(self.x - other.x, self.y - other.y)\n",
        "        return NotImplemented\n",
        "\n",
        "    def __mul__(self, other):\n",
        "        if isinstance(other, Vector):\n",
        "            return self.x * other.x + self.y * other.y\n",
        "        return NotImplemented\n",
        "\n",
        "# Example usage of the Vector class\n",
        "v1 = Vector(1, 2)\n",
        "v2 = Vector(3, 4)\n",
        "\n",
        "# Demonstrate addition\n",
        "v3 = v1 + v2\n",
        "print(f\"Addition: {v1} + {v2} = {v3}\")\n",
        "\n",
        "# Demonstrate subtraction\n",
        "v4 = v1 - v2\n",
        "print(f\"Subtraction: {v1} - {v2} = {v4}\")\n",
        "\n",
        "# Demonstrate dot product\n",
        "dot_product = v1 * v2\n",
        "print(f\"Dot Product: {v1} * {v2} = {dot_product}\")\n"
      ],
      "metadata": {
        "colab": {
          "base_uri": "https://localhost:8080/"
        },
        "id": "x_C80wMBmpy9",
        "outputId": "aabab52d-9cf4-4172-cac0-0f3779dc237c"
      },
      "id": "x_C80wMBmpy9",
      "execution_count": null,
      "outputs": [
        {
          "output_type": "stream",
          "name": "stdout",
          "text": [
            "Addition: Vector(1, 2) + Vector(3, 4) = Vector(4, 6)\n",
            "Subtraction: Vector(1, 2) - Vector(3, 4) = Vector(-2, -2)\n",
            "Dot Product: Vector(1, 2) * Vector(3, 4) = 11\n"
          ]
        }
      ]
    },
    {
      "cell_type": "code",
      "source": [
        "def main():\n",
        "    # Ask the user to enter two numbers\n",
        "    try:\n",
        "        num1 = float(input(\"Enter the first number: \"))\n",
        "        num2 = float(input(\"Enter the second number: \"))\n",
        "    except ValueError:\n",
        "        print(\"Invalid input. Please enter numeric values.\")\n",
        "        return\n",
        "\n",
        "    # Perform arithmetic operations\n",
        "    try:\n",
        "        addition = num1 + num2\n",
        "        subtraction = num1 - num2\n",
        "        multiplication = num1 * num2\n",
        "        division = num1 / num2\n",
        "        modulus = num1 % num2\n",
        "\n",
        "        # Print the results\n",
        "        print(f\"Addition: {num1} + {num2} = {addition}\")\n",
        "        print(f\"Subtraction: {num1} - {num2} = {subtraction}\")\n",
        "        print(f\"Multiplication: {num1} * {num2} = {multiplication}\")\n",
        "        print(f\"Division: {num1} / {num2} = {division}\")\n",
        "        print(f\"Modulus: {num1} % {num2} = {modulus}\")\n",
        "\n",
        "    except ZeroDivisionError:\n",
        "        print(\"Error: Division by zero is not allowed.\")\n",
        "\n",
        "if __name__ == \"__main__\":\n",
        "    main()\n"
      ],
      "metadata": {
        "colab": {
          "base_uri": "https://localhost:8080/"
        },
        "id": "oFEDOfxpm3mM",
        "outputId": "693a0766-62e8-40bf-9080-92d94d795401"
      },
      "id": "oFEDOfxpm3mM",
      "execution_count": null,
      "outputs": [
        {
          "output_type": "stream",
          "name": "stdout",
          "text": [
            "Enter the first number: 2\n",
            "Enter the second number: 10\n",
            "Addition: 2.0 + 10.0 = 12.0\n",
            "Subtraction: 2.0 - 10.0 = -8.0\n",
            "Multiplication: 2.0 * 10.0 = 20.0\n",
            "Division: 2.0 / 10.0 = 0.2\n",
            "Modulus: 2.0 % 10.0 = 2.0\n"
          ]
        }
      ]
    },
    {
      "cell_type": "code",
      "source": [
        "def main():\n",
        "    # Ask the user to enter two numbers\n",
        "    try:\n",
        "        num1 = float(input(\"Enter the first number: \"))\n",
        "        num2 = float(input(\"Enter the second number: \"))\n",
        "    except ValueError:\n",
        "        print(\"Invalid input. Please enter numeric values.\")\n",
        "        return\n",
        "\n",
        "    # Compare the numbers\n",
        "    if num1 > num2:\n",
        "        print(f\"{num1} is greater than {num2}\")\n",
        "    elif num1 < num2:\n",
        "        print(f\"{num1} is less than {num2}\")\n",
        "    else:\n",
        "        print(f\"{num1} is equal to {num2}\")\n",
        "\n",
        "if __name__ == \"__main__\":\n",
        "    main()\n"
      ],
      "metadata": {
        "colab": {
          "base_uri": "https://localhost:8080/"
        },
        "id": "d3DD71KbnDSs",
        "outputId": "9f6956d6-1f63-4dea-d8c1-0a9a16e42d2c"
      },
      "id": "d3DD71KbnDSs",
      "execution_count": null,
      "outputs": [
        {
          "output_type": "stream",
          "name": "stdout",
          "text": [
            "Enter the first number: 4\n",
            "Enter the second number: 20\n",
            "4.0 is less than 20.0\n"
          ]
        }
      ]
    },
    {
      "cell_type": "code",
      "source": [
        "def main():\n",
        "    # Function to convert input to boolean\n",
        "    def to_boolean(value):\n",
        "        return value.lower() in ['true', '1', 'yes']\n",
        "\n",
        "    # Ask the user to enter two boolean values\n",
        "    try:\n",
        "        bool1_input = input(\"Enter the first boolean value (true/false, yes/no, 1/0): \")\n",
        "        bool2_input = input(\"Enter the second boolean value (true/false, yes/no, 1/0): \")\n",
        "\n",
        "        bool1 = to_boolean(bool1_input)\n",
        "        bool2 = to_boolean(bool2_input)\n",
        "\n",
        "    except ValueError:\n",
        "        print(\"Invalid input. Please enter true/false or yes/no or 1/0.\")\n",
        "        return\n",
        "\n",
        "    # Perform logical operations\n",
        "    and_result = bool1 and bool2\n",
        "    or_result = bool1 or bool2\n",
        "    not_bool1 = not bool1\n",
        "    not_bool2 = not bool2\n",
        "\n",
        "    # Print the results\n",
        "    print(f\"Logical AND: {bool1} AND {bool2} = {and_result}\")\n",
        "    print(f\"Logical OR: {bool1} OR {bool2} = {or_result}\")\n",
        "    print(f\"Logical NOT for the first value: NOT {bool1} = {not_bool1}\")\n",
        "    print(f\"Logical NOT for the second value: NOT {bool2} = {not_bool2}\")\n",
        "\n",
        "if __name__ == \"__main__\":\n",
        "    main()\n"
      ],
      "metadata": {
        "colab": {
          "base_uri": "https://localhost:8080/"
        },
        "id": "vtrUy5k-nVHi",
        "outputId": "52e42dfc-9818-4e40-8854-d9aa56457c5c"
      },
      "id": "vtrUy5k-nVHi",
      "execution_count": null,
      "outputs": [
        {
          "output_type": "stream",
          "name": "stdout",
          "text": [
            "Enter the first boolean value (true/false, yes/no, 1/0): 1\n",
            "Enter the second boolean value (true/false, yes/no, 1/0): 0\n",
            "Logical AND: True AND False = False\n",
            "Logical OR: True OR False = True\n",
            "Logical NOT for the first value: NOT True = False\n",
            "Logical NOT for the second value: NOT False = True\n"
          ]
        }
      ]
    },
    {
      "cell_type": "code",
      "source": [
        "def main():\n",
        "    # Initialize variable x with the value 10\n",
        "    x = 10\n",
        "    print(f\"Initial value of x: {x}\")\n",
        "\n",
        "    # Compound assignment operations\n",
        "    # Addition assignment\n",
        "    x += 5\n",
        "    print(f\"After += 5, x = {x}\")\n",
        "\n",
        "    # Subtraction assignment\n",
        "    x -= 3\n",
        "    print(f\"After -= 3, x = {x}\")\n",
        "\n",
        "    # Multiplication assignment\n",
        "    x *= 2\n",
        "    print(f\"After *= 2, x = {x}\")\n",
        "\n",
        "    # Division assignment\n",
        "    x /= 4\n",
        "    print(f\"After /= 4, x = {x}\")\n",
        "\n",
        "    # Modulus assignment\n",
        "    x %= 3\n",
        "    print(f\"After %= 3, x = {x}\")\n",
        "\n",
        "if __name__ == \"__main__\":\n",
        "    main()\n"
      ],
      "metadata": {
        "colab": {
          "base_uri": "https://localhost:8080/"
        },
        "id": "g42Emzyrn_si",
        "outputId": "cc923bef-8dec-42df-ae53-1e8f7be41d95"
      },
      "id": "g42Emzyrn_si",
      "execution_count": null,
      "outputs": [
        {
          "output_type": "stream",
          "name": "stdout",
          "text": [
            "Initial value of x: 10\n",
            "After += 5, x = 15\n",
            "After -= 3, x = 12\n",
            "After *= 2, x = 24\n",
            "After /= 4, x = 6.0\n",
            "After %= 3, x = 0.0\n"
          ]
        }
      ]
    },
    {
      "cell_type": "code",
      "source": [
        "# Function to perform bitwise operations\n",
        "def bitwise_operations(a, b):\n",
        "    # Perform bitwise AND\n",
        "    and_result = a & b\n",
        "\n",
        "    # Perform bitwise OR\n",
        "    or_result = a | b\n",
        "\n",
        "    # Perform bitwise XOR\n",
        "    xor_result = a ^ b\n",
        "\n",
        "    # Perform bitwise NOT (unary operator)\n",
        "    not_a_result = ~a\n",
        "    not_b_result = ~b\n",
        "\n",
        "    # Print the results\n",
        "    print(f'Bitwise AND of {a} and {b} is: {and_result}')\n",
        "    print(f'Bitwise OR of {a} and {b} is: {or_result}')\n",
        "    print(f'Bitwise XOR of {a} and {b} is: {xor_result}')\n",
        "    print(f'Bitwise NOT of {a} is: {not_a_result}')\n",
        "    print(f'Bitwise NOT of {b} is: {not_b_result}')\n",
        "\n",
        "# Main function to take user input and call the bitwise operations function\n",
        "def main():\n",
        "    try:\n",
        "        # Take two integers from the user\n",
        "        a = int(input('Enter the first integer: '))\n",
        "        b = int(input('Enter the second integer: '))\n",
        "\n",
        "        # Perform bitwise operations\n",
        "        bitwise_operations(a, b)\n",
        "\n",
        "    except ValueError:\n",
        "        print('Please enter valid integers.')\n",
        "\n",
        "# Run the main function\n",
        "if __name__ == \"__main__\":\n",
        "    main()\n"
      ],
      "metadata": {
        "colab": {
          "base_uri": "https://localhost:8080/"
        },
        "id": "l8cAs-K-oUSh",
        "outputId": "f6298fd5-2224-4daf-f5bb-c6bbe1253807"
      },
      "id": "l8cAs-K-oUSh",
      "execution_count": null,
      "outputs": [
        {
          "output_type": "stream",
          "name": "stdout",
          "text": [
            "Enter the first integer: 2\n",
            "Enter the second integer: 10\n",
            "Bitwise AND of 2 and 10 is: 2\n",
            "Bitwise OR of 2 and 10 is: 10\n",
            "Bitwise XOR of 2 and 10 is: 8\n",
            "Bitwise NOT of 2 is: -3\n",
            "Bitwise NOT of 10 is: -11\n"
          ]
        }
      ]
    },
    {
      "cell_type": "code",
      "source": [],
      "metadata": {
        "id": "aiE0-98conil"
      },
      "id": "aiE0-98conil",
      "execution_count": null,
      "outputs": []
    }
  ],
  "metadata": {
    "kernelspec": {
      "display_name": "Python 3 (ipykernel)",
      "language": "python",
      "name": "python3"
    },
    "language_info": {
      "codemirror_mode": {
        "name": "ipython",
        "version": 3
      },
      "file_extension": ".py",
      "mimetype": "text/x-python",
      "name": "python",
      "nbconvert_exporter": "python",
      "pygments_lexer": "ipython3",
      "version": "3.11.7"
    },
    "colab": {
      "provenance": []
    }
  },
  "nbformat": 4,
  "nbformat_minor": 5
}