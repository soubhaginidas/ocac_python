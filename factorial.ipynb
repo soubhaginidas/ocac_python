{
 "cells": [
  {
   "cell_type": "code",
   "execution_count": 3,
   "id": "140e9ed6-631a-433a-addb-6b2bf67e8e46",
   "metadata": {},
   "outputs": [
    {
     "name": "stdin",
     "output_type": "stream",
     "text": [
      "enter a num value: 3\n"
     ]
    },
    {
     "name": "stdout",
     "output_type": "stream",
     "text": [
      "6\n"
     ]
    }
   ],
   "source": [
    "num=int(input(\"enter a num value:\"))\n",
    "fact=1\n",
    "for i in range(num,0,-1):\n",
    "    fact=fact*i\n",
    "print(fact)"
   ]
  },
  {
   "cell_type": "code",
   "execution_count": 4,
   "id": "105b2b63-283e-4e9d-abd6-35ed1a913afd",
   "metadata": {},
   "outputs": [
    {
     "name": "stdin",
     "output_type": "stream",
     "text": [
      "enter a num value: 3\n"
     ]
    },
    {
     "name": "stdout",
     "output_type": "stream",
     "text": [
      "after 1 iteration the facorial value is: 1\n",
      "after 2 iteration the facorial value is: 2\n",
      "after 3 iteration the facorial value is: 6\n"
     ]
    }
   ],
   "source": [
    "num=int(input(\"enter a num value:\"))\n",
    "fact=1\n",
    "for i in range(1,num+1):\n",
    "    fact=fact*i\n",
    "    print(\"after\",i,\"iteration the facorial value is:\",fact)"
   ]
  },
  {
   "cell_type": "code",
   "execution_count": 10,
   "id": "95f12998-6044-4bab-819d-ac371cc7e679",
   "metadata": {},
   "outputs": [
    {
     "data": {
      "text/plain": [
       "range(1, 3)"
      ]
     },
     "execution_count": 10,
     "metadata": {},
     "output_type": "execute_result"
    }
   ],
   "source": [
    "range(1,3)"
   ]
  },
  {
   "cell_type": "code",
   "execution_count": 12,
   "id": "c99e59ff-a352-451c-a27b-6a1870de646e",
   "metadata": {},
   "outputs": [
    {
     "data": {
      "text/plain": [
       "[1, 2, 3]"
      ]
     },
     "execution_count": 12,
     "metadata": {},
     "output_type": "execute_result"
    }
   ],
   "source": [
    "list(range(1,3+1))"
   ]
  },
  {
   "cell_type": "code",
   "execution_count": null,
   "id": "2f734808-9c99-4d91-b96b-21fc456e2f0f",
   "metadata": {},
   "outputs": [],
   "source": []
  }
 ],
 "metadata": {
  "kernelspec": {
   "display_name": "Python 3 (ipykernel)",
   "language": "python",
   "name": "python3"
  },
  "language_info": {
   "codemirror_mode": {
    "name": "ipython",
    "version": 3
   },
   "file_extension": ".py",
   "mimetype": "text/x-python",
   "name": "python",
   "nbconvert_exporter": "python",
   "pygments_lexer": "ipython3",
   "version": "3.11.7"
  }
 },
 "nbformat": 4,
 "nbformat_minor": 5
}
