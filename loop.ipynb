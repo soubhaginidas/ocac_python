{
 "cells": [
  {
   "cell_type": "code",
   "execution_count": 20,
   "id": "10332f5e-d4e8-48fe-a588-0f6544978d9d",
   "metadata": {},
   "outputs": [
    {
     "name": "stdout",
     "output_type": "stream",
     "text": [
      "num: 2\n",
      "num: 5\n",
      "num: 9\n",
      "num: 14\n"
     ]
    }
   ],
   "source": [
    "a=[2,3,4,5]\n",
    "num1=0  #initialization\n",
    "for i in a:\n",
    "    num1=num1+i\n",
    "    print(\"num:\",num1)"
   ]
  },
  {
   "cell_type": "code",
   "execution_count": 23,
   "id": "19339249-242a-45df-b9c1-0775ea30eb54",
   "metadata": {},
   "outputs": [
    {
     "name": "stdout",
     "output_type": "stream",
     "text": [
      "after 5 iteration the sum 14\n"
     ]
    }
   ],
   "source": [
    "print(\"after\",i,\"iteration the sum\",num1)"
   ]
  },
  {
   "cell_type": "code",
   "execution_count": 44,
   "id": "243f9075-e550-46a8-a6de-ea82914e29dc",
   "metadata": {},
   "outputs": [
    {
     "ename": "IndentationError",
     "evalue": "unindent does not match any outer indentation level (<tokenize>, line 5)",
     "output_type": "error",
     "traceback": [
      "\u001b[1;36m  File \u001b[1;32m<tokenize>:5\u001b[1;36m\u001b[0m\n\u001b[1;33m    for j in range(n-1):\u001b[0m\n\u001b[1;37m    ^\u001b[0m\n\u001b[1;31mIndentationError\u001b[0m\u001b[1;31m:\u001b[0m unindent does not match any outer indentation level\n"
     ]
    }
   ],
   "source": [
    "n=int(input(\"enter the value of n:\"))\n",
    "'''m=int(input(\"enter the value of m:\"))'''\n",
    "for i in range(n):\n",
    "    print(\"*\",end='')\n",
    "  for j in range(n-1):\n",
    "      print(\"*\",end='')"
   ]
  },
  {
   "cell_type": "code",
   "execution_count": 50,
   "id": "6718e4a8-66fb-4715-b7d7-1745b318dd88",
   "metadata": {},
   "outputs": [
    {
     "name": "stdout",
     "output_type": "stream",
     "text": [
      "6\n",
      "5\n",
      "6\n",
      "10\n"
     ]
    }
   ],
   "source": [
    "fruits=['orange','apple','banana','strawberry']\n",
    "for fruit in fruits:\n",
    "          print(len(fruit))"
   ]
  },
  {
   "cell_type": "code",
   "execution_count": 53,
   "id": "e0356b64-ce93-49bd-a9c8-5157ac57c2a1",
   "metadata": {},
   "outputs": [
    {
     "data": {
      "text/plain": [
       "[6, 5, 6, 10]"
      ]
     },
     "execution_count": 53,
     "metadata": {},
     "output_type": "execute_result"
    }
   ],
   "source": [
    "[len(fruit) for fruit in fruits]"
   ]
  },
  {
   "cell_type": "code",
   "execution_count": 1,
   "id": "c9b93f7a-fa84-4875-bf9e-a7570eafb658",
   "metadata": {},
   "outputs": [
    {
     "name": "stdin",
     "output_type": "stream",
     "text": [
      "Enter a number to print its multiplication table:  5\n",
      "Enter the range for the multiplication table (default is 10):  10\n"
     ]
    },
    {
     "name": "stdout",
     "output_type": "stream",
     "text": [
      "Multiplication table for 5:\n",
      "5 x 1 = 5\n",
      "5 x 2 = 10\n",
      "5 x 3 = 15\n",
      "5 x 4 = 20\n",
      "5 x 5 = 25\n",
      "5 x 6 = 30\n",
      "5 x 7 = 35\n",
      "5 x 8 = 40\n",
      "5 x 9 = 45\n",
      "5 x 10 = 50\n"
     ]
    }
   ],
   "source": [
    "# Function to print multiplication table\n",
    "def print_multiplication_table(n, upto=10):\n",
    "    print(f\"Multiplication table for {n}:\")\n",
    "    for i in range(1, upto + 1):\n",
    "        print(f\"{n} x {i} = {n * i}\")\n",
    "\n",
    "# Input number\n",
    "number = int(input(\"Enter a number to print its multiplication table: \"))\n",
    "# Input table range (optional)\n",
    "table_range = input(\"Enter the range for the multiplication table (default is 10): \")\n",
    "if table_range:\n",
    "    table_range = int(table_range)\n",
    "else:\n",
    "    table_range = 10\n",
    "\n",
    "# Print the multiplication table\n",
    "print_multiplication_table(number, table_range)\n"
   ]
  },
  {
   "cell_type": "code",
   "execution_count": 7,
   "id": "bbd53266-88f7-473f-a2d5-831cdbb10a60",
   "metadata": {},
   "outputs": [
    {
     "name": "stdout",
     "output_type": "stream",
     "text": [
      "1,2,3,45,5,"
     ]
    }
   ],
   "source": [
    "seq=[1,2,3,45,5]\n",
    "for i in seq:\n",
    "    print(i,end=',')"
   ]
  },
  {
   "cell_type": "code",
   "execution_count": 9,
   "id": "89e3ac8e-73ef-4a97-ba6d-bb4224329e00",
   "metadata": {},
   "outputs": [
    {
     "name": "stdout",
     "output_type": "stream",
     "text": [
      "1\n",
      "2\n",
      "3\n",
      "45\n",
      "5\n"
     ]
    }
   ],
   "source": [
    "seq=[1,2,3,45,5]\n",
    "for item in seq:\n",
    "    print(item)"
   ]
  },
  {
   "cell_type": "code",
   "execution_count": 10,
   "id": "5c052e5d-5ba9-4d4d-9c35-ccab85101932",
   "metadata": {},
   "outputs": [
    {
     "name": "stdout",
     "output_type": "stream",
     "text": [
      "apple\n",
      "mango\n",
      "grapes\n",
      "coconut\n"
     ]
    }
   ],
   "source": [
    "fruits=['apple','mango','grapes','coconut']\n",
    "for item in fruits:\n",
    "    print(item)"
   ]
  },
  {
   "cell_type": "code",
   "execution_count": 12,
   "id": "e96a3a85-597c-4f4e-b62b-8d908926ed74",
   "metadata": {},
   "outputs": [
    {
     "name": "stdout",
     "output_type": "stream",
     "text": [
      "0 values\n",
      "1 values\n",
      "2 values\n",
      "3 values\n",
      "4 values\n",
      "5 values\n",
      "6 values\n",
      "7 values\n",
      "8 values\n"
     ]
    }
   ],
   "source": [
    "for i in range(9):\n",
    "    print(i,\"values\")"
   ]
  },
  {
   "cell_type": "code",
   "execution_count": 13,
   "id": "88dfcb24-961a-44c6-aeb2-4147f27eee58",
   "metadata": {},
   "outputs": [
    {
     "name": "stdout",
     "output_type": "stream",
     "text": [
      "0 1 2 3 4 5 6 7 8 9 "
     ]
    }
   ],
   "source": [
    "for i in range(0,10):\n",
    "    print(i,end=' ')"
   ]
  },
  {
   "cell_type": "code",
   "execution_count": 14,
   "id": "2f2b1ac7-a7a6-4f72-960d-b2570202bdf9",
   "metadata": {},
   "outputs": [
    {
     "name": "stdout",
     "output_type": "stream",
     "text": [
      "0\n",
      "1\n",
      "2\n",
      "3\n",
      "4\n",
      "5\n",
      "6\n",
      "7\n",
      "8\n",
      "9\n",
      "10\n",
      "11\n",
      "12\n",
      "13\n",
      "14\n",
      "15\n",
      "16\n",
      "17\n",
      "18\n",
      "19\n",
      "20\n",
      "21\n",
      "22\n",
      "23\n",
      "24\n",
      "25\n",
      "26\n",
      "27\n",
      "28\n",
      "29\n",
      "30\n",
      "31\n",
      "32\n",
      "33\n",
      "34\n",
      "35\n",
      "36\n",
      "37\n",
      "38\n",
      "39\n",
      "40\n",
      "41\n",
      "42\n",
      "43\n",
      "44\n",
      "45\n",
      "46\n",
      "47\n",
      "48\n",
      "49\n",
      "50\n",
      "51\n",
      "52\n",
      "53\n",
      "54\n",
      "55\n",
      "56\n",
      "57\n",
      "58\n",
      "59\n",
      "60\n",
      "61\n",
      "62\n",
      "63\n",
      "64\n",
      "65\n",
      "66\n",
      "67\n",
      "68\n",
      "69\n",
      "70\n",
      "71\n",
      "72\n",
      "73\n",
      "74\n",
      "75\n",
      "76\n",
      "77\n",
      "78\n",
      "79\n",
      "80\n",
      "81\n",
      "82\n",
      "83\n",
      "84\n",
      "85\n",
      "86\n",
      "87\n",
      "88\n",
      "89\n",
      "90\n",
      "91\n",
      "92\n",
      "93\n",
      "94\n",
      "95\n",
      "96\n",
      "97\n",
      "98\n",
      "99\n"
     ]
    }
   ],
   "source": [
    "for i in range(0,100):\n",
    "    print(i)"
   ]
  },
  {
   "cell_type": "code",
   "execution_count": 18,
   "id": "28891b2c-7dd2-4aa0-bd56-659d2125c3fb",
   "metadata": {},
   "outputs": [
    {
     "name": "stdout",
     "output_type": "stream",
     "text": [
      "0 2 4 6 8 10 12 14 16 18 20 22 24 26 28 30 32 34 36 38 40 42 44 46 48 50 52 54 56 58 60 62 64 66 68 70 72 74 76 78 80 82 84 86 88 90 92 94 96 98 "
     ]
    }
   ],
   "source": [
    "for i in range(0,100,2):\n",
    "    print(i,end=\" \")"
   ]
  },
  {
   "cell_type": "code",
   "execution_count": 24,
   "id": "cdf59692-b606-4de2-8e3f-5133f9b039d7",
   "metadata": {},
   "outputs": [
    {
     "name": "stdout",
     "output_type": "stream",
     "text": [
      "item at index 0 is: a\n",
      "item at index 1 is: b\n",
      "item at index 2 is: c\n",
      "item at index 3 is: d\n",
      "item at index 4 is: e\n"
     ]
    }
   ],
   "source": [
    "p=['a','b','c','d','e']\n",
    "for i in range(len(p)):\n",
    "    print(\"item at index\",i,\"is:\",p[i])"
   ]
  },
  {
   "cell_type": "code",
   "execution_count": 26,
   "id": "61b0551e-61af-4acd-bbc8-6181c5751234",
   "metadata": {},
   "outputs": [
    {
     "name": "stdout",
     "output_type": "stream",
     "text": [
      "0\n",
      "1\n",
      "3\n",
      "6\n",
      "10\n",
      "15\n",
      "21\n"
     ]
    }
   ],
   "source": [
    "a=[0,1,2,3,4,5,6]\n",
    "sum=0\n",
    "for i in a:\n",
    "    sum=sum+i\n",
    "    print(sum)"
   ]
  },
  {
   "cell_type": "code",
   "execution_count": 27,
   "id": "d764fe0d-38b8-4e73-9cbe-aeb43910dcd2",
   "metadata": {},
   "outputs": [
    {
     "name": "stdout",
     "output_type": "stream",
     "text": [
      "after 0 iteration the sum is: 0\n",
      "after 1 iteration the sum is: 1\n",
      "after 2 iteration the sum is: 3\n",
      "after 3 iteration the sum is: 6\n",
      "after 4 iteration the sum is: 10\n",
      "after 5 iteration the sum is: 15\n",
      "after 6 iteration the sum is: 21\n"
     ]
    }
   ],
   "source": [
    "a=[0,1,2,3,4,5,6]\n",
    "sum=0\n",
    "for i in a:\n",
    "    sum=sum+i\n",
    "    print(\"after\",i,\"iteration the sum is:\",sum)"
   ]
  },
  {
   "cell_type": "code",
   "execution_count": 38,
   "id": "54dd1feb-0ab0-4c63-b625-efe0edbbca6d",
   "metadata": {},
   "outputs": [
    {
     "name": "stdout",
     "output_type": "stream",
     "text": [
      "i like  pkd\n"
     ]
    }
   ],
   "source": [
    "name=['sakkina','pkd','rimmi']\n",
    "for i in range(1,2):\n",
    "    print(\"i like \",name[i])"
   ]
  },
  {
   "cell_type": "code",
   "execution_count": 40,
   "id": "0832a0f8-0cd5-4959-88d0-1932ed87b499",
   "metadata": {},
   "outputs": [
    {
     "name": "stdin",
     "output_type": "stream",
     "text": [
      "enter the lower bound value 1\n",
      "enter the upper bound value 6\n"
     ]
    },
    {
     "name": "stdout",
     "output_type": "stream",
     "text": [
      "2 4 6 "
     ]
    }
   ],
   "source": [
    "lb=int(input(\"enter the lower bound value\"))\n",
    "ub=int(input(\"enter the upper bound value\"))\n",
    "for i in range(lb,ub+1):\n",
    "    if i%2==0:\n",
    "        print(i,end=\" \")"
   ]
  },
  {
   "cell_type": "code",
   "execution_count": 11,
   "id": "9b475341-1e6c-4207-8580-271c031c6ae2",
   "metadata": {},
   "outputs": [
    {
     "name": "stdin",
     "output_type": "stream",
     "text": [
      "enter n value: 5\n"
     ]
    },
    {
     "name": "stdout",
     "output_type": "stream",
     "text": [
      "*****"
     ]
    }
   ],
   "source": [
    "n=int(input(\"enter n value:\"))\n",
    "for i in range(n):\n",
    "    print(\"*\",end=\"\")"
   ]
  },
  {
   "cell_type": "code",
   "execution_count": 17,
   "id": "a1813c28-7bee-43c0-8828-6b7827872717",
   "metadata": {},
   "outputs": [
    {
     "ename": "IndentationError",
     "evalue": "unindent does not match any outer indentation level (<tokenize>, line 7)",
     "output_type": "error",
     "traceback": [
      "\u001b[1;36m  File \u001b[1;32m<tokenize>:7\u001b[1;36m\u001b[0m\n\u001b[1;33m    print(\\n)\u001b[0m\n\u001b[1;37m    ^\u001b[0m\n\u001b[1;31mIndentationError\u001b[0m\u001b[1;31m:\u001b[0m unindent does not match any outer indentation level\n"
     ]
    }
   ],
   "source": [
    "n=int(input(\"enter the number of rows\"))\n",
    "for i in range(n):\n",
    "    for j in range(n-i-1):\n",
    "        print(\" \",end=\"\")\n",
    "        for j in range(i+1):\n",
    "            print(\"*\",end=\" \")\n",
    "     print(\\n)"
   ]
  },
  {
   "cell_type": "code",
   "execution_count": 43,
   "id": "6ad3e263-27e7-4d7e-995e-27ea83fe9949",
   "metadata": {},
   "outputs": [
    {
     "name": "stdin",
     "output_type": "stream",
     "text": [
      "enter the lower bound value 1\n",
      "enter the upper bound value 6\n"
     ]
    },
    {
     "name": "stdout",
     "output_type": "stream",
     "text": [
      "2 4 6 \n",
      "sum is 12\n"
     ]
    }
   ],
   "source": [
    "lb=int(input(\"enter the lower bound value\"))\n",
    "ub=int(input(\"enter the upper bound value\"))\n",
    "s=0\n",
    "for i in range(lb,ub+1):\n",
    "    if i%2==0:\n",
    "        s=s+i\n",
    "        print(i,end=\" \")\n",
    "print('\\nsum is',s)"
   ]
  },
  {
   "cell_type": "code",
   "execution_count": 45,
   "id": "60d3221c-57be-4f8e-8b21-c7c1ac62a954",
   "metadata": {},
   "outputs": [
    {
     "name": "stdout",
     "output_type": "stream",
     "text": [
      "5,15,25,35,45,55,65,75,85,95,"
     ]
    }
   ],
   "source": [
    "for i in range(1,100):\n",
    "    if i%5==0 and i%2!=0:\n",
    "        print(i,end=',')\n",
    "    "
   ]
  },
  {
   "cell_type": "code",
   "execution_count": 47,
   "id": "93e7cad0-3955-49b6-9bb1-d3f2add203f0",
   "metadata": {},
   "outputs": [
    {
     "name": "stdin",
     "output_type": "stream",
     "text": [
      "enter the value of n: 5\n"
     ]
    },
    {
     "name": "stdout",
     "output_type": "stream",
     "text": [
      "5 X 1 = 5\n",
      "5 X 2 = 10\n",
      "5 X 3 = 15\n",
      "5 X 4 = 20\n",
      "5 X 5 = 25\n",
      "5 X 6 = 30\n",
      "5 X 7 = 35\n",
      "5 X 8 = 40\n",
      "5 X 9 = 45\n",
      "5 X 10 = 50\n"
     ]
    }
   ],
   "source": [
    "a=int(input(\"enter the value of n:\"))\n",
    "for i in range(1,11):\n",
    "    print(a,'X',i,'=',a*i)"
   ]
  },
  {
   "cell_type": "code",
   "execution_count": 52,
   "id": "36b48cb8-74a0-48fe-8b0a-68e62ad26593",
   "metadata": {},
   "outputs": [
    {
     "name": "stdin",
     "output_type": "stream",
     "text": [
      "enter the value of n: 5\n"
     ]
    },
    {
     "name": "stdout",
     "output_type": "stream",
     "text": [
      "******************************"
     ]
    }
   ],
   "source": [
    "a=int(input(\"enter the value of n:\"))\n",
    "for i in range(n):\n",
    "    for j in range(n+1,):\n",
    "        print(\"*\",end='')"
   ]
  },
  {
   "cell_type": "code",
   "execution_count": 9,
   "id": "5e9d3cee-c5f0-40f1-9116-93f8fd690cfc",
   "metadata": {},
   "outputs": [
    {
     "name": "stdin",
     "output_type": "stream",
     "text": [
      "enter the number of rows 5\n"
     ]
    },
    {
     "name": "stdout",
     "output_type": "stream",
     "text": [
      " * \n",
      " * \n",
      " * \n",
      " * \n",
      " * * \n",
      " * * \n",
      " * * \n",
      " * * * \n",
      " * * * \n",
      " * * * * \n"
     ]
    }
   ],
   "source": [
    "n=int(input(\"enter the number of rows\"))\n",
    "for i in range(n):\n",
    "    for j in range(n-i-1):\n",
    "        print(\" \",end=\"\")\n",
    "        for j in range(i+1): \n",
    "            print(\"*\",end=' ')\n",
    "        print()"
   ]
  },
  {
   "cell_type": "code",
   "execution_count": 10,
   "id": "341372ea-9625-4060-a37e-5e0f6a8cd448",
   "metadata": {},
   "outputs": [
    {
     "name": "stdin",
     "output_type": "stream",
     "text": [
      "enter the value of n: 5\n"
     ]
    },
    {
     "name": "stdout",
     "output_type": "stream",
     "text": [
      " ************************\n",
      " *************** ***************\n",
      " ******** ******** ********\n",
      " *** *** *** ***\n",
      "     \n"
     ]
    }
   ],
   "source": [
    "n=int(input(\"enter the value of n:\"))\n",
    "for i in range(n):\n",
    "    for j in range(i+1):\n",
    "        print(\" \",end=\"\")\n",
    "        for j in range(i,n-1):\n",
    "            print('*',end='')\n",
    "            for j in range(i,n):\n",
    "                print('*',end=\"\")\n",
    "    print()"
   ]
  },
  {
   "cell_type": "code",
   "execution_count": 6,
   "id": "6fe77e14-6de7-49ed-b596-d53379d34595",
   "metadata": {},
   "outputs": [],
   "source": [
    "numbers=[1,2,3,4]\n",
    "for num in numbers:\n",
    "    if num==4:\n",
    "        break\n",
    "        print(num)"
   ]
  },
  {
   "cell_type": "code",
   "execution_count": null,
   "id": "92a6db7e-d503-407d-962a-5e887646c979",
   "metadata": {},
   "outputs": [],
   "source": []
  }
 ],
 "metadata": {
  "kernelspec": {
   "display_name": "Python 3 (ipykernel)",
   "language": "python",
   "name": "python3"
  },
  "language_info": {
   "codemirror_mode": {
    "name": "ipython",
    "version": 3
   },
   "file_extension": ".py",
   "mimetype": "text/x-python",
   "name": "python",
   "nbconvert_exporter": "python",
   "pygments_lexer": "ipython3",
   "version": "3.11.7"
  }
 },
 "nbformat": 4,
 "nbformat_minor": 5
}
