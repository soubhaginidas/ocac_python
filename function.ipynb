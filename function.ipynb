{
 "cells": [
  {
   "cell_type": "markdown",
   "id": "d88c7e43-e72d-4e60-b03a-4364b14bc013",
   "metadata": {},
   "source": [
    "function in python:-\n",
    "1.built-in function\n",
    "2.user-defined function\n",
    "  .function declaration/create\n",
    "  .function call\n",
    "  function_name(argument/parameter):\n",
    "  1.no argument\n",
    "  2.one argument(fixed)\n",
    "  3.multiple argument"
   ]
  },
  {
   "cell_type": "code",
   "execution_count": 1,
   "id": "fcb1b212-e6eb-4863-9a95-41d0ad0ad293",
   "metadata": {},
   "outputs": [
    {
     "data": {
      "text/plain": [
       "(1, 2)"
      ]
     },
     "execution_count": 1,
     "metadata": {},
     "output_type": "execute_result"
    }
   ],
   "source": [
    "divmod(6,4) #print quotient and reminder as a tuple"
   ]
  },
  {
   "cell_type": "code",
   "execution_count": 2,
   "id": "75d1a12c-4a54-4d48-b946-aea7eff611a5",
   "metadata": {},
   "outputs": [],
   "source": [
    "#check even or odd number\n",
    "def evenodd_num(num):\n",
    "    '''check even or odd number with no argument'''\n",
    "    if num%2==0:\n",
    "         print(\"number is even\")\n",
    "    else:\n",
    "        print(\"number is odd\")"
   ]
  },
  {
   "cell_type": "code",
   "execution_count": 3,
   "id": "e206ef56-7500-4874-896d-83d62abcb5a7",
   "metadata": {},
   "outputs": [
    {
     "name": "stdout",
     "output_type": "stream",
     "text": [
      "number is even\n"
     ]
    }
   ],
   "source": [
    "evenodd_num(6)"
   ]
  },
  {
   "cell_type": "code",
   "execution_count": 30,
   "id": "12c9a960-10c9-4df2-a8b9-81df5890c5ef",
   "metadata": {},
   "outputs": [],
   "source": [
    "def evenodd_num():\n",
    "    '''check even or odd number'''\n",
    "    num=int(input(\"enter value of num:\"))\n",
    "    if num%2==0:\n",
    "        print(\"number is even\")\n",
    "    else:\n",
    "        print(\"number is odd\")"
   ]
  },
  {
   "cell_type": "code",
   "execution_count": 31,
   "id": "fe9d61de-db52-45a8-823a-22869e0e4351",
   "metadata": {},
   "outputs": [
    {
     "name": "stdin",
     "output_type": "stream",
     "text": [
      "enter value of num: 45\n"
     ]
    },
    {
     "name": "stdout",
     "output_type": "stream",
     "text": [
      "number is odd\n"
     ]
    }
   ],
   "source": [
    "evenodd_num()"
   ]
  },
  {
   "cell_type": "code",
   "execution_count": 34,
   "id": "52a9dc3f-9c52-4e06-96ab-cf8aa94e0ce5",
   "metadata": {},
   "outputs": [],
   "source": [
    "def evenodd_num():\n",
    "    '''check even or odd number'''\n",
    "    num1=int(input(\"enter value of num1:\"))\n",
    "    num2=int(input(\"enter value of num2:\"))\n",
    "    sum=num1+num2\n",
    "    if sum%2==0:\n",
    "        print(\"number\",sum,\" is even\")\n",
    "    else:\n",
    "        print(\"number\",sum,\" is odd\")"
   ]
  },
  {
   "cell_type": "code",
   "execution_count": 35,
   "id": "22e97c4a-1a9f-4a04-b289-b6201db4fbbb",
   "metadata": {},
   "outputs": [
    {
     "name": "stdin",
     "output_type": "stream",
     "text": [
      "enter value of num1: 12\n",
      "enter value of num2: 23\n"
     ]
    },
    {
     "name": "stdout",
     "output_type": "stream",
     "text": [
      "number 35  is odd\n"
     ]
    }
   ],
   "source": [
    "evenodd_num()"
   ]
  },
  {
   "cell_type": "code",
   "execution_count": 42,
   "id": "8183a414-96f9-43df-a01f-05e82ad17a7c",
   "metadata": {},
   "outputs": [],
   "source": [
    "def evenodd_number(num1=9,num2=7):\n",
    "'''check even or odd number with no argument'''\n",
    "    sum=num1+num2\n",
    "    if sum%2==0:\n",
    "         print(\"number is even\")\n",
    "    else:\n",
    "        print(\"number is odd\")"
   ]
  },
  {
   "cell_type": "code",
   "execution_count": 44,
   "id": "406ae6c5-3bdc-4e30-a6a1-926de060076f",
   "metadata": {},
   "outputs": [
    {
     "name": "stdout",
     "output_type": "stream",
     "text": [
      "number is even\n"
     ]
    }
   ],
   "source": [
    "evenodd_number()"
   ]
  },
  {
   "cell_type": "code",
   "execution_count": 45,
   "id": "765bf26f-e2d3-4f55-92d8-1c80e9b6e713",
   "metadata": {},
   "outputs": [],
   "source": [
    "def evenodd_number(num1,num2):\n",
    "    '''check even or odd number with no argument'''\n",
    "    sum=num1+num2\n",
    "    if sum%2==0:\n",
    "         print(\"number is even\")\n",
    "    else:\n",
    "        print(\"number is odd\")"
   ]
  },
  {
   "cell_type": "code",
   "execution_count": 46,
   "id": "ef8848bd-abcb-4e28-bb82-8437c4f7f124",
   "metadata": {},
   "outputs": [
    {
     "name": "stdout",
     "output_type": "stream",
     "text": [
      "number is even\n"
     ]
    }
   ],
   "source": [
    "evenodd_number(5,9)"
   ]
  },
  {
   "cell_type": "code",
   "execution_count": 61,
   "id": "9bed797f-104b-4c44-aa97-bc1048c4299e",
   "metadata": {},
   "outputs": [],
   "source": [
    "def factorial_number():\n",
    "   # n=int(input(\"enter the value of n:\"))\n",
    "    n=5\n",
    "    if n<0:\n",
    "        print(\"not defined\")\n",
    "    elif n==0:\n",
    "        print(\"factorial is 1\")\n",
    "    elif n>=1:\n",
    "        fact=1\n",
    "        for i in range(1,n+1):\n",
    "            fact=fact*1\n",
    "        print('the factotial number is',factorial_number)"
   ]
  },
  {
   "cell_type": "code",
   "execution_count": 62,
   "id": "75c3d501-2771-4c70-b5fa-bb58fde8857d",
   "metadata": {},
   "outputs": [
    {
     "name": "stdout",
     "output_type": "stream",
     "text": [
      "the factotial number is <function factorial_number at 0x00000173137163E0>\n"
     ]
    }
   ],
   "source": [
    "factorial_number()"
   ]
  },
  {
   "cell_type": "code",
   "execution_count": 53,
   "id": "2e2eb0c2-7de9-4f2a-a8b7-abb9235b890a",
   "metadata": {},
   "outputs": [],
   "source": [
    "def double():\n",
    "    n=int(input(\"enter the value of n:\"))\n",
    "    return n**2"
   ]
  },
  {
   "cell_type": "code",
   "execution_count": 56,
   "id": "140ae927-61ab-4a88-9d06-87bd1b362407",
   "metadata": {},
   "outputs": [
    {
     "name": "stdin",
     "output_type": "stream",
     "text": [
      "enter the value of n: 3\n"
     ]
    },
    {
     "data": {
      "text/plain": [
       "9"
      ]
     },
     "execution_count": 56,
     "metadata": {},
     "output_type": "execute_result"
    }
   ],
   "source": [
    " double()"
   ]
  },
  {
   "cell_type": "code",
   "execution_count": 1,
   "id": "d2f011ae-fb99-41a3-9918-3acf83b3b51b",
   "metadata": {},
   "outputs": [],
   "source": [
    "def abc():\n",
    "    n=int(input(\"enter the value of n:\"))\n",
    "    a= n**2\n",
    "    return a"
   ]
  },
  {
   "cell_type": "code",
   "execution_count": null,
   "id": "a23a16df-04da-4c30-88c1-53ad50a3c77d",
   "metadata": {},
   "outputs": [],
   "source": [
    " abc()"
   ]
  },
  {
   "cell_type": "markdown",
   "id": "44ca2c61-6412-4cd7-a66a-6820c5f5cee0",
   "metadata": {},
   "source": [
    "function argument"
   ]
  },
  {
   "cell_type": "code",
   "execution_count": 1,
   "id": "d5d02d61-2b82-4dcd-a1c2-1042a05604e3",
   "metadata": {},
   "outputs": [],
   "source": [
    "def multiply(a,b):\n",
    "    return a*b"
   ]
  },
  {
   "cell_type": "code",
   "execution_count": 2,
   "id": "cf537edc-b724-4884-8a3b-e2a570f52800",
   "metadata": {},
   "outputs": [
    {
     "data": {
      "text/plain": [
       "6"
      ]
     },
     "execution_count": 2,
     "metadata": {},
     "output_type": "execute_result"
    }
   ],
   "source": [
    " multiply(2,3)"
   ]
  },
  {
   "cell_type": "code",
   "execution_count": 7,
   "id": "763b1617-21cd-47fd-a34d-91ee64e5010d",
   "metadata": {},
   "outputs": [],
   "source": [
    "def multiply(a,b):\n",
    "    a=int(input(\"enter the value of a\"))\n",
    "    b=int(input(\"enter the value of b\"))\n",
    "    mul=a*b\n",
    "    print(\"The multiplication of {} & {} is {}\".format(a,b,mul))"
   ]
  },
  {
   "cell_type": "code",
   "execution_count": 9,
   "id": "70b44daa-a213-4df6-8525-1554558eed42",
   "metadata": {},
   "outputs": [
    {
     "name": "stdin",
     "output_type": "stream",
     "text": [
      "enter the value of a 5\n",
      "enter the value of b 6\n"
     ]
    },
    {
     "name": "stdout",
     "output_type": "stream",
     "text": [
      "The multiplication of 5 & 6 is 30\n"
     ]
    }
   ],
   "source": [
    "multiply(2,3)"
   ]
  },
  {
   "cell_type": "code",
   "execution_count": 10,
   "id": "b475c424-c019-4533-9a8f-15668ac1ceb7",
   "metadata": {},
   "outputs": [],
   "source": [
    "def multiply():\n",
    "    a=int(input(\"enter the value of a\"))\n",
    "    b=int(input(\"enter the value of b\"))\n",
    "    mul=a*b\n",
    "    print(\"The multiplication of {} & {} is {}\".format(a,b,mul))"
   ]
  },
  {
   "cell_type": "code",
   "execution_count": 11,
   "id": "b52dfe76-fa5b-4a85-8b68-55609e1bb318",
   "metadata": {},
   "outputs": [
    {
     "name": "stdin",
     "output_type": "stream",
     "text": [
      "enter the value of a 2\n",
      "enter the value of b 3\n"
     ]
    },
    {
     "name": "stdout",
     "output_type": "stream",
     "text": [
      "The multiplication of 2 & 3 is 6\n"
     ]
    }
   ],
   "source": [
    "multiply()"
   ]
  },
  {
   "cell_type": "code",
   "execution_count": 12,
   "id": "83b0e99d-244f-4dea-be73-75db5d64f943",
   "metadata": {},
   "outputs": [],
   "source": [
    "def multiply(a=3,b=5):\n",
    "    mul=a*b\n",
    "    print(\"The multiplication of {} & {} is {}\".format(a,b,mul))"
   ]
  },
  {
   "cell_type": "code",
   "execution_count": 13,
   "id": "63312d27-2d2a-4e92-b4d9-ac7cc7ecd975",
   "metadata": {},
   "outputs": [
    {
     "name": "stdout",
     "output_type": "stream",
     "text": [
      "The multiplication of 3 & 5 is 15\n"
     ]
    }
   ],
   "source": [
    "multiply()"
   ]
  },
  {
   "cell_type": "code",
   "execution_count": 14,
   "id": "f1cc706f-5a59-4e0e-9ef8-4ca56a783b27",
   "metadata": {},
   "outputs": [],
   "source": [
    "def multiply(c,a=3,b=5):\n",
    "    mul=(a*b)+c\n",
    "    print(\"The multiplication of {} & {} is {}\".format(a,b,mul))"
   ]
  },
  {
   "cell_type": "code",
   "execution_count": 17,
   "id": "74af32f4-56fd-49bf-adea-d6e6f66daa3f",
   "metadata": {},
   "outputs": [
    {
     "name": "stdout",
     "output_type": "stream",
     "text": [
      "The multiplication of 4 & 5 is 22\n"
     ]
    }
   ],
   "source": [
    "multiply(2,4)"
   ]
  },
  {
   "cell_type": "markdown",
   "id": "3319b663-aa55-403a-b01e-faf25a7c84b3",
   "metadata": {},
   "source": [
    "keyword argument"
   ]
  },
  {
   "cell_type": "code",
   "execution_count": 30,
   "id": "92deabbe-2978-40cd-9109-b713b8d5768d",
   "metadata": {},
   "outputs": [
    {
     "name": "stdout",
     "output_type": "stream",
     "text": [
      "hello pkd, don't want to say anything\n"
     ]
    }
   ],
   "source": [
    "def greet(**massage):#** is used for taking multiple parameter\n",
    "    if massage:\n",
    "        print(\"hello {}, {}\".format(massage['name'],massage['msg']))\n",
    "greet(name=\"pkd\",msg=\"don't want to say anything\")"
   ]
  },
  {
   "cell_type": "code",
   "execution_count": 28,
   "id": "1003fbe0-5a3d-445a-8925-03fb43d6011c",
   "metadata": {},
   "outputs": [
    {
     "name": "stdout",
     "output_type": "stream",
     "text": [
      "hello sakkina, good afternoon!!\n"
     ]
    }
   ],
   "source": [
    "greet(name=\"sakkina\",msg=\"good afternoon!!\")"
   ]
  },
  {
   "cell_type": "code",
   "execution_count": 29,
   "id": "8e5f1dd3-130a-4087-8239-64339cff5a1a",
   "metadata": {},
   "outputs": [
    {
     "name": "stdout",
     "output_type": "stream",
     "text": [
      "hello neuli sagarika, good morning\n"
     ]
    }
   ],
   "source": [
    "greet(name=\"neuli sagarika\",msg=\"good morning\")"
   ]
  },
  {
   "cell_type": "markdown",
   "id": "dd244a20-21fa-4cfc-81a3-96729ceb6712",
   "metadata": {},
   "source": [
    "Arbitary Argument"
   ]
  },
  {
   "cell_type": "code",
   "execution_count": 31,
   "id": "dd357ff4-fc52-4fc0-b0ae-77949d6e6837",
   "metadata": {},
   "outputs": [],
   "source": [
    "def greet(*names):\n",
    "    print(names)\n",
    "    for name in names:\n",
    "        print(\"hello,{0}\".format(name))"
   ]
  },
  {
   "cell_type": "code",
   "execution_count": 32,
   "id": "c01cc839-d3b5-4fd2-a87d-077e6648d3a3",
   "metadata": {},
   "outputs": [
    {
     "name": "stdout",
     "output_type": "stream",
     "text": [
      "('sakina', 'sagarika')\n",
      "hello,sakina\n",
      "hello,sagarika\n"
     ]
    }
   ],
   "source": [
    "greet(\"sakina\",\"sagarika\")"
   ]
  },
  {
   "cell_type": "code",
   "execution_count": 1,
   "id": "ff5caa1c-475f-4cff-9d5c-4ecb4e4d8862",
   "metadata": {},
   "outputs": [],
   "source": [
    "def double(num):\n",
    "    '''\n",
    "    whatever the number you enter..it just double the number\n",
    "    '''\n",
    "    return 2*num"
   ]
  },
  {
   "cell_type": "code",
   "execution_count": 2,
   "id": "abd91c4a-7f88-4989-b278-316f32ae5658",
   "metadata": {},
   "outputs": [
    {
     "data": {
      "text/plain": [
       "10"
      ]
     },
     "execution_count": 2,
     "metadata": {},
     "output_type": "execute_result"
    }
   ],
   "source": [
    "double(5)"
   ]
  },
  {
   "cell_type": "code",
   "execution_count": 3,
   "id": "b4496c7e-91cf-42ed-838b-ac6349b8fbd9",
   "metadata": {},
   "outputs": [
    {
     "name": "stdout",
     "output_type": "stream",
     "text": [
      "\n",
      "    whatever the number you enter..it just double the number\n",
      "    \n"
     ]
    }
   ],
   "source": [
    "print(double.__doc__)"
   ]
  },
  {
   "cell_type": "code",
   "execution_count": 4,
   "id": "7f10ca9a-09a3-4ecc-983a-cf0003e11e38",
   "metadata": {},
   "outputs": [],
   "source": [
    "def double(num):\n",
    "    return 2*int(num)"
   ]
  },
  {
   "cell_type": "code",
   "execution_count": 5,
   "id": "ca0e8b77-485a-41a7-b349-35a282712e0e",
   "metadata": {},
   "outputs": [
    {
     "data": {
      "text/plain": [
       "8"
      ]
     },
     "execution_count": 5,
     "metadata": {},
     "output_type": "execute_result"
    }
   ],
   "source": [
    "double(4.9)"
   ]
  },
  {
   "cell_type": "code",
   "execution_count": 6,
   "id": "5e4db96f-2ccd-4fe3-9dc4-be8bf5dc8eeb",
   "metadata": {},
   "outputs": [
    {
     "data": {
      "text/plain": [
       "6"
      ]
     },
     "execution_count": 6,
     "metadata": {},
     "output_type": "execute_result"
    }
   ],
   "source": [
    "double(3.1)"
   ]
  },
  {
   "cell_type": "code",
   "execution_count": 7,
   "id": "7dbc6380-7ae2-4e46-94d4-6aa0579aeffd",
   "metadata": {},
   "outputs": [],
   "source": [
    "def sub(num1,num2):\n",
    "    num1=int(input(\"enter the value of num1\"))\n",
    "    num2=int(input(\"enter the value of num2\"))\n",
    "    return num1-num2"
   ]
  },
  {
   "cell_type": "code",
   "execution_count": 9,
   "id": "ffda7c51-a9ff-4edb-8736-a3240e285a74",
   "metadata": {},
   "outputs": [
    {
     "name": "stdin",
     "output_type": "stream",
     "text": [
      "enter the value of num1 5\n",
      "enter the value of num2 6\n"
     ]
    },
    {
     "data": {
      "text/plain": [
       "-1"
      ]
     },
     "execution_count": 9,
     "metadata": {},
     "output_type": "execute_result"
    }
   ],
   "source": [
    "sub(2,3)"
   ]
  },
  {
   "cell_type": "code",
   "execution_count": 10,
   "id": "117a1ebf-652c-4cdd-a815-d3881e77912a",
   "metadata": {},
   "outputs": [],
   "source": [
    "def print_name(x):\n",
    "    print(\"hello\",x)"
   ]
  },
  {
   "cell_type": "code",
   "execution_count": 11,
   "id": "60749d87-96d2-44df-baca-007dd8db0a08",
   "metadata": {},
   "outputs": [
    {
     "name": "stdout",
     "output_type": "stream",
     "text": [
      "hello karina\n"
     ]
    }
   ],
   "source": [
    "print_name('karina')"
   ]
  },
  {
   "cell_type": "code",
   "execution_count": 12,
   "id": "1510d019-6318-4596-a95a-c74f940ae53c",
   "metadata": {},
   "outputs": [
    {
     "data": {
      "text/plain": [
       "23"
      ]
     },
     "execution_count": 12,
     "metadata": {},
     "output_type": "execute_result"
    }
   ],
   "source": [
    "def get_sum(lst):\n",
    "    sum=0\n",
    "    for num in lst:\n",
    "        sum+=num\n",
    "    return sum\n",
    "get_sum([2,6,7,8])"
   ]
  },
  {
   "cell_type": "code",
   "execution_count": null,
   "id": "9b4e9269-8f13-4372-905c-1ad68dae9c0b",
   "metadata": {},
   "outputs": [],
   "source": []
  }
 ],
 "metadata": {
  "kernelspec": {
   "display_name": "Python 3 (ipykernel)",
   "language": "python",
   "name": "python3"
  },
  "language_info": {
   "codemirror_mode": {
    "name": "ipython",
    "version": 3
   },
   "file_extension": ".py",
   "mimetype": "text/x-python",
   "name": "python",
   "nbconvert_exporter": "python",
   "pygments_lexer": "ipython3",
   "version": "3.11.7"
  }
 },
 "nbformat": 4,
 "nbformat_minor": 5
}
